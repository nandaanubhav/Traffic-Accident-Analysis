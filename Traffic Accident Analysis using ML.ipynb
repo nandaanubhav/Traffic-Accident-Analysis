{
 "cells": [
  {
   "cell_type": "markdown",
   "id": "9a691f71",
   "metadata": {},
   "source": [
    "# Project :- Traffic Accident Analysis Using Machine Learning "
   ]
  },
  {
   "cell_type": "markdown",
   "id": "bcf0b2bb",
   "metadata": {},
   "source": [
    "## Goal :- The goal of this project is the investigate what causes Serious and Fatal accidents in hopes of preventing and decreasing the number of them. "
   ]
  },
  {
   "cell_type": "markdown",
   "id": "0dcd7cf3",
   "metadata": {},
   "source": [
    "# # Importing and Data Merging"
   ]
  },
  {
   "cell_type": "code",
   "execution_count": 293,
   "id": "8c8a358e",
   "metadata": {},
   "outputs": [],
   "source": [
    "#Import modules\n",
    "import numpy as np\n",
    "\n",
    "import pandas as pd\n",
    "import seaborn as sns\n",
    "import pickle\n",
    "import time\n",
    "import timeit\n",
    "\n",
    "\n",
    "import matplotlib.pyplot as plt\n",
    "plt.style.use('dark_background')\n",
    "%matplotlib inline\n",
    "\n",
    "import datetime\n",
    "import math\n",
    "from collections import Counter\n",
    "\n",
    "#scipy\n",
    "import scipy.stats as stats\n",
    "from scipy import stats\n",
    "from scipy.stats import chi2_contingency\n",
    "\n",
    "#sklearn\n",
    "import sklearn\n",
    "from sklearn import ensemble\n",
    "from sklearn import preprocessing\n",
    "from sklearn.decomposition import PCA\n",
    "from sklearn.ensemble import AdaBoostClassifier, BaggingClassifier, ExtraTreesClassifier\n",
    "from sklearn.ensemble import RandomForestClassifier\n",
    "from sklearn.feature_selection import SelectFromModel\n",
    "from sklearn.impute import SimpleImputer\n",
    "from sklearn.linear_model import LogisticRegression\n",
    "from sklearn.metrics import accuracy_score, f1_score, precision_score, log_loss, recall_score \n",
    "from sklearn.metrics import classification_report, confusion_matrix, roc_auc_score\n",
    "from sklearn.model_selection import cross_val_score, GridSearchCV, train_test_split\n",
    "from sklearn.preprocessing import LabelEncoder, OneHotEncoder, StandardScaler, OrdinalEncoder\n",
    "from sklearn.tree import DecisionTreeClassifier\n",
    "from sklearn.utils import resample\n",
    "\n",
    "from sklearn import svm\n",
    "from sklearn.metrics import classification_report, confusion_matrix\n",
    "\n",
    "from sklearn.metrics import accuracy_score, f1_score, precision_score, recall_score \n",
    "\n",
    "#for clustering\n",
    "from sklearn.cluster import KMeans\n",
    "from sklearn.preprocessing import normalize\n",
    "from sklearn.decomposition import PCA\n",
    "from sklearn.cluster import MiniBatchKMeans\n",
    "from sklearn.metrics import silhouette_score\n",
    "\n",
    "\n",
    "#webscraping\n",
    "import requests\n",
    "from bs4 import BeautifulSoup\n",
    "import re\n",
    "import urllib\n",
    "from IPython.core.display import HTML\n",
    "\n",
    "#time series\n",
    "import statsmodels.api as sm\n",
    "from pylab import rcParams\n",
    "import itertools\n",
    "from statsmodels.tsa.stattools import adfuller\n",
    "from statsmodels.tsa.stattools import acf, pacf\n",
    "from statsmodels.tsa.seasonal import seasonal_decompose\n",
    "from statsmodels.tsa.arima_model import ARIMA\n",
    "\n",
    "\n",
    "#warning ignorer\n",
    "import warnings\n",
    "warnings.filterwarnings(\"ignore\")\n"
   ]
  },
  {
   "cell_type": "code",
   "execution_count": 7,
   "id": "15b3bc66",
   "metadata": {},
   "outputs": [],
   "source": [
    "#import files\n",
    "\n",
    "a_data = pd.read_csv('Accident_Information.csv', delimiter=',', quotechar='\"')\n",
    "v_data = pd.read_csv('Vehicle_Information.csv', delimiter=',', quotechar='\"', encoding= 'unicode_escape')"
   ]
  },
  {
   "cell_type": "code",
   "execution_count": 8,
   "id": "7050e4d9",
   "metadata": {},
   "outputs": [
    {
     "data": {
      "text/html": [
       "<div>\n",
       "<style scoped>\n",
       "    .dataframe tbody tr th:only-of-type {\n",
       "        vertical-align: middle;\n",
       "    }\n",
       "\n",
       "    .dataframe tbody tr th {\n",
       "        vertical-align: top;\n",
       "    }\n",
       "\n",
       "    .dataframe thead th {\n",
       "        text-align: right;\n",
       "    }\n",
       "</style>\n",
       "<table border=\"1\" class=\"dataframe\">\n",
       "  <thead>\n",
       "    <tr style=\"text-align: right;\">\n",
       "      <th></th>\n",
       "      <th>Accident_Index</th>\n",
       "      <th>Age_Band_of_Driver</th>\n",
       "      <th>Age_of_Vehicle</th>\n",
       "      <th>Driver_Home_Area_Type</th>\n",
       "      <th>Driver_IMD_Decile</th>\n",
       "      <th>Engine_Capacity_.CC.</th>\n",
       "      <th>Hit_Object_in_Carriageway</th>\n",
       "      <th>Hit_Object_off_Carriageway</th>\n",
       "      <th>Journey_Purpose_of_Driver</th>\n",
       "      <th>Junction_Location</th>\n",
       "      <th>...</th>\n",
       "      <th>Skidding_and_Overturning</th>\n",
       "      <th>Towing_and_Articulation</th>\n",
       "      <th>Vehicle_Leaving_Carriageway</th>\n",
       "      <th>Vehicle_Location.Restricted_Lane</th>\n",
       "      <th>Vehicle_Manoeuvre</th>\n",
       "      <th>Vehicle_Reference</th>\n",
       "      <th>Vehicle_Type</th>\n",
       "      <th>Was_Vehicle_Left_Hand_Drive</th>\n",
       "      <th>X1st_Point_of_Impact</th>\n",
       "      <th>Year</th>\n",
       "    </tr>\n",
       "  </thead>\n",
       "  <tbody>\n",
       "    <tr>\n",
       "      <th>0</th>\n",
       "      <td>200401BS00001</td>\n",
       "      <td>26 - 35</td>\n",
       "      <td>3.0</td>\n",
       "      <td>Urban area</td>\n",
       "      <td>4.0</td>\n",
       "      <td>1588.0</td>\n",
       "      <td>None</td>\n",
       "      <td>None</td>\n",
       "      <td>Data missing or out of range</td>\n",
       "      <td>Data missing or out of range</td>\n",
       "      <td>...</td>\n",
       "      <td>None</td>\n",
       "      <td>No tow/articulation</td>\n",
       "      <td>Did not leave carriageway</td>\n",
       "      <td>0.0</td>\n",
       "      <td>Going ahead other</td>\n",
       "      <td>2</td>\n",
       "      <td>109</td>\n",
       "      <td>Data missing or out of range</td>\n",
       "      <td>Front</td>\n",
       "      <td>2004</td>\n",
       "    </tr>\n",
       "    <tr>\n",
       "      <th>1</th>\n",
       "      <td>200401BS00002</td>\n",
       "      <td>26 - 35</td>\n",
       "      <td>NaN</td>\n",
       "      <td>Urban area</td>\n",
       "      <td>3.0</td>\n",
       "      <td>NaN</td>\n",
       "      <td>None</td>\n",
       "      <td>None</td>\n",
       "      <td>Data missing or out of range</td>\n",
       "      <td>Data missing or out of range</td>\n",
       "      <td>...</td>\n",
       "      <td>None</td>\n",
       "      <td>No tow/articulation</td>\n",
       "      <td>Did not leave carriageway</td>\n",
       "      <td>0.0</td>\n",
       "      <td>Going ahead other</td>\n",
       "      <td>1</td>\n",
       "      <td>109</td>\n",
       "      <td>Data missing or out of range</td>\n",
       "      <td>Front</td>\n",
       "      <td>2004</td>\n",
       "    </tr>\n",
       "    <tr>\n",
       "      <th>2</th>\n",
       "      <td>200401BS00003</td>\n",
       "      <td>26 - 35</td>\n",
       "      <td>4.0</td>\n",
       "      <td>Data missing or out of range</td>\n",
       "      <td>NaN</td>\n",
       "      <td>998.0</td>\n",
       "      <td>None</td>\n",
       "      <td>None</td>\n",
       "      <td>Data missing or out of range</td>\n",
       "      <td>Data missing or out of range</td>\n",
       "      <td>...</td>\n",
       "      <td>None</td>\n",
       "      <td>No tow/articulation</td>\n",
       "      <td>Did not leave carriageway</td>\n",
       "      <td>0.0</td>\n",
       "      <td>Turning right</td>\n",
       "      <td>1</td>\n",
       "      <td>109</td>\n",
       "      <td>Data missing or out of range</td>\n",
       "      <td>Front</td>\n",
       "      <td>2004</td>\n",
       "    </tr>\n",
       "    <tr>\n",
       "      <th>3</th>\n",
       "      <td>200401BS00003</td>\n",
       "      <td>66 - 75</td>\n",
       "      <td>NaN</td>\n",
       "      <td>Data missing or out of range</td>\n",
       "      <td>NaN</td>\n",
       "      <td>NaN</td>\n",
       "      <td>None</td>\n",
       "      <td>None</td>\n",
       "      <td>Data missing or out of range</td>\n",
       "      <td>Data missing or out of range</td>\n",
       "      <td>...</td>\n",
       "      <td>None</td>\n",
       "      <td>No tow/articulation</td>\n",
       "      <td>Did not leave carriageway</td>\n",
       "      <td>0.0</td>\n",
       "      <td>Going ahead other</td>\n",
       "      <td>2</td>\n",
       "      <td>109</td>\n",
       "      <td>Data missing or out of range</td>\n",
       "      <td>Front</td>\n",
       "      <td>2004</td>\n",
       "    </tr>\n",
       "    <tr>\n",
       "      <th>4</th>\n",
       "      <td>200401BS00004</td>\n",
       "      <td>26 - 35</td>\n",
       "      <td>1.0</td>\n",
       "      <td>Urban area</td>\n",
       "      <td>4.0</td>\n",
       "      <td>124.0</td>\n",
       "      <td>None</td>\n",
       "      <td>None</td>\n",
       "      <td>Data missing or out of range</td>\n",
       "      <td>Data missing or out of range</td>\n",
       "      <td>...</td>\n",
       "      <td>None</td>\n",
       "      <td>No tow/articulation</td>\n",
       "      <td>Did not leave carriageway</td>\n",
       "      <td>0.0</td>\n",
       "      <td>Going ahead other</td>\n",
       "      <td>1</td>\n",
       "      <td>Motorcycle 125cc and under</td>\n",
       "      <td>Data missing or out of range</td>\n",
       "      <td>Front</td>\n",
       "      <td>2004</td>\n",
       "    </tr>\n",
       "  </tbody>\n",
       "</table>\n",
       "<p>5 rows × 24 columns</p>\n",
       "</div>"
      ],
      "text/plain": [
       "  Accident_Index Age_Band_of_Driver  Age_of_Vehicle  \\\n",
       "0  200401BS00001            26 - 35             3.0   \n",
       "1  200401BS00002            26 - 35             NaN   \n",
       "2  200401BS00003            26 - 35             4.0   \n",
       "3  200401BS00003            66 - 75             NaN   \n",
       "4  200401BS00004            26 - 35             1.0   \n",
       "\n",
       "          Driver_Home_Area_Type  Driver_IMD_Decile  Engine_Capacity_.CC.  \\\n",
       "0                    Urban area                4.0                1588.0   \n",
       "1                    Urban area                3.0                   NaN   \n",
       "2  Data missing or out of range                NaN                 998.0   \n",
       "3  Data missing or out of range                NaN                   NaN   \n",
       "4                    Urban area                4.0                 124.0   \n",
       "\n",
       "  Hit_Object_in_Carriageway Hit_Object_off_Carriageway  \\\n",
       "0                      None                       None   \n",
       "1                      None                       None   \n",
       "2                      None                       None   \n",
       "3                      None                       None   \n",
       "4                      None                       None   \n",
       "\n",
       "      Journey_Purpose_of_Driver             Junction_Location  ...  \\\n",
       "0  Data missing or out of range  Data missing or out of range  ...   \n",
       "1  Data missing or out of range  Data missing or out of range  ...   \n",
       "2  Data missing or out of range  Data missing or out of range  ...   \n",
       "3  Data missing or out of range  Data missing or out of range  ...   \n",
       "4  Data missing or out of range  Data missing or out of range  ...   \n",
       "\n",
       "  Skidding_and_Overturning Towing_and_Articulation  \\\n",
       "0                     None     No tow/articulation   \n",
       "1                     None     No tow/articulation   \n",
       "2                     None     No tow/articulation   \n",
       "3                     None     No tow/articulation   \n",
       "4                     None     No tow/articulation   \n",
       "\n",
       "  Vehicle_Leaving_Carriageway Vehicle_Location.Restricted_Lane  \\\n",
       "0   Did not leave carriageway                              0.0   \n",
       "1   Did not leave carriageway                              0.0   \n",
       "2   Did not leave carriageway                              0.0   \n",
       "3   Did not leave carriageway                              0.0   \n",
       "4   Did not leave carriageway                              0.0   \n",
       "\n",
       "   Vehicle_Manoeuvre Vehicle_Reference                Vehicle_Type  \\\n",
       "0  Going ahead other                 2                         109   \n",
       "1  Going ahead other                 1                         109   \n",
       "2      Turning right                 1                         109   \n",
       "3  Going ahead other                 2                         109   \n",
       "4  Going ahead other                 1  Motorcycle 125cc and under   \n",
       "\n",
       "    Was_Vehicle_Left_Hand_Drive X1st_Point_of_Impact  Year  \n",
       "0  Data missing or out of range                Front  2004  \n",
       "1  Data missing or out of range                Front  2004  \n",
       "2  Data missing or out of range                Front  2004  \n",
       "3  Data missing or out of range                Front  2004  \n",
       "4  Data missing or out of range                Front  2004  \n",
       "\n",
       "[5 rows x 24 columns]"
      ]
     },
     "execution_count": 8,
     "metadata": {},
     "output_type": "execute_result"
    }
   ],
   "source": [
    "v_data.head()"
   ]
  },
  {
   "cell_type": "code",
   "execution_count": 9,
   "id": "1c2e465b",
   "metadata": {},
   "outputs": [
    {
     "data": {
      "text/plain": [
       "2047256"
      ]
     },
     "execution_count": 9,
     "metadata": {},
     "output_type": "execute_result"
    }
   ],
   "source": [
    "# display the length of latitude column to start with feature engineering \n",
    "len(a_data['Latitude'])"
   ]
  },
  {
   "cell_type": "markdown",
   "id": "afeb0b14",
   "metadata": {},
   "source": [
    "# Feature Engineering"
   ]
  },
  {
   "cell_type": "markdown",
   "id": "60709140",
   "metadata": {},
   "source": [
    "Below is the code for creating the extra features in our dataset to fulfil the project demand. In the code, we have generated extra features based on existing attributes called 'Latitude' and 'Longitude'. We are further planning to also generate even more features based on age and vehicle type involved in the accident. This is only for having a large amount of data and using it for further predictions. "
   ]
  },
  {
   "cell_type": "code",
   "execution_count": 10,
   "id": "aa58d26e",
   "metadata": {},
   "outputs": [],
   "source": [
    "label_encoder = LabelEncoder()\n",
    "n_bins = 15\n",
    "x = label_encoder.fit_transform(pd.cut(a_data['Latitude'], n_bins, retbins=True)[0])\n",
    "y = label_encoder.fit_transform(pd.cut(a_data['Longitude'], n_bins, retbins=True)[0])\n",
    "z = []\n",
    "for i in range(len(x)):\n",
    "    z.append(\"Area\"+str(x[i] + 16*y[i]))\n",
    "areas = pd.DataFrame(z,columns=[\"Area\"])"
   ]
  },
  {
   "cell_type": "code",
   "execution_count": 11,
   "id": "ece68c18",
   "metadata": {},
   "outputs": [],
   "source": [
    "one_hot = pd.get_dummies(areas[\"Area\"])"
   ]
  },
  {
   "cell_type": "code",
   "execution_count": 12,
   "id": "74bd37ef",
   "metadata": {},
   "outputs": [],
   "source": [
    "# this is for handling the error or exception\n",
    "for i in range(0,256):\n",
    "    try:\n",
    "        one_hot[\"Area\"+str(i)]\n",
    "    except KeyError:\n",
    "        one_hot[\"Area\"+str(i)] = 0"
   ]
  },
  {
   "cell_type": "code",
   "execution_count": 13,
   "id": "119d96dd",
   "metadata": {},
   "outputs": [],
   "source": [
    "a_data = a_data.join(one_hot)"
   ]
  },
  {
   "cell_type": "code",
   "execution_count": 14,
   "id": "3a5bab07",
   "metadata": {},
   "outputs": [
    {
     "data": {
      "text/html": [
       "<div>\n",
       "<style scoped>\n",
       "    .dataframe tbody tr th:only-of-type {\n",
       "        vertical-align: middle;\n",
       "    }\n",
       "\n",
       "    .dataframe tbody tr th {\n",
       "        vertical-align: top;\n",
       "    }\n",
       "\n",
       "    .dataframe thead th {\n",
       "        text-align: right;\n",
       "    }\n",
       "</style>\n",
       "<table border=\"1\" class=\"dataframe\">\n",
       "  <thead>\n",
       "    <tr style=\"text-align: right;\">\n",
       "      <th></th>\n",
       "      <th>Accident_Index</th>\n",
       "      <th>1st_Road_Class</th>\n",
       "      <th>1st_Road_Number</th>\n",
       "      <th>2nd_Road_Class</th>\n",
       "      <th>2nd_Road_Number</th>\n",
       "      <th>Accident_Severity</th>\n",
       "      <th>Carriageway_Hazards</th>\n",
       "      <th>Date</th>\n",
       "      <th>Day_of_Week</th>\n",
       "      <th>Did_Police_Officer_Attend_Scene_of_Accident</th>\n",
       "      <th>...</th>\n",
       "      <th>Area245</th>\n",
       "      <th>Area246</th>\n",
       "      <th>Area247</th>\n",
       "      <th>Area248</th>\n",
       "      <th>Area249</th>\n",
       "      <th>Area250</th>\n",
       "      <th>Area251</th>\n",
       "      <th>Area252</th>\n",
       "      <th>Area253</th>\n",
       "      <th>Area254</th>\n",
       "    </tr>\n",
       "  </thead>\n",
       "  <tbody>\n",
       "    <tr>\n",
       "      <th>0</th>\n",
       "      <td>200501BS00001</td>\n",
       "      <td>A</td>\n",
       "      <td>3218.0</td>\n",
       "      <td>NaN</td>\n",
       "      <td>0.0</td>\n",
       "      <td>Serious</td>\n",
       "      <td>None</td>\n",
       "      <td>2005-01-04</td>\n",
       "      <td>Tuesday</td>\n",
       "      <td>1.0</td>\n",
       "      <td>...</td>\n",
       "      <td>0</td>\n",
       "      <td>0</td>\n",
       "      <td>0</td>\n",
       "      <td>0</td>\n",
       "      <td>0</td>\n",
       "      <td>0</td>\n",
       "      <td>0</td>\n",
       "      <td>0</td>\n",
       "      <td>0</td>\n",
       "      <td>0</td>\n",
       "    </tr>\n",
       "    <tr>\n",
       "      <th>1</th>\n",
       "      <td>200501BS00002</td>\n",
       "      <td>B</td>\n",
       "      <td>450.0</td>\n",
       "      <td>C</td>\n",
       "      <td>0.0</td>\n",
       "      <td>Slight</td>\n",
       "      <td>None</td>\n",
       "      <td>2005-01-05</td>\n",
       "      <td>Wednesday</td>\n",
       "      <td>1.0</td>\n",
       "      <td>...</td>\n",
       "      <td>0</td>\n",
       "      <td>0</td>\n",
       "      <td>0</td>\n",
       "      <td>0</td>\n",
       "      <td>0</td>\n",
       "      <td>0</td>\n",
       "      <td>0</td>\n",
       "      <td>0</td>\n",
       "      <td>0</td>\n",
       "      <td>0</td>\n",
       "    </tr>\n",
       "    <tr>\n",
       "      <th>2</th>\n",
       "      <td>200501BS00003</td>\n",
       "      <td>C</td>\n",
       "      <td>0.0</td>\n",
       "      <td>NaN</td>\n",
       "      <td>0.0</td>\n",
       "      <td>Slight</td>\n",
       "      <td>None</td>\n",
       "      <td>2005-01-06</td>\n",
       "      <td>Thursday</td>\n",
       "      <td>1.0</td>\n",
       "      <td>...</td>\n",
       "      <td>0</td>\n",
       "      <td>0</td>\n",
       "      <td>0</td>\n",
       "      <td>0</td>\n",
       "      <td>0</td>\n",
       "      <td>0</td>\n",
       "      <td>0</td>\n",
       "      <td>0</td>\n",
       "      <td>0</td>\n",
       "      <td>0</td>\n",
       "    </tr>\n",
       "    <tr>\n",
       "      <th>3</th>\n",
       "      <td>200501BS00004</td>\n",
       "      <td>A</td>\n",
       "      <td>3220.0</td>\n",
       "      <td>NaN</td>\n",
       "      <td>0.0</td>\n",
       "      <td>Slight</td>\n",
       "      <td>None</td>\n",
       "      <td>2005-01-07</td>\n",
       "      <td>Friday</td>\n",
       "      <td>1.0</td>\n",
       "      <td>...</td>\n",
       "      <td>0</td>\n",
       "      <td>0</td>\n",
       "      <td>0</td>\n",
       "      <td>0</td>\n",
       "      <td>0</td>\n",
       "      <td>0</td>\n",
       "      <td>0</td>\n",
       "      <td>0</td>\n",
       "      <td>0</td>\n",
       "      <td>0</td>\n",
       "    </tr>\n",
       "    <tr>\n",
       "      <th>4</th>\n",
       "      <td>200501BS00005</td>\n",
       "      <td>Unclassified</td>\n",
       "      <td>0.0</td>\n",
       "      <td>NaN</td>\n",
       "      <td>0.0</td>\n",
       "      <td>Slight</td>\n",
       "      <td>None</td>\n",
       "      <td>2005-01-10</td>\n",
       "      <td>Monday</td>\n",
       "      <td>1.0</td>\n",
       "      <td>...</td>\n",
       "      <td>0</td>\n",
       "      <td>0</td>\n",
       "      <td>0</td>\n",
       "      <td>0</td>\n",
       "      <td>0</td>\n",
       "      <td>0</td>\n",
       "      <td>0</td>\n",
       "      <td>0</td>\n",
       "      <td>0</td>\n",
       "      <td>0</td>\n",
       "    </tr>\n",
       "  </tbody>\n",
       "</table>\n",
       "<p>5 rows × 290 columns</p>\n",
       "</div>"
      ],
      "text/plain": [
       "  Accident_Index 1st_Road_Class  1st_Road_Number 2nd_Road_Class  \\\n",
       "0  200501BS00001              A           3218.0            NaN   \n",
       "1  200501BS00002              B            450.0              C   \n",
       "2  200501BS00003              C              0.0            NaN   \n",
       "3  200501BS00004              A           3220.0            NaN   \n",
       "4  200501BS00005   Unclassified              0.0            NaN   \n",
       "\n",
       "   2nd_Road_Number Accident_Severity Carriageway_Hazards        Date  \\\n",
       "0              0.0           Serious                None  2005-01-04   \n",
       "1              0.0            Slight                None  2005-01-05   \n",
       "2              0.0            Slight                None  2005-01-06   \n",
       "3              0.0            Slight                None  2005-01-07   \n",
       "4              0.0            Slight                None  2005-01-10   \n",
       "\n",
       "  Day_of_Week  Did_Police_Officer_Attend_Scene_of_Accident  ... Area245  \\\n",
       "0     Tuesday                                          1.0  ...       0   \n",
       "1   Wednesday                                          1.0  ...       0   \n",
       "2    Thursday                                          1.0  ...       0   \n",
       "3      Friday                                          1.0  ...       0   \n",
       "4      Monday                                          1.0  ...       0   \n",
       "\n",
       "  Area246  Area247 Area248 Area249 Area250  Area251  Area252  Area253 Area254  \n",
       "0       0        0       0       0       0        0        0        0       0  \n",
       "1       0        0       0       0       0        0        0        0       0  \n",
       "2       0        0       0       0       0        0        0        0       0  \n",
       "3       0        0       0       0       0        0        0        0       0  \n",
       "4       0        0       0       0       0        0        0        0       0  \n",
       "\n",
       "[5 rows x 290 columns]"
      ]
     },
     "execution_count": 14,
     "metadata": {},
     "output_type": "execute_result"
    }
   ],
   "source": [
    "a_data.head()"
   ]
  },
  {
   "cell_type": "markdown",
   "id": "610da4ee",
   "metadata": {},
   "source": [
    "# Cleaning and dataframing for accident column"
   ]
  },
  {
   "cell_type": "markdown",
   "id": "ebd797bc",
   "metadata": {},
   "source": [
    "Below code is to clear the data from 'Accident Information Dataset' and shape its parameters for further analysis  "
   ]
  },
  {
   "cell_type": "code",
   "execution_count": 15,
   "id": "266312fe",
   "metadata": {},
   "outputs": [
    {
     "data": {
      "text/plain": [
       "0          True\n",
       "1          True\n",
       "2          True\n",
       "3          True\n",
       "4          True\n",
       "           ... \n",
       "2047251    True\n",
       "2047252    True\n",
       "2047253    True\n",
       "2047254    True\n",
       "2047255    True\n",
       "Name: Longitude, Length: 2047256, dtype: bool"
      ]
     },
     "execution_count": 15,
     "metadata": {},
     "output_type": "execute_result"
    }
   ],
   "source": [
    "a_data['Road_Type'] != \"Unknown\" \n",
    "a_data['Junction_Control'] != \"Data missing or out of range\"\n",
    "a_data['Carriageway_Hazards'] != \"Data missing or out of range\" \n",
    "a_data['Junction_Detail'] != \"Data missing or out of range\" \n",
    "a_data['Road_Surface_Conditions'] != \"Data missing or out of range\" \n",
    "a_data['Special_Conditions_at_Site'] != \"Data missing or out of range\"\n",
    "a_data['Weather_Conditions'] != \"Data missing or out of range\" \n",
    "a_data['Latitude'].notnull()\n",
    "a_data['Longitude'].notnull()"
   ]
  },
  {
   "cell_type": "code",
   "execution_count": 16,
   "id": "d1335074",
   "metadata": {},
   "outputs": [
    {
     "data": {
      "text/html": [
       "<div>\n",
       "<style scoped>\n",
       "    .dataframe tbody tr th:only-of-type {\n",
       "        vertical-align: middle;\n",
       "    }\n",
       "\n",
       "    .dataframe tbody tr th {\n",
       "        vertical-align: top;\n",
       "    }\n",
       "\n",
       "    .dataframe thead th {\n",
       "        text-align: right;\n",
       "    }\n",
       "</style>\n",
       "<table border=\"1\" class=\"dataframe\">\n",
       "  <thead>\n",
       "    <tr style=\"text-align: right;\">\n",
       "      <th></th>\n",
       "      <th>Accident_Index</th>\n",
       "      <th>1st_Road_Class</th>\n",
       "      <th>1st_Road_Number</th>\n",
       "      <th>2nd_Road_Class</th>\n",
       "      <th>2nd_Road_Number</th>\n",
       "      <th>Accident_Severity</th>\n",
       "      <th>Carriageway_Hazards</th>\n",
       "      <th>Date</th>\n",
       "      <th>Day_of_Week</th>\n",
       "      <th>Did_Police_Officer_Attend_Scene_of_Accident</th>\n",
       "      <th>...</th>\n",
       "      <th>Area245</th>\n",
       "      <th>Area246</th>\n",
       "      <th>Area247</th>\n",
       "      <th>Area248</th>\n",
       "      <th>Area249</th>\n",
       "      <th>Area250</th>\n",
       "      <th>Area251</th>\n",
       "      <th>Area252</th>\n",
       "      <th>Area253</th>\n",
       "      <th>Area254</th>\n",
       "    </tr>\n",
       "  </thead>\n",
       "  <tbody>\n",
       "    <tr>\n",
       "      <th>0</th>\n",
       "      <td>200501BS00001</td>\n",
       "      <td>A</td>\n",
       "      <td>3218.0</td>\n",
       "      <td>NaN</td>\n",
       "      <td>0.0</td>\n",
       "      <td>Serious</td>\n",
       "      <td>None</td>\n",
       "      <td>2005-01-04</td>\n",
       "      <td>Tuesday</td>\n",
       "      <td>1.0</td>\n",
       "      <td>...</td>\n",
       "      <td>0</td>\n",
       "      <td>0</td>\n",
       "      <td>0</td>\n",
       "      <td>0</td>\n",
       "      <td>0</td>\n",
       "      <td>0</td>\n",
       "      <td>0</td>\n",
       "      <td>0</td>\n",
       "      <td>0</td>\n",
       "      <td>0</td>\n",
       "    </tr>\n",
       "    <tr>\n",
       "      <th>1</th>\n",
       "      <td>200501BS00002</td>\n",
       "      <td>B</td>\n",
       "      <td>450.0</td>\n",
       "      <td>C</td>\n",
       "      <td>0.0</td>\n",
       "      <td>Slight</td>\n",
       "      <td>None</td>\n",
       "      <td>2005-01-05</td>\n",
       "      <td>Wednesday</td>\n",
       "      <td>1.0</td>\n",
       "      <td>...</td>\n",
       "      <td>0</td>\n",
       "      <td>0</td>\n",
       "      <td>0</td>\n",
       "      <td>0</td>\n",
       "      <td>0</td>\n",
       "      <td>0</td>\n",
       "      <td>0</td>\n",
       "      <td>0</td>\n",
       "      <td>0</td>\n",
       "      <td>0</td>\n",
       "    </tr>\n",
       "    <tr>\n",
       "      <th>2</th>\n",
       "      <td>200501BS00003</td>\n",
       "      <td>C</td>\n",
       "      <td>0.0</td>\n",
       "      <td>NaN</td>\n",
       "      <td>0.0</td>\n",
       "      <td>Slight</td>\n",
       "      <td>None</td>\n",
       "      <td>2005-01-06</td>\n",
       "      <td>Thursday</td>\n",
       "      <td>1.0</td>\n",
       "      <td>...</td>\n",
       "      <td>0</td>\n",
       "      <td>0</td>\n",
       "      <td>0</td>\n",
       "      <td>0</td>\n",
       "      <td>0</td>\n",
       "      <td>0</td>\n",
       "      <td>0</td>\n",
       "      <td>0</td>\n",
       "      <td>0</td>\n",
       "      <td>0</td>\n",
       "    </tr>\n",
       "    <tr>\n",
       "      <th>3</th>\n",
       "      <td>200501BS00004</td>\n",
       "      <td>A</td>\n",
       "      <td>3220.0</td>\n",
       "      <td>NaN</td>\n",
       "      <td>0.0</td>\n",
       "      <td>Slight</td>\n",
       "      <td>None</td>\n",
       "      <td>2005-01-07</td>\n",
       "      <td>Friday</td>\n",
       "      <td>1.0</td>\n",
       "      <td>...</td>\n",
       "      <td>0</td>\n",
       "      <td>0</td>\n",
       "      <td>0</td>\n",
       "      <td>0</td>\n",
       "      <td>0</td>\n",
       "      <td>0</td>\n",
       "      <td>0</td>\n",
       "      <td>0</td>\n",
       "      <td>0</td>\n",
       "      <td>0</td>\n",
       "    </tr>\n",
       "    <tr>\n",
       "      <th>4</th>\n",
       "      <td>200501BS00005</td>\n",
       "      <td>Unclassified</td>\n",
       "      <td>0.0</td>\n",
       "      <td>NaN</td>\n",
       "      <td>0.0</td>\n",
       "      <td>Slight</td>\n",
       "      <td>None</td>\n",
       "      <td>2005-01-10</td>\n",
       "      <td>Monday</td>\n",
       "      <td>1.0</td>\n",
       "      <td>...</td>\n",
       "      <td>0</td>\n",
       "      <td>0</td>\n",
       "      <td>0</td>\n",
       "      <td>0</td>\n",
       "      <td>0</td>\n",
       "      <td>0</td>\n",
       "      <td>0</td>\n",
       "      <td>0</td>\n",
       "      <td>0</td>\n",
       "      <td>0</td>\n",
       "    </tr>\n",
       "    <tr>\n",
       "      <th>...</th>\n",
       "      <td>...</td>\n",
       "      <td>...</td>\n",
       "      <td>...</td>\n",
       "      <td>...</td>\n",
       "      <td>...</td>\n",
       "      <td>...</td>\n",
       "      <td>...</td>\n",
       "      <td>...</td>\n",
       "      <td>...</td>\n",
       "      <td>...</td>\n",
       "      <td>...</td>\n",
       "      <td>...</td>\n",
       "      <td>...</td>\n",
       "      <td>...</td>\n",
       "      <td>...</td>\n",
       "      <td>...</td>\n",
       "      <td>...</td>\n",
       "      <td>...</td>\n",
       "      <td>...</td>\n",
       "      <td>...</td>\n",
       "      <td>...</td>\n",
       "    </tr>\n",
       "    <tr>\n",
       "      <th>2047251</th>\n",
       "      <td>2017984121017</td>\n",
       "      <td>A(M)</td>\n",
       "      <td>74.0</td>\n",
       "      <td>NaN</td>\n",
       "      <td>0.0</td>\n",
       "      <td>Slight</td>\n",
       "      <td>None</td>\n",
       "      <td>2017-12-17</td>\n",
       "      <td>Sunday</td>\n",
       "      <td>1.0</td>\n",
       "      <td>...</td>\n",
       "      <td>0</td>\n",
       "      <td>0</td>\n",
       "      <td>0</td>\n",
       "      <td>0</td>\n",
       "      <td>0</td>\n",
       "      <td>0</td>\n",
       "      <td>0</td>\n",
       "      <td>0</td>\n",
       "      <td>0</td>\n",
       "      <td>0</td>\n",
       "    </tr>\n",
       "    <tr>\n",
       "      <th>2047252</th>\n",
       "      <td>2017984121217</td>\n",
       "      <td>C</td>\n",
       "      <td>69.0</td>\n",
       "      <td>NaN</td>\n",
       "      <td>0.0</td>\n",
       "      <td>Slight</td>\n",
       "      <td>Pedestrian in carriageway - not injured</td>\n",
       "      <td>2017-12-15</td>\n",
       "      <td>Friday</td>\n",
       "      <td>2.0</td>\n",
       "      <td>...</td>\n",
       "      <td>0</td>\n",
       "      <td>0</td>\n",
       "      <td>0</td>\n",
       "      <td>0</td>\n",
       "      <td>0</td>\n",
       "      <td>0</td>\n",
       "      <td>0</td>\n",
       "      <td>0</td>\n",
       "      <td>0</td>\n",
       "      <td>0</td>\n",
       "    </tr>\n",
       "    <tr>\n",
       "      <th>2047253</th>\n",
       "      <td>2017984121717</td>\n",
       "      <td>A(M)</td>\n",
       "      <td>74.0</td>\n",
       "      <td>Unclassified</td>\n",
       "      <td>0.0</td>\n",
       "      <td>Slight</td>\n",
       "      <td>None</td>\n",
       "      <td>2017-12-18</td>\n",
       "      <td>Monday</td>\n",
       "      <td>1.0</td>\n",
       "      <td>...</td>\n",
       "      <td>0</td>\n",
       "      <td>0</td>\n",
       "      <td>0</td>\n",
       "      <td>0</td>\n",
       "      <td>0</td>\n",
       "      <td>0</td>\n",
       "      <td>0</td>\n",
       "      <td>0</td>\n",
       "      <td>0</td>\n",
       "      <td>0</td>\n",
       "    </tr>\n",
       "    <tr>\n",
       "      <th>2047254</th>\n",
       "      <td>2017984122317</td>\n",
       "      <td>A</td>\n",
       "      <td>708.0</td>\n",
       "      <td>NaN</td>\n",
       "      <td>0.0</td>\n",
       "      <td>Slight</td>\n",
       "      <td>None</td>\n",
       "      <td>2017-07-18</td>\n",
       "      <td>Tuesday</td>\n",
       "      <td>1.0</td>\n",
       "      <td>...</td>\n",
       "      <td>0</td>\n",
       "      <td>0</td>\n",
       "      <td>0</td>\n",
       "      <td>0</td>\n",
       "      <td>0</td>\n",
       "      <td>0</td>\n",
       "      <td>0</td>\n",
       "      <td>0</td>\n",
       "      <td>0</td>\n",
       "      <td>0</td>\n",
       "    </tr>\n",
       "    <tr>\n",
       "      <th>2047255</th>\n",
       "      <td>2017984122617</td>\n",
       "      <td>B</td>\n",
       "      <td>721.0</td>\n",
       "      <td>B</td>\n",
       "      <td>724.0</td>\n",
       "      <td>Serious</td>\n",
       "      <td>None</td>\n",
       "      <td>2017-12-20</td>\n",
       "      <td>Wednesday</td>\n",
       "      <td>1.0</td>\n",
       "      <td>...</td>\n",
       "      <td>0</td>\n",
       "      <td>0</td>\n",
       "      <td>0</td>\n",
       "      <td>0</td>\n",
       "      <td>0</td>\n",
       "      <td>0</td>\n",
       "      <td>0</td>\n",
       "      <td>0</td>\n",
       "      <td>0</td>\n",
       "      <td>0</td>\n",
       "    </tr>\n",
       "  </tbody>\n",
       "</table>\n",
       "<p>2047256 rows × 290 columns</p>\n",
       "</div>"
      ],
      "text/plain": [
       "        Accident_Index 1st_Road_Class  1st_Road_Number 2nd_Road_Class  \\\n",
       "0        200501BS00001              A           3218.0            NaN   \n",
       "1        200501BS00002              B            450.0              C   \n",
       "2        200501BS00003              C              0.0            NaN   \n",
       "3        200501BS00004              A           3220.0            NaN   \n",
       "4        200501BS00005   Unclassified              0.0            NaN   \n",
       "...                ...            ...              ...            ...   \n",
       "2047251  2017984121017           A(M)             74.0            NaN   \n",
       "2047252  2017984121217              C             69.0            NaN   \n",
       "2047253  2017984121717           A(M)             74.0   Unclassified   \n",
       "2047254  2017984122317              A            708.0            NaN   \n",
       "2047255  2017984122617              B            721.0              B   \n",
       "\n",
       "         2nd_Road_Number Accident_Severity  \\\n",
       "0                    0.0           Serious   \n",
       "1                    0.0            Slight   \n",
       "2                    0.0            Slight   \n",
       "3                    0.0            Slight   \n",
       "4                    0.0            Slight   \n",
       "...                  ...               ...   \n",
       "2047251              0.0            Slight   \n",
       "2047252              0.0            Slight   \n",
       "2047253              0.0            Slight   \n",
       "2047254              0.0            Slight   \n",
       "2047255            724.0           Serious   \n",
       "\n",
       "                             Carriageway_Hazards        Date Day_of_Week  \\\n",
       "0                                           None  2005-01-04     Tuesday   \n",
       "1                                           None  2005-01-05   Wednesday   \n",
       "2                                           None  2005-01-06    Thursday   \n",
       "3                                           None  2005-01-07      Friday   \n",
       "4                                           None  2005-01-10      Monday   \n",
       "...                                          ...         ...         ...   \n",
       "2047251                                     None  2017-12-17      Sunday   \n",
       "2047252  Pedestrian in carriageway - not injured  2017-12-15      Friday   \n",
       "2047253                                     None  2017-12-18      Monday   \n",
       "2047254                                     None  2017-07-18     Tuesday   \n",
       "2047255                                     None  2017-12-20   Wednesday   \n",
       "\n",
       "         Did_Police_Officer_Attend_Scene_of_Accident  ... Area245 Area246  \\\n",
       "0                                                1.0  ...       0       0   \n",
       "1                                                1.0  ...       0       0   \n",
       "2                                                1.0  ...       0       0   \n",
       "3                                                1.0  ...       0       0   \n",
       "4                                                1.0  ...       0       0   \n",
       "...                                              ...  ...     ...     ...   \n",
       "2047251                                          1.0  ...       0       0   \n",
       "2047252                                          2.0  ...       0       0   \n",
       "2047253                                          1.0  ...       0       0   \n",
       "2047254                                          1.0  ...       0       0   \n",
       "2047255                                          1.0  ...       0       0   \n",
       "\n",
       "         Area247 Area248 Area249 Area250  Area251  Area252  Area253 Area254  \n",
       "0              0       0       0       0        0        0        0       0  \n",
       "1              0       0       0       0        0        0        0       0  \n",
       "2              0       0       0       0        0        0        0       0  \n",
       "3              0       0       0       0        0        0        0       0  \n",
       "4              0       0       0       0        0        0        0       0  \n",
       "...          ...     ...     ...     ...      ...      ...      ...     ...  \n",
       "2047251        0       0       0       0        0        0        0       0  \n",
       "2047252        0       0       0       0        0        0        0       0  \n",
       "2047253        0       0       0       0        0        0        0       0  \n",
       "2047254        0       0       0       0        0        0        0       0  \n",
       "2047255        0       0       0       0        0        0        0       0  \n",
       "\n",
       "[2047256 rows x 290 columns]"
      ]
     },
     "execution_count": 16,
     "metadata": {},
     "output_type": "execute_result"
    }
   ],
   "source": [
    "a_data"
   ]
  },
  {
   "cell_type": "markdown",
   "id": "8fd906a6",
   "metadata": {},
   "source": [
    "Below code is to clear the data from 'Vehicle Information Dataset' and shape its parameters for further analysis  "
   ]
  },
  {
   "cell_type": "code",
   "execution_count": 17,
   "id": "d8c53a63",
   "metadata": {},
   "outputs": [
    {
     "data": {
      "text/plain": [
       "0          True\n",
       "1          True\n",
       "2          True\n",
       "3          True\n",
       "4          True\n",
       "           ... \n",
       "2177200    True\n",
       "2177201    True\n",
       "2177202    True\n",
       "2177203    True\n",
       "2177204    True\n",
       "Name: Age_Band_of_Driver, Length: 2177205, dtype: bool"
      ]
     },
     "execution_count": 17,
     "metadata": {},
     "output_type": "execute_result"
    }
   ],
   "source": [
    "#Cleaning for vehicles column\n",
    "\n",
    "v_data['Driver_Home_Area_Type'] != \"Data missing or out of range\"\n",
    "v_data['Journey_Purpose_of_Driver'] != \"Data missing or out of range\"\n",
    "v_data['Junction_Location'] != \"Data missing or out of range\"\n",
    "v_data['Was_Vehicle_Left_Hand_Drive'] != \"Data missing or out of range\"\n",
    "v_data['Hit_Object_in_Carriageway'] != \"Data missing or out of range\"\n",
    "v_data['Skidding_and_Overturning'] != \"Data missing or out of range\"\n",
    "v_data['Towing_and_Articulation'] != \"Data missing or out of range\"\n",
    "v_data['Vehicle_Leaving_Carriageway'] != \"Data missing or out of range\"\n",
    "v_data['Vehicle_Manoeuvre'] != \"Data missing or out of range\"\n",
    "v_data['Vehicle_Type'] != \"Data missing or out of range\"\n",
    "v_data['X1st_Point_of_Impact'] != \"Data missing or out of range\"\n",
    "v_data['Sex_of_Driver'] != \"Data missing or out of range\"\n",
    "v_data['Age_Band_of_Driver'] != \"Data missing or out of range\"\n",
    "        "
   ]
  },
  {
   "cell_type": "code",
   "execution_count": 18,
   "id": "f3715110",
   "metadata": {},
   "outputs": [
    {
     "name": "stdout",
     "output_type": "stream",
     "text": [
      "Accident's Dataset Columns:\n",
      " Index(['Accident_Index', '1st_Road_Class', '1st_Road_Number', '2nd_Road_Class',\n",
      "       '2nd_Road_Number', 'Accident_Severity', 'Carriageway_Hazards', 'Date',\n",
      "       'Day_of_Week', 'Did_Police_Officer_Attend_Scene_of_Accident',\n",
      "       ...\n",
      "       'Area245', 'Area246', 'Area247', 'Area248', 'Area249', 'Area250',\n",
      "       'Area251', 'Area252', 'Area253', 'Area254'],\n",
      "      dtype='object', length=290) \n",
      "\n",
      "Vehicle's Dataset Columns:\n",
      " Index(['Accident_Index', 'Age_Band_of_Driver', 'Age_of_Vehicle',\n",
      "       'Driver_Home_Area_Type', 'Driver_IMD_Decile', 'Engine_Capacity_.CC.',\n",
      "       'Hit_Object_in_Carriageway', 'Hit_Object_off_Carriageway',\n",
      "       'Journey_Purpose_of_Driver', 'Junction_Location', 'make', 'model',\n",
      "       'Propulsion_Code', 'Sex_of_Driver', 'Skidding_and_Overturning',\n",
      "       'Towing_and_Articulation', 'Vehicle_Leaving_Carriageway',\n",
      "       'Vehicle_Location.Restricted_Lane', 'Vehicle_Manoeuvre',\n",
      "       'Vehicle_Reference', 'Vehicle_Type', 'Was_Vehicle_Left_Hand_Drive',\n",
      "       'X1st_Point_of_Impact', 'Year'],\n",
      "      dtype='object')\n"
     ]
    }
   ],
   "source": [
    "#check columns\n",
    "print(\"Accident's Dataset Columns:\\n\",a_data.columns, \"\\n\")\n",
    "\n",
    "\n",
    "print(\"Vehicle's Dataset Columns:\\n\",v_data.columns)"
   ]
  },
  {
   "cell_type": "code",
   "execution_count": 19,
   "id": "716646e6",
   "metadata": {},
   "outputs": [
    {
     "name": "stdout",
     "output_type": "stream",
     "text": [
      "Accident Dataset Shape (2047256, 290)\n",
      "Vehicle Dataset Shape (2177205, 24)\n"
     ]
    }
   ],
   "source": [
    "print('Accident Dataset Shape', a_data.shape)\n",
    "print('Vehicle Dataset Shape', v_data.shape)"
   ]
  },
  {
   "cell_type": "code",
   "execution_count": 21,
   "id": "ae3d9217",
   "metadata": {},
   "outputs": [],
   "source": [
    "df1=pd.DataFrame(a_data)\n",
    "# df_sliced1=df1.iloc[0:1000]\n",
    "df2=pd.DataFrame(v_data)\n",
    "# df_sliced2=df2.iloc[0:1000]"
   ]
  },
  {
   "cell_type": "code",
   "execution_count": 131,
   "id": "a1804d8b",
   "metadata": {},
   "outputs": [],
   "source": [
    "#merge datasets\n",
    "mdf = pd.merge(df1,df2)"
   ]
  },
  {
   "cell_type": "code",
   "execution_count": 133,
   "id": "a0154b37",
   "metadata": {},
   "outputs": [
    {
     "name": "stdout",
     "output_type": "stream",
     "text": [
      "\n",
      "Shape:\n",
      " (2058408, 312)\n"
     ]
    }
   ],
   "source": [
    "print(\"\\nShape:\\n\",mdf.shape)"
   ]
  },
  {
   "cell_type": "markdown",
   "id": "ede087cc",
   "metadata": {},
   "source": [
    "# Note:- Since, SVM is computationally expensive, we have sliced our data for demonstration purpose. You can remove below step and run the notbook as it is if resources is not a problem."
   ]
  },
  {
   "cell_type": "code",
   "execution_count": 134,
   "id": "10efd61b",
   "metadata": {},
   "outputs": [],
   "source": [
    "df=mdf.iloc[0:20000, :]"
   ]
  },
  {
   "cell_type": "code",
   "execution_count": 135,
   "id": "9713d55f",
   "metadata": {},
   "outputs": [
    {
     "name": "stdout",
     "output_type": "stream",
     "text": [
      "Names of Combined Columns:\n",
      " Index(['Accident_Index', '1st_Road_Class', '1st_Road_Number', '2nd_Road_Class',\n",
      "       '2nd_Road_Number', 'Accident_Severity', 'Carriageway_Hazards', 'Date',\n",
      "       'Day_of_Week', 'Did_Police_Officer_Attend_Scene_of_Accident',\n",
      "       ...\n",
      "       'Sex_of_Driver', 'Skidding_and_Overturning', 'Towing_and_Articulation',\n",
      "       'Vehicle_Leaving_Carriageway', 'Vehicle_Location.Restricted_Lane',\n",
      "       'Vehicle_Manoeuvre', 'Vehicle_Reference', 'Vehicle_Type',\n",
      "       'Was_Vehicle_Left_Hand_Drive', 'X1st_Point_of_Impact'],\n",
      "      dtype='object', length=312) \n",
      "\n",
      "\n",
      "Shape:\n",
      " (20000, 312)\n"
     ]
    }
   ],
   "source": [
    "print(\"Names of Combined Columns:\\n\",df.columns, \"\\n\")\n",
    "print(\"\\nShape:\\n\",df.shape)"
   ]
  },
  {
   "cell_type": "code",
   "execution_count": 136,
   "id": "2215263a",
   "metadata": {},
   "outputs": [
    {
     "data": {
      "text/html": [
       "<div>\n",
       "<style scoped>\n",
       "    .dataframe tbody tr th:only-of-type {\n",
       "        vertical-align: middle;\n",
       "    }\n",
       "\n",
       "    .dataframe tbody tr th {\n",
       "        vertical-align: top;\n",
       "    }\n",
       "\n",
       "    .dataframe thead th {\n",
       "        text-align: right;\n",
       "    }\n",
       "</style>\n",
       "<table border=\"1\" class=\"dataframe\">\n",
       "  <thead>\n",
       "    <tr style=\"text-align: right;\">\n",
       "      <th></th>\n",
       "      <th>Accident_Index</th>\n",
       "      <th>1st_Road_Class</th>\n",
       "      <th>1st_Road_Number</th>\n",
       "      <th>2nd_Road_Class</th>\n",
       "      <th>2nd_Road_Number</th>\n",
       "      <th>Accident_Severity</th>\n",
       "      <th>Carriageway_Hazards</th>\n",
       "      <th>Date</th>\n",
       "      <th>Day_of_Week</th>\n",
       "      <th>Did_Police_Officer_Attend_Scene_of_Accident</th>\n",
       "      <th>...</th>\n",
       "      <th>Sex_of_Driver</th>\n",
       "      <th>Skidding_and_Overturning</th>\n",
       "      <th>Towing_and_Articulation</th>\n",
       "      <th>Vehicle_Leaving_Carriageway</th>\n",
       "      <th>Vehicle_Location.Restricted_Lane</th>\n",
       "      <th>Vehicle_Manoeuvre</th>\n",
       "      <th>Vehicle_Reference</th>\n",
       "      <th>Vehicle_Type</th>\n",
       "      <th>Was_Vehicle_Left_Hand_Drive</th>\n",
       "      <th>X1st_Point_of_Impact</th>\n",
       "    </tr>\n",
       "  </thead>\n",
       "  <tbody>\n",
       "    <tr>\n",
       "      <th>count</th>\n",
       "      <td>20000</td>\n",
       "      <td>20000</td>\n",
       "      <td>20000.000000</td>\n",
       "      <td>13597</td>\n",
       "      <td>19958.000000</td>\n",
       "      <td>20000</td>\n",
       "      <td>20000</td>\n",
       "      <td>20000</td>\n",
       "      <td>20000</td>\n",
       "      <td>19992.000000</td>\n",
       "      <td>...</td>\n",
       "      <td>20000</td>\n",
       "      <td>20000</td>\n",
       "      <td>20000</td>\n",
       "      <td>20000</td>\n",
       "      <td>19994.000000</td>\n",
       "      <td>20000</td>\n",
       "      <td>20000.000000</td>\n",
       "      <td>20000</td>\n",
       "      <td>20000</td>\n",
       "      <td>20000</td>\n",
       "    </tr>\n",
       "    <tr>\n",
       "      <th>unique</th>\n",
       "      <td>17096</td>\n",
       "      <td>6</td>\n",
       "      <td>NaN</td>\n",
       "      <td>6</td>\n",
       "      <td>NaN</td>\n",
       "      <td>3</td>\n",
       "      <td>7</td>\n",
       "      <td>365</td>\n",
       "      <td>7</td>\n",
       "      <td>NaN</td>\n",
       "      <td>...</td>\n",
       "      <td>3</td>\n",
       "      <td>7</td>\n",
       "      <td>7</td>\n",
       "      <td>10</td>\n",
       "      <td>NaN</td>\n",
       "      <td>19</td>\n",
       "      <td>NaN</td>\n",
       "      <td>14</td>\n",
       "      <td>3</td>\n",
       "      <td>6</td>\n",
       "    </tr>\n",
       "    <tr>\n",
       "      <th>top</th>\n",
       "      <td>200504D008305</td>\n",
       "      <td>A</td>\n",
       "      <td>NaN</td>\n",
       "      <td>Unclassified</td>\n",
       "      <td>NaN</td>\n",
       "      <td>Slight</td>\n",
       "      <td>None</td>\n",
       "      <td>2005-10-20</td>\n",
       "      <td>Friday</td>\n",
       "      <td>NaN</td>\n",
       "      <td>...</td>\n",
       "      <td>Male</td>\n",
       "      <td>None</td>\n",
       "      <td>No tow/articulation</td>\n",
       "      <td>Did not leave carriageway</td>\n",
       "      <td>NaN</td>\n",
       "      <td>Going ahead other</td>\n",
       "      <td>NaN</td>\n",
       "      <td>Car</td>\n",
       "      <td>No</td>\n",
       "      <td>Front</td>\n",
       "    </tr>\n",
       "    <tr>\n",
       "      <th>freq</th>\n",
       "      <td>5</td>\n",
       "      <td>11755</td>\n",
       "      <td>NaN</td>\n",
       "      <td>8073</td>\n",
       "      <td>NaN</td>\n",
       "      <td>17485</td>\n",
       "      <td>19748</td>\n",
       "      <td>94</td>\n",
       "      <td>3221</td>\n",
       "      <td>NaN</td>\n",
       "      <td>...</td>\n",
       "      <td>14894</td>\n",
       "      <td>18536</td>\n",
       "      <td>19732</td>\n",
       "      <td>18846</td>\n",
       "      <td>NaN</td>\n",
       "      <td>9591</td>\n",
       "      <td>NaN</td>\n",
       "      <td>12801</td>\n",
       "      <td>19002</td>\n",
       "      <td>8588</td>\n",
       "    </tr>\n",
       "    <tr>\n",
       "      <th>mean</th>\n",
       "      <td>NaN</td>\n",
       "      <td>NaN</td>\n",
       "      <td>691.832500</td>\n",
       "      <td>NaN</td>\n",
       "      <td>210.746217</td>\n",
       "      <td>NaN</td>\n",
       "      <td>NaN</td>\n",
       "      <td>NaN</td>\n",
       "      <td>NaN</td>\n",
       "      <td>1.166116</td>\n",
       "      <td>...</td>\n",
       "      <td>NaN</td>\n",
       "      <td>NaN</td>\n",
       "      <td>NaN</td>\n",
       "      <td>NaN</td>\n",
       "      <td>0.055367</td>\n",
       "      <td>NaN</td>\n",
       "      <td>1.486150</td>\n",
       "      <td>NaN</td>\n",
       "      <td>NaN</td>\n",
       "      <td>NaN</td>\n",
       "    </tr>\n",
       "    <tr>\n",
       "      <th>std</th>\n",
       "      <td>NaN</td>\n",
       "      <td>NaN</td>\n",
       "      <td>1422.296918</td>\n",
       "      <td>NaN</td>\n",
       "      <td>841.538054</td>\n",
       "      <td>NaN</td>\n",
       "      <td>NaN</td>\n",
       "      <td>NaN</td>\n",
       "      <td>NaN</td>\n",
       "      <td>0.409196</td>\n",
       "      <td>...</td>\n",
       "      <td>NaN</td>\n",
       "      <td>NaN</td>\n",
       "      <td>NaN</td>\n",
       "      <td>NaN</td>\n",
       "      <td>0.590006</td>\n",
       "      <td>NaN</td>\n",
       "      <td>0.686099</td>\n",
       "      <td>NaN</td>\n",
       "      <td>NaN</td>\n",
       "      <td>NaN</td>\n",
       "    </tr>\n",
       "    <tr>\n",
       "      <th>min</th>\n",
       "      <td>NaN</td>\n",
       "      <td>NaN</td>\n",
       "      <td>0.000000</td>\n",
       "      <td>NaN</td>\n",
       "      <td>0.000000</td>\n",
       "      <td>NaN</td>\n",
       "      <td>NaN</td>\n",
       "      <td>NaN</td>\n",
       "      <td>NaN</td>\n",
       "      <td>1.000000</td>\n",
       "      <td>...</td>\n",
       "      <td>NaN</td>\n",
       "      <td>NaN</td>\n",
       "      <td>NaN</td>\n",
       "      <td>NaN</td>\n",
       "      <td>0.000000</td>\n",
       "      <td>NaN</td>\n",
       "      <td>1.000000</td>\n",
       "      <td>NaN</td>\n",
       "      <td>NaN</td>\n",
       "      <td>NaN</td>\n",
       "    </tr>\n",
       "    <tr>\n",
       "      <th>25%</th>\n",
       "      <td>NaN</td>\n",
       "      <td>NaN</td>\n",
       "      <td>0.000000</td>\n",
       "      <td>NaN</td>\n",
       "      <td>0.000000</td>\n",
       "      <td>NaN</td>\n",
       "      <td>NaN</td>\n",
       "      <td>NaN</td>\n",
       "      <td>NaN</td>\n",
       "      <td>1.000000</td>\n",
       "      <td>...</td>\n",
       "      <td>NaN</td>\n",
       "      <td>NaN</td>\n",
       "      <td>NaN</td>\n",
       "      <td>NaN</td>\n",
       "      <td>0.000000</td>\n",
       "      <td>NaN</td>\n",
       "      <td>1.000000</td>\n",
       "      <td>NaN</td>\n",
       "      <td>NaN</td>\n",
       "      <td>NaN</td>\n",
       "    </tr>\n",
       "    <tr>\n",
       "      <th>50%</th>\n",
       "      <td>NaN</td>\n",
       "      <td>NaN</td>\n",
       "      <td>105.000000</td>\n",
       "      <td>NaN</td>\n",
       "      <td>0.000000</td>\n",
       "      <td>NaN</td>\n",
       "      <td>NaN</td>\n",
       "      <td>NaN</td>\n",
       "      <td>NaN</td>\n",
       "      <td>1.000000</td>\n",
       "      <td>...</td>\n",
       "      <td>NaN</td>\n",
       "      <td>NaN</td>\n",
       "      <td>NaN</td>\n",
       "      <td>NaN</td>\n",
       "      <td>0.000000</td>\n",
       "      <td>NaN</td>\n",
       "      <td>1.000000</td>\n",
       "      <td>NaN</td>\n",
       "      <td>NaN</td>\n",
       "      <td>NaN</td>\n",
       "    </tr>\n",
       "    <tr>\n",
       "      <th>75%</th>\n",
       "      <td>NaN</td>\n",
       "      <td>NaN</td>\n",
       "      <td>472.000000</td>\n",
       "      <td>NaN</td>\n",
       "      <td>0.000000</td>\n",
       "      <td>NaN</td>\n",
       "      <td>NaN</td>\n",
       "      <td>NaN</td>\n",
       "      <td>NaN</td>\n",
       "      <td>1.000000</td>\n",
       "      <td>...</td>\n",
       "      <td>NaN</td>\n",
       "      <td>NaN</td>\n",
       "      <td>NaN</td>\n",
       "      <td>NaN</td>\n",
       "      <td>0.000000</td>\n",
       "      <td>NaN</td>\n",
       "      <td>2.000000</td>\n",
       "      <td>NaN</td>\n",
       "      <td>NaN</td>\n",
       "      <td>NaN</td>\n",
       "    </tr>\n",
       "    <tr>\n",
       "      <th>max</th>\n",
       "      <td>NaN</td>\n",
       "      <td>NaN</td>\n",
       "      <td>6542.000000</td>\n",
       "      <td>NaN</td>\n",
       "      <td>8228.000000</td>\n",
       "      <td>NaN</td>\n",
       "      <td>NaN</td>\n",
       "      <td>NaN</td>\n",
       "      <td>NaN</td>\n",
       "      <td>3.000000</td>\n",
       "      <td>...</td>\n",
       "      <td>NaN</td>\n",
       "      <td>NaN</td>\n",
       "      <td>NaN</td>\n",
       "      <td>NaN</td>\n",
       "      <td>9.000000</td>\n",
       "      <td>NaN</td>\n",
       "      <td>13.000000</td>\n",
       "      <td>NaN</td>\n",
       "      <td>NaN</td>\n",
       "      <td>NaN</td>\n",
       "    </tr>\n",
       "  </tbody>\n",
       "</table>\n",
       "<p>11 rows × 312 columns</p>\n",
       "</div>"
      ],
      "text/plain": [
       "       Accident_Index 1st_Road_Class  1st_Road_Number 2nd_Road_Class  \\\n",
       "count           20000          20000     20000.000000          13597   \n",
       "unique          17096              6              NaN              6   \n",
       "top     200504D008305              A              NaN   Unclassified   \n",
       "freq                5          11755              NaN           8073   \n",
       "mean              NaN            NaN       691.832500            NaN   \n",
       "std               NaN            NaN      1422.296918            NaN   \n",
       "min               NaN            NaN         0.000000            NaN   \n",
       "25%               NaN            NaN         0.000000            NaN   \n",
       "50%               NaN            NaN       105.000000            NaN   \n",
       "75%               NaN            NaN       472.000000            NaN   \n",
       "max               NaN            NaN      6542.000000            NaN   \n",
       "\n",
       "        2nd_Road_Number Accident_Severity Carriageway_Hazards        Date  \\\n",
       "count      19958.000000             20000               20000       20000   \n",
       "unique              NaN                 3                   7         365   \n",
       "top                 NaN            Slight                None  2005-10-20   \n",
       "freq                NaN             17485               19748          94   \n",
       "mean         210.746217               NaN                 NaN         NaN   \n",
       "std          841.538054               NaN                 NaN         NaN   \n",
       "min            0.000000               NaN                 NaN         NaN   \n",
       "25%            0.000000               NaN                 NaN         NaN   \n",
       "50%            0.000000               NaN                 NaN         NaN   \n",
       "75%            0.000000               NaN                 NaN         NaN   \n",
       "max         8228.000000               NaN                 NaN         NaN   \n",
       "\n",
       "       Day_of_Week  Did_Police_Officer_Attend_Scene_of_Accident  ...  \\\n",
       "count        20000                                 19992.000000  ...   \n",
       "unique           7                                          NaN  ...   \n",
       "top         Friday                                          NaN  ...   \n",
       "freq          3221                                          NaN  ...   \n",
       "mean           NaN                                     1.166116  ...   \n",
       "std            NaN                                     0.409196  ...   \n",
       "min            NaN                                     1.000000  ...   \n",
       "25%            NaN                                     1.000000  ...   \n",
       "50%            NaN                                     1.000000  ...   \n",
       "75%            NaN                                     1.000000  ...   \n",
       "max            NaN                                     3.000000  ...   \n",
       "\n",
       "       Sex_of_Driver Skidding_and_Overturning  Towing_and_Articulation  \\\n",
       "count          20000                    20000                    20000   \n",
       "unique             3                        7                        7   \n",
       "top             Male                     None      No tow/articulation   \n",
       "freq           14894                    18536                    19732   \n",
       "mean             NaN                      NaN                      NaN   \n",
       "std              NaN                      NaN                      NaN   \n",
       "min              NaN                      NaN                      NaN   \n",
       "25%              NaN                      NaN                      NaN   \n",
       "50%              NaN                      NaN                      NaN   \n",
       "75%              NaN                      NaN                      NaN   \n",
       "max              NaN                      NaN                      NaN   \n",
       "\n",
       "       Vehicle_Leaving_Carriageway Vehicle_Location.Restricted_Lane  \\\n",
       "count                        20000                     19994.000000   \n",
       "unique                          10                              NaN   \n",
       "top      Did not leave carriageway                              NaN   \n",
       "freq                         18846                              NaN   \n",
       "mean                           NaN                         0.055367   \n",
       "std                            NaN                         0.590006   \n",
       "min                            NaN                         0.000000   \n",
       "25%                            NaN                         0.000000   \n",
       "50%                            NaN                         0.000000   \n",
       "75%                            NaN                         0.000000   \n",
       "max                            NaN                         9.000000   \n",
       "\n",
       "        Vehicle_Manoeuvre  Vehicle_Reference  Vehicle_Type  \\\n",
       "count               20000       20000.000000         20000   \n",
       "unique                 19                NaN            14   \n",
       "top     Going ahead other                NaN           Car   \n",
       "freq                 9591                NaN         12801   \n",
       "mean                  NaN           1.486150           NaN   \n",
       "std                   NaN           0.686099           NaN   \n",
       "min                   NaN           1.000000           NaN   \n",
       "25%                   NaN           1.000000           NaN   \n",
       "50%                   NaN           1.000000           NaN   \n",
       "75%                   NaN           2.000000           NaN   \n",
       "max                   NaN          13.000000           NaN   \n",
       "\n",
       "        Was_Vehicle_Left_Hand_Drive X1st_Point_of_Impact  \n",
       "count                         20000                20000  \n",
       "unique                            3                    6  \n",
       "top                              No                Front  \n",
       "freq                          19002                 8588  \n",
       "mean                            NaN                  NaN  \n",
       "std                             NaN                  NaN  \n",
       "min                             NaN                  NaN  \n",
       "25%                             NaN                  NaN  \n",
       "50%                             NaN                  NaN  \n",
       "75%                             NaN                  NaN  \n",
       "max                             NaN                  NaN  \n",
       "\n",
       "[11 rows x 312 columns]"
      ]
     },
     "execution_count": 136,
     "metadata": {},
     "output_type": "execute_result"
    }
   ],
   "source": [
    "df.describe(include ='all')"
   ]
  },
  {
   "cell_type": "markdown",
   "id": "b1c0a047",
   "metadata": {},
   "source": [
    "# Data Cleaning"
   ]
  },
  {
   "cell_type": "code",
   "execution_count": 28,
   "id": "bf4ed47b",
   "metadata": {},
   "outputs": [
    {
     "name": "stdout",
     "output_type": "stream",
     "text": [
      "0.9999690970762747\n",
      "0.9999966866960788\n"
     ]
    }
   ],
   "source": [
    "#check corr b/t Location_Easting_OSGR & Location_Northing_OSGR AND Longitude and Latitude\n",
    "\n",
    "print(df['Location_Easting_OSGR'].corr(df['Longitude']))\n",
    "\n",
    "\n",
    "print(df['Location_Northing_OSGR'].corr(df['Latitude']))"
   ]
  },
  {
   "cell_type": "code",
   "execution_count": 29,
   "id": "28c10530",
   "metadata": {},
   "outputs": [],
   "source": [
    "#drop Location_Easting_OSGR & Location_Northing_OSGR\n",
    "#because they are the similar to Latitude and Longitude \n",
    "\n",
    "df = df.drop(['Location_Easting_OSGR', 'Location_Northing_OSGR'], axis=1)"
   ]
  },
  {
   "cell_type": "code",
   "execution_count": 30,
   "id": "0f911f74",
   "metadata": {},
   "outputs": [
    {
     "data": {
      "text/plain": [
       "(20000, 310)"
      ]
     },
     "execution_count": 30,
     "metadata": {},
     "output_type": "execute_result"
    }
   ],
   "source": [
    "df.shape"
   ]
  },
  {
   "cell_type": "code",
   "execution_count": 137,
   "id": "464e31b8",
   "metadata": {},
   "outputs": [],
   "source": [
    "temp=df\n",
    "\n",
    "#standardize all column names to lowercase, and remove some characters \n",
    "#for ease of use in querying\n",
    "df.columns = map(str.lower, df.columns)\n",
    "df.columns = df.columns.str.replace('.','')\n",
    "df.columns = df.columns.str.replace('(','')\n",
    "df.columns = df.columns.str.replace(')','')"
   ]
  },
  {
   "cell_type": "code",
   "execution_count": 138,
   "id": "faa150fc",
   "metadata": {},
   "outputs": [],
   "source": [
    "#convert date/time to datetime datatype\n",
    "\n",
    "df['date'] = pd.to_datetime((df['date']), format= \"%Y-%m-%d\")"
   ]
  },
  {
   "cell_type": "code",
   "execution_count": 33,
   "id": "ac740350",
   "metadata": {},
   "outputs": [
    {
     "data": {
      "text/plain": [
       "{float64: ['1st_road_number', '2nd_road_number', 'did_police_officer_attend_scene_of_accident', 'latitude', 'longitude', 'pedestrian_crossing-human_control', 'pedestrian_crossing-physical_facilities', 'speed_limit', 'age_of_vehicle', 'driver_imd_decile', 'engine_capacity_cc', 'vehicle_locationrestricted_lane'], datetime64[ns]: ['date'], uint8: ['area10', 'area100', 'area101', 'area102', 'area103', 'area104', 'area105', 'area106', 'area107', 'area108', 'area11', 'area113', 'area114', 'area115', 'area116', 'area117', 'area118', 'area119', 'area120', 'area121', 'area122', 'area123', 'area124', 'area125', 'area128', 'area129', 'area130', 'area131', 'area132', 'area133', 'area134', 'area135', 'area136', 'area137', 'area138', 'area140', 'area144', 'area145', 'area146', 'area147', 'area148', 'area149', 'area150', 'area151', 'area152', 'area154', 'area157', 'area158', 'area16', 'area160', 'area161', 'area162', 'area163', 'area164', 'area165', 'area166', 'area173', 'area174', 'area177', 'area178', 'area179', 'area180', 'area181', 'area182', 'area193', 'area194', 'area195', 'area196', 'area197', 'area209', 'area210', 'area211', 'area212', 'area225', 'area226', 'area227', 'area228', 'area24', 'area241', 'area25', 'area255', 'area26', 'area27', 'area32', 'area39', 'area40', 'area41', 'area42', 'area43', 'area48', 'area50', 'area54', 'area55', 'area56', 'area57', 'area58', 'area59', 'area64', 'area65', 'area66', ...], int64: ['number_of_casualties', 'number_of_vehicles', 'year', 'area0', 'area1', 'area2', 'area3', 'area4', 'area5', 'area6', 'area7', 'area8', 'area12', 'area13', 'area14', 'area15', 'area17', 'area18', 'area19', 'area20', 'area21', 'area22', 'area23', 'area28', 'area29', 'area30', 'area31', 'area33', 'area34', 'area35', 'area36', 'area37', 'area38', 'area44', 'area45', 'area46', 'area47', 'area49', 'area51', 'area52', 'area53', 'area60', 'area61', 'area62', 'area63', 'area69', 'area76', 'area77', 'area78', 'area79', 'area85', 'area92', 'area93', 'area94', 'area95', 'area109', 'area110', 'area111', 'area112', 'area126', 'area127', 'area139', 'area141', 'area142', 'area143', 'area153', 'area155', 'area156', 'area159', 'area167', 'area168', 'area169', 'area170', 'area171', 'area172', 'area175', 'area176', 'area183', 'area184', 'area185', 'area186', 'area187', 'area188', 'area189', 'area190', 'area191', 'area192', 'area198', 'area199', 'area200', 'area201', 'area202', 'area203', 'area204', 'area205', 'area206', 'area207', 'area208', 'area213', 'area214', ...], object: ['accident_index', '1st_road_class', '2nd_road_class', 'accident_severity', 'carriageway_hazards', 'day_of_week', 'junction_control', 'junction_detail', 'light_conditions', 'local_authority_district', 'local_authority_highway', 'lsoa_of_accident_location', 'police_force', 'road_surface_conditions', 'road_type', 'special_conditions_at_site', 'time', 'urban_or_rural_area', 'weather_conditions', 'inscotland', 'age_band_of_driver', 'driver_home_area_type', 'hit_object_in_carriageway', 'hit_object_off_carriageway', 'journey_purpose_of_driver', 'junction_location', 'make', 'model', 'propulsion_code', 'sex_of_driver', 'skidding_and_overturning', 'towing_and_articulation', 'vehicle_leaving_carriageway', 'vehicle_manoeuvre', 'vehicle_type', 'was_vehicle_left_hand_drive', 'x1st_point_of_impact']}"
      ]
     },
     "execution_count": 33,
     "metadata": {},
     "output_type": "execute_result"
    }
   ],
   "source": [
    "df.columns.to_series().groupby(df.dtypes).groups"
   ]
  },
  {
   "cell_type": "markdown",
   "id": "3bc095ee",
   "metadata": {},
   "source": [
    "# Nulls and Outliers"
   ]
  },
  {
   "cell_type": "code",
   "execution_count": 139,
   "id": "24f8b600",
   "metadata": {},
   "outputs": [
    {
     "data": {
      "text/plain": [
       "2nd_road_class          32.015\n",
       "driver_imd_decile       24.295\n",
       "model                   22.815\n",
       "age_of_vehicle          13.765\n",
       "engine_capacity_cc       9.725\n",
       "                         ...  \n",
       "area24                   0.000\n",
       "area228                  0.000\n",
       "area227                  0.000\n",
       "area226                  0.000\n",
       "x1st_point_of_impact     0.000\n",
       "Length: 312, dtype: float64"
      ]
     },
     "execution_count": 139,
     "metadata": {},
     "output_type": "execute_result"
    }
   ],
   "source": [
    "df.isnull().sum().sort_values(ascending=False)/df.shape[0]*100"
   ]
  },
  {
   "cell_type": "markdown",
   "id": "914bed89",
   "metadata": {},
   "source": [
    "#### 2nd_road_class"
   ]
  },
  {
   "cell_type": "code",
   "execution_count": 140,
   "id": "5bbc0545",
   "metadata": {},
   "outputs": [
    {
     "data": {
      "text/plain": [
       "Unclassified    40.365\n",
       "A               15.825\n",
       "C                6.975\n",
       "B                4.385\n",
       "Motorway         0.430\n",
       "A(M)             0.005\n",
       "Name: 2nd_road_class, dtype: float64"
      ]
     },
     "execution_count": 140,
     "metadata": {},
     "output_type": "execute_result"
    }
   ],
   "source": [
    "# #2nd_road_class\n",
    "df['2nd_road_class'].value_counts()/df.shape[0]*100"
   ]
  },
  {
   "cell_type": "markdown",
   "id": "04adc14f",
   "metadata": {},
   "source": [
    "With 40% of non null being unclassified and 39% of the overall 2nd_road_class column being null, We have decided to drop it in it's entirely."
   ]
  },
  {
   "cell_type": "code",
   "execution_count": 141,
   "id": "8f0922fd",
   "metadata": {},
   "outputs": [],
   "source": [
    "df = df.drop(['2nd_road_class'], axis=1)"
   ]
  },
  {
   "cell_type": "markdown",
   "id": "5228757a",
   "metadata": {},
   "source": [
    "#### driver_imd_decile"
   ]
  },
  {
   "cell_type": "code",
   "execution_count": 142,
   "id": "d2db58c0",
   "metadata": {},
   "outputs": [
    {
     "data": {
      "text/plain": [
       "3.0     10.960\n",
       "2.0     10.945\n",
       "4.0      9.400\n",
       "5.0      8.200\n",
       "6.0      7.270\n",
       "7.0      6.775\n",
       "8.0      6.290\n",
       "1.0      6.100\n",
       "9.0      5.800\n",
       "10.0     3.965\n",
       "Name: driver_imd_decile, dtype: float64"
      ]
     },
     "execution_count": 142,
     "metadata": {},
     "output_type": "execute_result"
    }
   ],
   "source": [
    "#driver_imd_decile\n",
    "df['driver_imd_decile'].value_counts()/df.shape[0]*100"
   ]
  },
  {
   "cell_type": "markdown",
   "id": "f138031a",
   "metadata": {},
   "source": [
    "Since the distribution of categories for 'driver_imd_decile seem very similar, We've decided not to use the mode but \"method='ffill'\""
   ]
  },
  {
   "cell_type": "code",
   "execution_count": 143,
   "id": "6d793d0d",
   "metadata": {},
   "outputs": [],
   "source": [
    "df['driver_imd_decile'].fillna(method='ffill', inplace=True)"
   ]
  },
  {
   "cell_type": "markdown",
   "id": "a7f4029d",
   "metadata": {},
   "source": [
    "#### age_of_vehicle"
   ]
  },
  {
   "cell_type": "code",
   "execution_count": 144,
   "id": "7837fac1",
   "metadata": {},
   "outputs": [
    {
     "data": {
      "text/plain": [
       "count    17247.000000\n",
       "mean         5.919754\n",
       "std          4.508711\n",
       "min          1.000000\n",
       "25%          2.000000\n",
       "50%          5.000000\n",
       "75%          8.000000\n",
       "max         48.000000\n",
       "Name: age_of_vehicle, dtype: float64"
      ]
     },
     "execution_count": 144,
     "metadata": {},
     "output_type": "execute_result"
    }
   ],
   "source": [
    "df['age_of_vehicle'].describe()"
   ]
  },
  {
   "cell_type": "code",
   "execution_count": 145,
   "id": "9b717475",
   "metadata": {},
   "outputs": [
    {
     "data": {
      "text/plain": [
       "5.0"
      ]
     },
     "execution_count": 145,
     "metadata": {},
     "output_type": "execute_result"
    }
   ],
   "source": [
    "df['age_of_vehicle'].median()"
   ]
  },
  {
   "cell_type": "code",
   "execution_count": 146,
   "id": "9deaf8cd",
   "metadata": {},
   "outputs": [],
   "source": [
    "df['age_of_vehicle'].fillna(7, inplace=True)\n",
    "\n",
    "#group age_of_vehicle\n",
    "#1=0-3, 2=3-5, 3=5-8, 4=8-11, 5=\n",
    "def fixedvehicleage(age):\n",
    "    if age>=0 and age<=120:\n",
    "        return age\n",
    "    else:\n",
    "        return np.nan\n",
    "\n",
    "df['age_of_vehicle'] = df['age_of_vehicle'].apply(fixedvehicleage)\n",
    "\n",
    "\n",
    "df['age_of_vehicle'] = pd.cut(df['age_of_vehicle'], \n",
    "                             [0,2,5,8,11,14,17,120], labels=['1', '2', '3','4','5','6','7'])"
   ]
  },
  {
   "cell_type": "markdown",
   "id": "b5f43957",
   "metadata": {},
   "source": [
    "#### Model"
   ]
  },
  {
   "cell_type": "code",
   "execution_count": 147,
   "id": "7d76d775",
   "metadata": {},
   "outputs": [
    {
     "data": {
      "text/plain": [
       "VESPA ET4                   0.665\n",
       "CLIO DYNAMIQUE 16V          0.665\n",
       "TRANSIT 350 LWB TD          0.565\n",
       "TX1 SILVER AUTO             0.525\n",
       "TX1 BRONZE AUTO             0.455\n",
       "                            ...  \n",
       "ZAFIRA LIFE CDTI 120 E4     0.005\n",
       "CAMRY V6 3.0I AUTO          0.005\n",
       "318I ES AUTO                0.005\n",
       "406 GTX HDI FAMILY (110)    0.005\n",
       "6 S DIESEL                  0.005\n",
       "Name: model, Length: 4448, dtype: float64"
      ]
     },
     "execution_count": 147,
     "metadata": {},
     "output_type": "execute_result"
    }
   ],
   "source": [
    "#model\n",
    "df['model'].value_counts()/df.shape[0]*100"
   ]
  },
  {
   "cell_type": "code",
   "execution_count": 148,
   "id": "0c2d0e70",
   "metadata": {},
   "outputs": [
    {
     "data": {
      "text/plain": [
       "count         15437\n",
       "unique         4448\n",
       "top       VESPA ET4\n",
       "freq            133\n",
       "Name: model, dtype: object"
      ]
     },
     "execution_count": 148,
     "metadata": {},
     "output_type": "execute_result"
    }
   ],
   "source": [
    "df['model'].describe()"
   ]
  },
  {
   "cell_type": "markdown",
   "id": "f1f03b1a",
   "metadata": {},
   "source": [
    "Knowing the number of unique models for the model column we have decided to use the ffill method on it as well."
   ]
  },
  {
   "cell_type": "code",
   "execution_count": 149,
   "id": "5c14a18d",
   "metadata": {},
   "outputs": [],
   "source": [
    "df['model'].fillna(method='ffill', inplace=True) "
   ]
  },
  {
   "cell_type": "markdown",
   "id": "851f5dd7",
   "metadata": {},
   "source": [
    "Note: A lot of the values of \"model' are labeled as \"missing\". We have not changed these because the model could have actually been missing from the car from the accident or it could not be recognizable at the time of the accident."
   ]
  },
  {
   "cell_type": "markdown",
   "id": "66b4c1b4",
   "metadata": {},
   "source": [
    "#### engine_capacity_cc"
   ]
  },
  {
   "cell_type": "code",
   "execution_count": 150,
   "id": "0e6dedc1",
   "metadata": {},
   "outputs": [
    {
     "data": {
      "text/plain": [
       "count    18055.000000\n",
       "mean      2338.079092\n",
       "std       2276.712202\n",
       "min         44.000000\n",
       "25%       1275.000000\n",
       "50%       1769.000000\n",
       "75%       2171.000000\n",
       "max      16123.000000\n",
       "Name: engine_capacity_cc, dtype: float64"
      ]
     },
     "execution_count": 150,
     "metadata": {},
     "output_type": "execute_result"
    }
   ],
   "source": [
    "#engine_capacity_cc\n",
    "df['engine_capacity_cc'].describe()"
   ]
  },
  {
   "cell_type": "markdown",
   "id": "b8e6cea3",
   "metadata": {},
   "source": [
    "We will be handling both outliers and the null values of engine_capacity_cc using the ideals of quantiles and the interquartile range (IQR)."
   ]
  },
  {
   "cell_type": "code",
   "execution_count": 151,
   "id": "a3fc221c",
   "metadata": {},
   "outputs": [
    {
     "name": "stdout",
     "output_type": "stream",
     "text": [
      "Maximum Engine Capacity\n",
      "3515.0\n",
      "Minimum Engine Capacity\n",
      "-69.0\n"
     ]
    }
   ],
   "source": [
    "#first we are going to handle both ends of outliers.\n",
    "#(determine the min and max cuttoffs for detecting the outlier)\n",
    "q75, q25 = np.percentile(df['engine_capacity_cc'].dropna(), [75 ,25])\n",
    "iqr = q75 - q25\n",
    " \n",
    "ecmin = q25 - (iqr*1.5)\n",
    "ecmax = q75 + (iqr*1.5)\n",
    "\n",
    "print(\"Maximum Engine Capacity\")\n",
    "print(ecmax)\n",
    "print(\"Minimum Engine Capacity\")\n",
    "print(ecmin)"
   ]
  },
  {
   "cell_type": "markdown",
   "id": "010ad333",
   "metadata": {},
   "source": [
    "We will be using the ecmax number for the maximum engine_capacity_cc and ecmin for mi engine_capacity_cc. Then we are going to take the mean of those and use it as my fillna."
   ]
  },
  {
   "cell_type": "code",
   "execution_count": 152,
   "id": "05cd760b",
   "metadata": {},
   "outputs": [],
   "source": [
    "df = df[df['engine_capacity_cc']<=ecmax]"
   ]
  },
  {
   "cell_type": "code",
   "execution_count": 153,
   "id": "ba139b1f",
   "metadata": {},
   "outputs": [],
   "source": [
    "df = df[df['engine_capacity_cc']>=ecmin]"
   ]
  },
  {
   "cell_type": "code",
   "execution_count": 154,
   "id": "672b9581",
   "metadata": {},
   "outputs": [
    {
     "data": {
      "image/png": "[encoded data removed]",
      "text/plain": [
       "<Figure size 432x288 with 1 Axes>"
      ]
     },
     "metadata": {},
     "output_type": "display_data"
    }
   ],
   "source": [
    "df['engine_capacity_cc'].hist(bins=20)\n",
    "plt.style.use('dark_background')"
   ]
  },
  {
   "cell_type": "markdown",
   "id": "dc49d76d",
   "metadata": {},
   "source": [
    "We can accept this distribution and will now check and handle their nulls"
   ]
  },
  {
   "cell_type": "code",
   "execution_count": 155,
   "id": "31329d45",
   "metadata": {},
   "outputs": [
    {
     "data": {
      "text/plain": [
       "count    15726.000000\n",
       "mean      1561.812476\n",
       "std        666.705824\n",
       "min         44.000000\n",
       "25%       1199.000000\n",
       "50%       1598.000000\n",
       "75%       1995.000000\n",
       "max       3500.000000\n",
       "Name: engine_capacity_cc, dtype: float64"
      ]
     },
     "execution_count": 155,
     "metadata": {},
     "output_type": "execute_result"
    }
   ],
   "source": [
    "#check values of 'engine_capacity_cc'\n",
    "df['engine_capacity_cc'].describe()"
   ]
  },
  {
   "cell_type": "markdown",
   "id": "cda5294c",
   "metadata": {},
   "source": [
    "Below code is to round this mean value"
   ]
  },
  {
   "cell_type": "code",
   "execution_count": 156,
   "id": "f72ce47d",
   "metadata": {},
   "outputs": [
    {
     "data": {
      "text/plain": [
       "1561.8124761541396"
      ]
     },
     "execution_count": 156,
     "metadata": {},
     "output_type": "execute_result"
    }
   ],
   "source": [
    "df['engine_capacity_cc'].mean()"
   ]
  },
  {
   "cell_type": "code",
   "execution_count": 157,
   "id": "8444a566",
   "metadata": {},
   "outputs": [],
   "source": [
    "df['engine_capacity_cc'].fillna(1652, inplace=True)"
   ]
  },
  {
   "cell_type": "code",
   "execution_count": 158,
   "id": "7b795850",
   "metadata": {},
   "outputs": [
    {
     "data": {
      "text/plain": [
       "lsoa_of_accident_location    0.235279\n",
       "2nd_road_number              0.222561\n",
       "longitude                    0.038153\n",
       "location_northing_osgr       0.038153\n",
       "location_easting_osgr        0.038153\n",
       "                               ...   \n",
       "area24                       0.000000\n",
       "area228                      0.000000\n",
       "area227                      0.000000\n",
       "area226                      0.000000\n",
       "x1st_point_of_impact         0.000000\n",
       "Length: 311, dtype: float64"
      ]
     },
     "execution_count": 158,
     "metadata": {},
     "output_type": "execute_result"
    }
   ],
   "source": [
    "df.isnull().sum().sort_values(ascending=False)/df.shape[0]*100"
   ]
  },
  {
   "cell_type": "markdown",
   "id": "8e808f65",
   "metadata": {},
   "source": [
    "Note: After doing the above null fixes, propulsion_code dropped from having 10% null values to zero.\n",
    "\n",
    "we will continue on and fix lsoa_of_accident_location then drop the rest of the null values with are all less than 5%."
   ]
  },
  {
   "cell_type": "code",
   "execution_count": 159,
   "id": "5a112089",
   "metadata": {},
   "outputs": [
    {
     "data": {
      "text/plain": [
       "lsoa_of_accident_location    0.235279\n",
       "2nd_road_number              0.222561\n",
       "longitude                    0.038153\n",
       "location_northing_osgr       0.038153\n",
       "location_easting_osgr        0.038153\n",
       "                               ...   \n",
       "area24                       0.000000\n",
       "area228                      0.000000\n",
       "area227                      0.000000\n",
       "area226                      0.000000\n",
       "x1st_point_of_impact         0.000000\n",
       "Length: 311, dtype: float64"
      ]
     },
     "execution_count": 159,
     "metadata": {},
     "output_type": "execute_result"
    }
   ],
   "source": [
    "df.isnull().sum().sort_values(ascending=False)/df.shape[0]*100"
   ]
  },
  {
   "cell_type": "markdown",
   "id": "4947e5af",
   "metadata": {},
   "source": [
    "#### lsoa_of_accident_location"
   ]
  },
  {
   "cell_type": "code",
   "execution_count": 160,
   "id": "ab20729e",
   "metadata": {},
   "outputs": [
    {
     "data": {
      "text/plain": [
       "E01000004    109\n",
       "E01002444     62\n",
       "E01001412     48\n",
       "E01004736     47\n",
       "E01004689     36\n",
       "            ... \n",
       "E01025117      1\n",
       "E01025119      1\n",
       "E01012728      1\n",
       "E01001126      1\n",
       "E01024856      1\n",
       "Name: lsoa_of_accident_location, Length: 4513, dtype: int64"
      ]
     },
     "execution_count": 160,
     "metadata": {},
     "output_type": "execute_result"
    }
   ],
   "source": [
    "# #lsoa_of_accident_location\n",
    "df['lsoa_of_accident_location'].value_counts()"
   ]
  },
  {
   "cell_type": "code",
   "execution_count": 161,
   "id": "10d7f749",
   "metadata": {},
   "outputs": [
    {
     "data": {
      "text/plain": [
       "count         15689\n",
       "unique         4513\n",
       "top       E01000004\n",
       "freq            109\n",
       "Name: lsoa_of_accident_location, dtype: object"
      ]
     },
     "execution_count": 161,
     "metadata": {},
     "output_type": "execute_result"
    }
   ],
   "source": [
    "df['lsoa_of_accident_location'].describe()"
   ]
  },
  {
   "cell_type": "markdown",
   "id": "72b0f4a0",
   "metadata": {},
   "source": [
    "With numerous unique variable and a high count amount the top variables we are deciding to do ffill again."
   ]
  },
  {
   "cell_type": "code",
   "execution_count": 162,
   "id": "ff43ef9a",
   "metadata": {},
   "outputs": [],
   "source": [
    "df['lsoa_of_accident_location'].fillna(method='ffill', inplace=True)"
   ]
  },
  {
   "cell_type": "code",
   "execution_count": 163,
   "id": "a6e48309",
   "metadata": {},
   "outputs": [
    {
     "data": {
      "text/plain": [
       "2nd_road_number           0.222561\n",
       "longitude                 0.038153\n",
       "location_northing_osgr    0.038153\n",
       "location_easting_osgr     0.038153\n",
       "latitude                  0.038153\n",
       "                            ...   \n",
       "area228                   0.000000\n",
       "area227                   0.000000\n",
       "area226                   0.000000\n",
       "area225                   0.000000\n",
       "x1st_point_of_impact      0.000000\n",
       "Length: 311, dtype: float64"
      ]
     },
     "execution_count": 163,
     "metadata": {},
     "output_type": "execute_result"
    }
   ],
   "source": [
    "#### Check nulls for again\n",
    "df.isnull().sum().sort_values(ascending=False)/df.shape[0]*100"
   ]
  },
  {
   "cell_type": "markdown",
   "id": "d0f52e60",
   "metadata": {},
   "source": [
    "Dropping the remaining nulls that are <1%."
   ]
  },
  {
   "cell_type": "code",
   "execution_count": 164,
   "id": "8408e71f",
   "metadata": {},
   "outputs": [
    {
     "data": {
      "text/plain": [
       "accident_index          0.0\n",
       "area92                  0.0\n",
       "area112                 0.0\n",
       "area111                 0.0\n",
       "area110                 0.0\n",
       "                       ... \n",
       "area210                 0.0\n",
       "area209                 0.0\n",
       "area197                 0.0\n",
       "area196                 0.0\n",
       "x1st_point_of_impact    0.0\n",
       "Length: 311, dtype: float64"
      ]
     },
     "execution_count": 164,
     "metadata": {},
     "output_type": "execute_result"
    }
   ],
   "source": [
    "#drop the remaining nulls that are <1%\n",
    "df.dropna(inplace=True)\n",
    "\n",
    "#last check\n",
    "df.isnull().sum().sort_values(ascending=False)/df.shape[0]*100"
   ]
  },
  {
   "cell_type": "code",
   "execution_count": 165,
   "id": "d936b0b3",
   "metadata": {},
   "outputs": [
    {
     "data": {
      "text/plain": [
       "(15679, 311)"
      ]
     },
     "execution_count": 165,
     "metadata": {},
     "output_type": "execute_result"
    }
   ],
   "source": [
    "df.shape"
   ]
  },
  {
   "cell_type": "code",
   "execution_count": 166,
   "id": "1f7602f1",
   "metadata": {},
   "outputs": [
    {
     "name": "stdout",
     "output_type": "stream",
     "text": [
      "<class 'pandas.core.frame.DataFrame'>\n",
      "Int64Index: 15679 entries, 2 to 19998\n",
      "Columns: 311 entries, accident_index to x1st_point_of_impact\n",
      "dtypes: category(1), datetime64[ns](1), float64(13), int64(136), object(36), uint8(124)\n",
      "memory usage: 24.2+ MB\n"
     ]
    }
   ],
   "source": [
    "df.info()"
   ]
  },
  {
   "cell_type": "markdown",
   "id": "ca0defc6",
   "metadata": {},
   "source": [
    "More outliers, categorizing, and other cleanup"
   ]
  },
  {
   "cell_type": "code",
   "execution_count": 167,
   "id": "00677214",
   "metadata": {},
   "outputs": [],
   "source": [
    "#detecting outliers of numerical columns (all floats/ints excluding lat/long and year)\n",
    "\n",
    "df_num = df[['engine_capacity_cc','number_of_casualties','number_of_vehicles','speed_limit']]"
   ]
  },
  {
   "cell_type": "code",
   "execution_count": 168,
   "id": "bb118d2a",
   "metadata": {},
   "outputs": [
    {
     "data": {
      "image/png": "[encoded data removed]",
      "text/plain": [
       "<Figure size 864x576 with 4 Axes>"
      ]
     },
     "metadata": {},
     "output_type": "display_data"
    }
   ],
   "source": [
    "df_num.hist( bins=25, grid=False, figsize=(12,8))\n",
    "plt.style.use('dark_background')"
   ]
  },
  {
   "cell_type": "code",
   "execution_count": 169,
   "id": "2a20d390",
   "metadata": {},
   "outputs": [
    {
     "data": {
      "text/plain": [
       "1     12109\n",
       "2      2534\n",
       "3       655\n",
       "4       204\n",
       "5       104\n",
       "6        38\n",
       "7        25\n",
       "9         5\n",
       "8         2\n",
       "17        1\n",
       "10        1\n",
       "13        1\n",
       "Name: number_of_casualties, dtype: int64"
      ]
     },
     "execution_count": 169,
     "metadata": {},
     "output_type": "execute_result"
    }
   ],
   "source": [
    "# #number_of_casualties\n",
    "df['number_of_casualties'].value_counts()"
   ]
  },
  {
   "cell_type": "markdown",
   "id": "12e503b4",
   "metadata": {},
   "source": [
    "## Below code, we are trying to clean the values for Propulsion Code.¶"
   ]
  },
  {
   "cell_type": "code",
   "execution_count": 170,
   "id": "0ceb4579",
   "metadata": {},
   "outputs": [],
   "source": [
    "df['propulsion_code'] = df['propulsion_code'].replace(to_replace=\"Gas\", value=\"Petrol\")\n",
    "df['propulsion_code'] = df['propulsion_code'].replace(to_replace=\"Gas/Bi-fuel\", value=\"Bio-fuel\")\n",
    "df['propulsion_code'] = df['propulsion_code'].replace(to_replace=\"Petrol/Gas (LPG)\", value=\"LPG Petrol\")\n",
    "df['propulsion_code'] = df['propulsion_code'].replace(to_replace=\"Gas Diesel\", value=\"Diesel\")"
   ]
  },
  {
   "cell_type": "code",
   "execution_count": 171,
   "id": "b4735cd5",
   "metadata": {},
   "outputs": [
    {
     "data": {
      "text/plain": [
       "Petrol             74.685886\n",
       "Heavy oil          25.039862\n",
       "Bio-fuel            0.178583\n",
       "Hybrid electric     0.070158\n",
       "LPG Petrol          0.025512\n",
       "Name: propulsion_code, dtype: float64"
      ]
     },
     "execution_count": 171,
     "metadata": {},
     "output_type": "execute_result"
    }
   ],
   "source": [
    "df['propulsion_code'].value_counts()/df.shape[0]*100"
   ]
  },
  {
   "cell_type": "markdown",
   "id": "8db5f596",
   "metadata": {},
   "source": [
    "### Additionally needed Feature Manipulation"
   ]
  },
  {
   "cell_type": "code",
   "execution_count": 172,
   "id": "9a018654",
   "metadata": {},
   "outputs": [
    {
     "data": {
      "text/plain": [
       "accident_index            13656\n",
       "longitude                 12928\n",
       "latitude                  12807\n",
       "location_easting_osgr      6269\n",
       "location_northing_osgr     5750\n",
       "                          ...  \n",
       "area74                        1\n",
       "area75                        1\n",
       "area80                        1\n",
       "area81                        1\n",
       "area98                        1\n",
       "Length: 311, dtype: int64"
      ]
     },
     "execution_count": 172,
     "metadata": {},
     "output_type": "execute_result"
    }
   ],
   "source": [
    "df.nunique().sort_values(ascending=False)"
   ]
  },
  {
   "cell_type": "code",
   "execution_count": 69,
   "id": "66bb710e",
   "metadata": {},
   "outputs": [],
   "source": [
    "df['date'] = pd.to_datetime(df['date'])"
   ]
  },
  {
   "cell_type": "code",
   "execution_count": 173,
   "id": "0c3e8969",
   "metadata": {},
   "outputs": [],
   "source": [
    "df['month'] = df ['date'].apply(lambda time: time.month) "
   ]
  },
  {
   "cell_type": "code",
   "execution_count": 174,
   "id": "79495f10",
   "metadata": {},
   "outputs": [
    {
     "data": {
      "text/plain": [
       "Car                                      75.068563\n",
       "Motorcycle over 500cc                     7.302762\n",
       "Van / Goods 3.5 tonnes mgw or under       6.027170\n",
       "Motorcycle 125cc and under                4.490082\n",
       "Taxi/Private hire car                     2.850947\n",
       "Motorcycle 50cc and under                 1.919765\n",
       "Motorcycle over 125cc and up to 500cc     1.887876\n",
       "Minibus (8 - 16 passenger seats)          0.127559\n",
       "Bus or coach (17 or more pass seats)      0.121181\n",
       "Goods over 3.5t. and under 7.5t           0.121181\n",
       "Other vehicle                             0.063780\n",
       "Goods 7.5 tonnes mgw and over             0.019134\n",
       "Name: vehicle_type, dtype: float64"
      ]
     },
     "execution_count": 174,
     "metadata": {},
     "output_type": "execute_result"
    }
   ],
   "source": [
    "#for vehicle_type\n",
    "df['vehicle_type'].value_counts()/df.shape[0]*100"
   ]
  },
  {
   "cell_type": "markdown",
   "id": "4159279f",
   "metadata": {},
   "source": [
    "### Below code is where we have replaced the specific vehicle type with more generic one "
   ]
  },
  {
   "cell_type": "code",
   "execution_count": 175,
   "id": "45ec42e6",
   "metadata": {},
   "outputs": [],
   "source": [
    "df['vehicle_type'] = df['vehicle_type'].replace(to_replace=\"Motorcycle over 500cc\", \n",
    "                                                        value=\"Motorcycle\")\n",
    "df['vehicle_type'] = df['vehicle_type'].replace(to_replace=\n",
    "                                                        \"Motorcycle over 125cc and up to 500cc\",\n",
    "                                                        value=\"Motorcycle\")\n",
    "df['vehicle_type'] = df['vehicle_type'].replace(to_replace=\"Motorcycle 125cc and under\", \n",
    "                                                value=\"Motorcycle\")\n",
    "df['vehicle_type'] = df['vehicle_type'].replace(to_replace=\"Motorcycle 50cc and under\", \n",
    "                                                        value=\"Motorcycle\")\n",
    "df['vehicle_type'] = df['vehicle_type'].replace(to_replace=\"Electric motorcycle\", \n",
    "                                                        value=\"Motorcycle\")\n",
    "df['vehicle_type'] = df['vehicle_type'].replace(to_replace=\"Motorcycle - unknown cc\", \n",
    "                                                        value=\"Motorcycle\")\n",
    "\n",
    "\n",
    "#Goods_vehicle\n",
    "df['vehicle_type'] = df['vehicle_type'].replace(to_replace=\n",
    "                                                        \"Van / Goods 3.5 tonnes mgw or under\", \n",
    "                                                        value=\"Goods Vehicle\")\n",
    "df['vehicle_type'] = df['vehicle_type'].replace(to_replace=\"Goods over 3.5t. and under 7.5t\", \n",
    "                                                        value=\"Goods Vehicle\")\n",
    "df['vehicle_type'] = df['vehicle_type'].replace(to_replace=\"Goods vehicle - unknown weight\", \n",
    "                                                        value=\"Goods Vehicle\")\n",
    "df['vehicle_type'] = df['vehicle_type'].replace(to_replace=\"Goods 7.5 tonnes mgw and over\", \n",
    "                                                        value=\"Goods Vehicle\")\n",
    "\n",
    "#car\n",
    "df['vehicle_type'] = df['vehicle_type'].replace(to_replace=\"Taxi/Private hire car\", \n",
    "                                                        value=\"Car\")\n",
    "\n",
    "\n",
    "#bus\n",
    "df['vehicle_type'] = df['vehicle_type'].replace(to_replace=\"Minibus (8 - 16 passenger seats)\", \n",
    "                                                        value=\"Bus\")\n",
    "df['vehicle_type'] = df['vehicle_type'].replace(to_replace=\n",
    "                                                        \"Bus or coach (17 or more pass seats)\", \n",
    "                                                        value=\"Bus\")\n",
    "\n",
    "#other vehicle\n",
    "df['vehicle_type'] = df['vehicle_type'].replace(to_replace=\"Agricultural vehicle\", \n",
    "                                                        value=\"Other Vehicle\")\n",
    "df['vehicle_type'] = df['vehicle_type'].replace(to_replace=\"Other vehicle\", \n",
    "                                                        value=\"Other Vehicle\")"
   ]
  },
  {
   "cell_type": "code",
   "execution_count": 176,
   "id": "7729fe7e",
   "metadata": {},
   "outputs": [
    {
     "data": {
      "text/plain": [
       "Car              77.919510\n",
       "Motorcycle       15.600485\n",
       "Goods Vehicle     6.167485\n",
       "Bus               0.248740\n",
       "Other Vehicle     0.063780\n",
       "Name: vehicle_type, dtype: float64"
      ]
     },
     "execution_count": 176,
     "metadata": {},
     "output_type": "execute_result"
    }
   ],
   "source": [
    "#vehicle_type\n",
    "df['vehicle_type'].value_counts()/df.shape[0]*100"
   ]
  },
  {
   "cell_type": "markdown",
   "id": "856e1a0e",
   "metadata": {},
   "source": [
    "### below we have created a more condense groups for age band of driver to deal with some potential outliers."
   ]
  },
  {
   "cell_type": "code",
   "execution_count": 177,
   "id": "ed9e7654",
   "metadata": {},
   "outputs": [
    {
     "data": {
      "text/plain": [
       "26 - 35                         23.203010\n",
       "36 - 45                         22.086868\n",
       "46 - 55                         13.049302\n",
       "Data missing or out of range    12.934498\n",
       "21 - 25                         10.128197\n",
       "56 - 65                          7.060399\n",
       "16 - 20                          6.601186\n",
       "66 - 75                          3.246381\n",
       "Over 75                          1.626379\n",
       "11 - 15                          0.063780\n",
       "Name: age_band_of_driver, dtype: float64"
      ]
     },
     "execution_count": 177,
     "metadata": {},
     "output_type": "execute_result"
    }
   ],
   "source": [
    "df['age_band_of_driver'].value_counts()/df.shape[0]*100"
   ]
  },
  {
   "cell_type": "markdown",
   "id": "a5d4a36c",
   "metadata": {},
   "source": [
    "### Here we have created seasons column or Machine Learning "
   ]
  },
  {
   "cell_type": "code",
   "execution_count": 178,
   "id": "6c526c9d",
   "metadata": {},
   "outputs": [],
   "source": [
    "def getSeason(month):\n",
    "    if (month == 12 or month == 1 or month == 2):\n",
    "       return \"winter\"\n",
    "    elif(month == 3 or month == 4 or month == 5):\n",
    "       return \"spring\"\n",
    "    elif(month == 6 or month== 7 or month == 8):\n",
    "       return \"summer\"\n",
    "    else:\n",
    "       return \"fall\"\n",
    "\n",
    "df['season'] = df['month'].apply(getSeason)"
   ]
  },
  {
   "cell_type": "code",
   "execution_count": 179,
   "id": "e1f2eeb7",
   "metadata": {},
   "outputs": [
    {
     "data": {
      "text/plain": [
       "fall      27.508132\n",
       "summer    25.377894\n",
       "spring    24.242618\n",
       "winter    22.871357\n",
       "Name: season, dtype: float64"
      ]
     },
     "execution_count": 179,
     "metadata": {},
     "output_type": "execute_result"
    }
   ],
   "source": [
    "# number_of_vehicles\n",
    "df['season'].value_counts()/df.shape[0]*100"
   ]
  },
  {
   "cell_type": "markdown",
   "id": "bd699cfc",
   "metadata": {},
   "source": [
    "### For visualization purpose, we are further creating the groups of engine capacity  \n",
    "\n",
    "### All similar steps are also for building our understanding on actual numbers"
   ]
  },
  {
   "cell_type": "code",
   "execution_count": 180,
   "id": "7832df65",
   "metadata": {},
   "outputs": [],
   "source": [
    "def enginecap(eng_cc):\n",
    "    if eng_cc <=1500:\n",
    "        return \"small engine cc\"\n",
    "    if eng_cc >1500 and eng_cc <=2000:\n",
    "        return \"medium engine cc\"\n",
    "    if eng_cc >2000:\n",
    "        return \"large engine cc\"\n",
    "\n",
    "\n",
    "df['engine_capacity_cc_size'] = df['engine_capacity_cc'].apply(enginecap)"
   ]
  },
  {
   "cell_type": "code",
   "execution_count": 181,
   "id": "22879034",
   "metadata": {},
   "outputs": [
    {
     "data": {
      "text/plain": [
       "medium engine cc    6678\n",
       "small engine cc     6672\n",
       "large engine cc     2329\n",
       "Name: engine_capacity_cc_size, dtype: int64"
      ]
     },
     "execution_count": 181,
     "metadata": {},
     "output_type": "execute_result"
    }
   ],
   "source": [
    "df.engine_capacity_cc_size.value_counts()"
   ]
  },
  {
   "cell_type": "markdown",
   "id": "ab4c038f",
   "metadata": {},
   "source": [
    "# Below code is to create new column for Machine Learning and Visualization with Not Serious and Serious"
   ]
  },
  {
   "cell_type": "code",
   "execution_count": 182,
   "id": "49afa335",
   "metadata": {},
   "outputs": [
    {
     "data": {
      "text/plain": [
       "(15679, 315)"
      ]
     },
     "execution_count": 182,
     "metadata": {},
     "output_type": "execute_result"
    }
   ],
   "source": [
    "temp=df\n",
    "df['accident_seriousness'] = df['accident_severity']\n",
    "df['accident_seriousness'] = df['accident_seriousness'].replace(to_replace=\"Slight\", \n",
    "                                                                value=\"Not Serious\")\n",
    "df['accident_seriousness'] = df['accident_seriousness'].replace(to_replace=\"Serious\",\n",
    "                                                                value=\"Serious\")\n",
    "df['accident_seriousness'] = df['accident_seriousness'].replace(to_replace=\"Fatal\", \n",
    "                                                                value=\"Serious\")\n",
    "df.shape"
   ]
  },
  {
   "cell_type": "code",
   "execution_count": 183,
   "id": "90017728",
   "metadata": {},
   "outputs": [
    {
     "data": {
      "text/plain": [
       "Not Serious    13740\n",
       "Serious         1939\n",
       "Name: accident_seriousness, dtype: int64"
      ]
     },
     "execution_count": 183,
     "metadata": {},
     "output_type": "execute_result"
    }
   ],
   "source": [
    "df.accident_seriousness.value_counts()"
   ]
  },
  {
   "cell_type": "markdown",
   "id": "4ff6eee3",
   "metadata": {},
   "source": [
    "# General Visualizations"
   ]
  },
  {
   "cell_type": "markdown",
   "id": "a3645a0d",
   "metadata": {},
   "source": [
    "# Since limited data has been considered (only 20000 records) for evaluation, we are viewing data for only 1 year(2005). If considered entire dataset, we will get results for year in the range 2005 - 2016"
   ]
  },
  {
   "cell_type": "code",
   "execution_count": 184,
   "id": "93825d36",
   "metadata": {},
   "outputs": [
    {
     "data": {
      "image/png": "[encoded data removed]",
      "text/plain": [
       "<Figure size 720x432 with 1 Axes>"
      ]
     },
     "metadata": {},
     "output_type": "display_data"
    }
   ],
   "source": [
    "accidentsperyear = df.groupby(['year'])['accident_index'].count()\n",
    "\n",
    "# prepare plot\n",
    "#plt.style.use('dark_background')\n",
    "plt.figure(figsize=(10,6))\n",
    "colors = sns.color_palette(\"Blues_d\", n_colors=7)\n",
    "sns.barplot(accidentsperyear.index,accidentsperyear.values, palette=colors)\n",
    "sns.despine(top=True, right=True, left=True, bottom=True)\n",
    "plt.title(\"Accidents Per Year\",fontsize=20,fontweight=\"bold\")\n",
    "plt.xlabel(\"\\nYear\", fontsize=15, fontweight=\"bold\")\n",
    "plt.ylabel(\"\\nAccident Count\", fontsize=15, fontweight=\"bold\")\n",
    "plt.savefig('accidentsperyear.png')\n",
    "plt.tight_layout()"
   ]
  },
  {
   "cell_type": "code",
   "execution_count": 185,
   "id": "20bdee68",
   "metadata": {},
   "outputs": [
    {
     "data": {
      "image/png": "[encoded data removed]",
      "text/plain": [
       "<Figure size 1440x720 with 1 Axes>"
      ]
     },
     "metadata": {},
     "output_type": "display_data"
    }
   ],
   "source": [
    "accidentspermonth = df.groupby(['month'])['accident_index'].count()\n",
    "\n",
    "# prepare plot\n",
    "plt.style.use('dark_background')\n",
    "plt.figure(figsize=(20,10))\n",
    "colors = sns.color_palette(\"Blues_d\", n_colors=12)\n",
    "mt=sns.barplot(accidentspermonth.index,accidentspermonth.values, palette=colors)\n",
    "sns.despine(top=True, right=True, left=True, bottom=True)\n",
    "#ax is the axes instance\n",
    "group_labels = ['Jan', 'Feb','Mar','Apr','May','June','July','Aug','Sept','Oct','Nov','Dec' ]\n",
    "\n",
    "mt.set_xticklabels(group_labels)\n",
    "plt.title(\"Accidents per Month\",fontsize=20,fontweight=\"bold\")\n",
    "plt.xticks(fontsize=18)\n",
    "plt.yticks(fontsize=12)\n",
    "plt.xlabel(\"\\nMonth\", fontsize=15, fontweight=\"bold\")\n",
    "plt.ylabel(\"\\nNumber of Accidents\", fontsize=15, fontweight=\"bold\")\n",
    "plt.savefig('accidentspermonth.png')\n",
    "plt.tight_layout()\n"
   ]
  },
  {
   "cell_type": "markdown",
   "id": "a82e3aed",
   "metadata": {},
   "source": [
    "# Below is code the visualization "
   ]
  },
  {
   "cell_type": "code",
   "execution_count": 186,
   "id": "2432f536",
   "metadata": {},
   "outputs": [
    {
     "data": {
      "image/png": "[encoded data removed]",
      "text/plain": [
       "<Figure size 720x576 with 1 Axes>"
      ]
     },
     "metadata": {},
     "output_type": "display_data"
    }
   ],
   "source": [
    "accidentsperseason = df.groupby(['season'])['accident_index'].count()\n",
    "seaord=['spring', 'summer', 'fall','winter']\n",
    "# prepare plot\n",
    "plt.style.use('dark_background')\n",
    "plt.figure(figsize=(10,8))\n",
    "\n",
    "sns.barplot(accidentsperseason.index,accidentsperseason.values, order=seaord, \n",
    "            saturation=1, palette='Blues_d')\n",
    "sns.despine(top=True, right=True, left=True, bottom=True)\n",
    "plt.title(\"Accidents Per Season\",fontsize=20,fontweight=\"bold\")\n",
    "plt.xticks(fontsize=15)\n",
    "plt.yticks(fontsize=12)\n",
    "plt.xlabel(\"\\nSeason\", fontsize=15, fontweight=\"bold\")\n",
    "plt.ylabel(\"\\nAccidents Count\", fontsize=20, fontweight=\"bold\")\n",
    "plt.tight_layout()"
   ]
  },
  {
   "cell_type": "markdown",
   "id": "e0ee37a3",
   "metadata": {},
   "source": [
    "# The below code is to plot graph by type of vehicles involved into accident."
   ]
  },
  {
   "cell_type": "markdown",
   "id": "707737c5",
   "metadata": {},
   "source": [
    "### For visual reasons, two separate dataframes are created, for not serious and serious accidents, to better scale the data.\n",
    "\n",
    "### dataframe where accidents are Slight"
   ]
  },
  {
   "cell_type": "code",
   "execution_count": 187,
   "id": "4f04dce8",
   "metadata": {},
   "outputs": [
    {
     "name": "stdout",
     "output_type": "stream",
     "text": [
      "Not Serious Group Shape: (13740, 315)\n"
     ]
    },
    {
     "data": {
      "text/plain": [
       "Not Serious    13740\n",
       "Name: accident_seriousness, dtype: int64"
      ]
     },
     "execution_count": 187,
     "metadata": {},
     "output_type": "execute_result"
    }
   ],
   "source": [
    "#dataframe where accidents are Slight\n",
    "not_serious = df[(df['accident_seriousness']==\"Not Serious\")]\n",
    "print(\"Not Serious Group Shape:\", not_serious.shape)\n",
    "\n",
    "not_serious.accident_seriousness.value_counts()"
   ]
  },
  {
   "cell_type": "markdown",
   "id": "d8d16bad",
   "metadata": {},
   "source": [
    "dataframe where accidents are serious"
   ]
  },
  {
   "cell_type": "code",
   "execution_count": 188,
   "id": "ab753fec",
   "metadata": {},
   "outputs": [
    {
     "name": "stdout",
     "output_type": "stream",
     "text": [
      "Serious Group Shape: (1939, 315)\n"
     ]
    },
    {
     "data": {
      "text/plain": [
       "Serious    1939\n",
       "Name: accident_seriousness, dtype: int64"
      ]
     },
     "execution_count": 188,
     "metadata": {},
     "output_type": "execute_result"
    }
   ],
   "source": [
    "serious= df[(df['accident_seriousness']==\"Serious\")]\n",
    "\n",
    "print(\"Serious Group Shape:\", serious.shape)\n",
    "serious.accident_seriousness.value_counts()"
   ]
  },
  {
   "cell_type": "code",
   "execution_count": 189,
   "id": "ab371800",
   "metadata": {},
   "outputs": [],
   "source": [
    "dftotal= float(len(df))\n",
    "nstotal= float(len(not_serious))\n",
    "setotal= float(len(serious))"
   ]
  },
  {
   "cell_type": "code",
   "execution_count": 190,
   "id": "16983229",
   "metadata": {},
   "outputs": [
    {
     "data": {
      "image/png": "[encoded data removed]",
      "text/plain": [
       "<Figure size 1080x864 with 2 Axes>"
      ]
     },
     "metadata": {},
     "output_type": "display_data"
    }
   ],
   "source": [
    "vt_order=['Bus', 'Car', 'Goods Vehicle', 'Motorcycle', 'Other Vehicle']\n",
    "\n",
    "fig, ax =plt.subplots(nrows=2, ncols=1,figsize = (15,12))\n",
    "sns.despine(top=False, right=True, left=True)\n",
    "ax1 =sns.countplot(\"accident_seriousness\", hue=\"vehicle_type\", hue_order=vt_order,\n",
    "              palette=\"Blues_d\", data=not_serious, ax=ax[0])\n",
    "plt.style.use('dark_background')\n",
    "for p in ax1.patches:\n",
    "    height = p.get_height()\n",
    "    ax1.text(p.get_x()+p.get_width()/2.,\n",
    "            height + 4,\n",
    "            '{:1.2f}%'.format(height/nstotal*100),\n",
    "            ha=\"center\",fontsize=12) \n",
    "ax2 =  sns.countplot(\"accident_seriousness\", hue=\"vehicle_type\", hue_order=vt_order,\n",
    "              palette=\"Blues_d\", data=serious, ax=ax[1])\n",
    "for p in ax2.patches:\n",
    "    height = p.get_height()\n",
    "    ax2.text(p.get_x()+p.get_width()/2.,\n",
    "            height + 4,\n",
    "            '{:1.2f}%'.format(height/setotal*100),\n",
    "            ha=\"center\",fontsize=12) \n",
    "fig.suptitle(\"Vehicle Type in Accidents\", fontsize=18, fontweight=\"bold\")\n",
    "ax1.set_xlabel('Vehicle Type in Not Serious Accidents\\n\\n', fontsize=13, fontweight=\"bold\")\n",
    "ax2.set_xlabel('Vehicle Type in Serious Accidents', fontsize=13, fontweight=\"bold\")\n",
    "ax1.set_ylabel('Number of Accidents', fontsize=15, fontweight=\"bold\")\n",
    "ax2.set_ylabel('Number of Accidents', fontsize=15, fontweight=\"bold\")\n",
    "ax1.tick_params(axis='x', which='both', bottom=False, top=False, labelbottom=False)\n",
    "ax2.tick_params(axis='x', which='both', bottom=False, top=False, labelbottom=False)\n",
    "\n",
    "plt.savefig('vehicle_type.png')\n",
    "fig.show()"
   ]
  },
  {
   "cell_type": "markdown",
   "id": "ec52af65",
   "metadata": {},
   "source": [
    "# The below graphs show the speed limit by accident in areas where the accidents occured."
   ]
  },
  {
   "cell_type": "code",
   "execution_count": 191,
   "id": "425998df",
   "metadata": {},
   "outputs": [
    {
     "name": "stderr",
     "output_type": "stream",
     "text": [
      "posx and posy should be finite values\n",
      "posx and posy should be finite values\n",
      "posx and posy should be finite values\n",
      "posx and posy should be finite values\n"
     ]
    },
    {
     "data": {
      "image/png": "[encoded data removed]",
      "text/plain": [
       "<Figure size 1080x864 with 2 Axes>"
      ]
     },
     "metadata": {},
     "output_type": "display_data"
    }
   ],
   "source": [
    "splt_order=[15, 20,30,40,50,60,70]\n",
    "splt_order2=[20,30,40,50,60,70]\n",
    "fig, ax =plt.subplots(nrows=2, ncols=1,figsize = (15,12))\n",
    "\n",
    "ax1 =sns.countplot(\"accident_seriousness\", hue=\"speed_limit\", hue_order=splt_order,\n",
    "              palette=\"Blues_d\", data=not_serious, ax=ax[0])\n",
    "for p in ax1.patches:\n",
    "    height = p.get_height()\n",
    "    ax1.text(p.get_x()+p.get_width()/2.,\n",
    "            height + 4,\n",
    "            '{:1.4f}%'.format(height/nstotal*100),\n",
    "            ha=\"center\",fontsize=12) \n",
    "ax2 =  sns.countplot(\"accident_seriousness\", hue=\"speed_limit\", hue_order=splt_order2,\n",
    "              palette=\"Blues_d\", data=serious, ax=ax[1])\n",
    "for p in ax2.patches:\n",
    "    height = p.get_height()\n",
    "    ax2.text(p.get_x()+p.get_width()/2.,\n",
    "            height + 4,\n",
    "            '{:1.2f}%'.format(height/setotal*100),\n",
    "            ha=\"center\",fontsize=12) \n",
    "fig.suptitle(\"Speed Limit in Accidents\", fontsize=20, fontweight=\"bold\")\n",
    "ax1.set_xlabel('Speed Limit of Not Serious Accidents', fontsize=15, fontweight=\"bold\")\n",
    "ax2.set_xlabel('Speed Limit of Serious Accidents', fontsize=15, fontweight=\"bold\")\n",
    "ax1.set_ylabel('Number of Accidents', fontsize=15, fontweight=\"bold\")\n",
    "ax1.tick_params(axis='x', which='both', bottom=False, top=False, labelbottom=False)\n",
    "ax2.tick_params(axis='x', which='both', bottom=False, top=False, labelbottom=False)\n",
    "ax2.set_ylabel('Number of Accidents', fontsize=15, fontweight=\"bold\")\n",
    "plt.savefig('speed_limit.png')\n",
    "fig.show()"
   ]
  },
  {
   "cell_type": "markdown",
   "id": "bfd8e988",
   "metadata": {},
   "source": [
    "# Visualization accounding to the age_band_of_driver"
   ]
  },
  {
   "cell_type": "code",
   "execution_count": 192,
   "id": "3a021dba",
   "metadata": {},
   "outputs": [
    {
     "name": "stderr",
     "output_type": "stream",
     "text": [
      "posx and posy should be finite values\n",
      "posx and posy should be finite values\n",
      "posx and posy should be finite values\n",
      "posx and posy should be finite values\n",
      "posx and posy should be finite values\n",
      "posx and posy should be finite values\n",
      "posx and posy should be finite values\n",
      "posx and posy should be finite values\n",
      "posx and posy should be finite values\n",
      "posx and posy should be finite values\n",
      "posx and posy should be finite values\n",
      "posx and posy should be finite values\n",
      "posx and posy should be finite values\n",
      "posx and posy should be finite values\n",
      "posx and posy should be finite values\n",
      "posx and posy should be finite values\n",
      "posx and posy should be finite values\n",
      "posx and posy should be finite values\n",
      "posx and posy should be finite values\n",
      "posx and posy should be finite values\n"
     ]
    },
    {
     "data": {
      "image/png": "[encoded data removed]",
      "text/plain": [
       "<Figure size 1080x864 with 2 Axes>"
      ]
     },
     "metadata": {},
     "output_type": "display_data"
    }
   ],
   "source": [
    "abod_order=['Under 16', '16-25', '26-45', '46-65','Over 65']\n",
    "\n",
    "\n",
    "fig, ax =plt.subplots(nrows=2, ncols=1,figsize = (15,12))\n",
    "sns.despine(top=False, right=True, left=True)\n",
    "\n",
    "ax1 =sns.countplot(\"accident_seriousness\", hue=\"age_band_of_driver\", hue_order=abod_order,\n",
    "              palette=\"Blues_d\", data=not_serious, ax=ax[0])\n",
    "for p in ax1.patches:\n",
    "    height = p.get_height()\n",
    "    ax1.text(p.get_x()+p.get_width()/2.,\n",
    "            height + 4,\n",
    "            '{:1.2f}%'.format(height/nstotal*100),\n",
    "            ha=\"center\",fontsize=12) \n",
    "    \n",
    "ax2 =  sns.countplot(\"accident_seriousness\", hue=\"age_band_of_driver\", hue_order=abod_order,\n",
    "              palette=\"Blues_d\", data=serious, ax=ax[1])\n",
    "for p in ax2.patches:\n",
    "    height = p.get_height()\n",
    "    ax2.text(p.get_x()+p.get_width()/2.,\n",
    "            height + 4,\n",
    "            '{:1.2f}%'.format(height/setotal*100),\n",
    "            ha=\"center\",fontsize=12)\n",
    "    \n",
    "fig.suptitle(\"Age Band of Driver in Accidents\", fontsize=18, fontweight=\"bold\")\n",
    "ax1.set_xlabel('Age Band of Driver in Not Serious Accidents\\n', fontsize=13.5, fontweight=\"bold\")\n",
    "ax2.set_xlabel('Age Band of Driver in Serious Accidents', fontsize=13.5, fontweight=\"bold\")\n",
    "ax1.set_ylabel('Number of Accidents', fontsize=15, fontweight=\"bold\")\n",
    "ax2.set_ylabel('Number of Accidents', fontsize=15, fontweight=\"bold\")\n",
    "ax1.tick_params(axis='x', which='both', bottom=False, top=False, labelbottom=False)\n",
    "ax2.tick_params(axis='x', which='both', bottom=False, top=False, labelbottom=False)\n",
    "fig.show()"
   ]
  },
  {
   "cell_type": "markdown",
   "id": "a9612c19",
   "metadata": {},
   "source": [
    "# Machine Learning Models"
   ]
  },
  {
   "cell_type": "code",
   "execution_count": 90,
   "id": "4ce5877e",
   "metadata": {},
   "outputs": [
    {
     "data": {
      "text/html": [
       "<div>\n",
       "<style scoped>\n",
       "    .dataframe tbody tr th:only-of-type {\n",
       "        vertical-align: middle;\n",
       "    }\n",
       "\n",
       "    .dataframe tbody tr th {\n",
       "        vertical-align: top;\n",
       "    }\n",
       "\n",
       "    .dataframe thead th {\n",
       "        text-align: right;\n",
       "    }\n",
       "</style>\n",
       "<table border=\"1\" class=\"dataframe\">\n",
       "  <thead>\n",
       "    <tr style=\"text-align: right;\">\n",
       "      <th></th>\n",
       "      <th>1st_road_class</th>\n",
       "      <th>1st_road_number</th>\n",
       "      <th>2nd_road_number</th>\n",
       "      <th>accident_severity</th>\n",
       "      <th>carriageway_hazards</th>\n",
       "      <th>date</th>\n",
       "      <th>day_of_week</th>\n",
       "      <th>did_police_officer_attend_scene_of_accident</th>\n",
       "      <th>junction_control</th>\n",
       "      <th>junction_detail</th>\n",
       "      <th>...</th>\n",
       "      <th>vehicle_locationrestricted_lane</th>\n",
       "      <th>vehicle_manoeuvre</th>\n",
       "      <th>vehicle_reference</th>\n",
       "      <th>vehicle_type</th>\n",
       "      <th>was_vehicle_left_hand_drive</th>\n",
       "      <th>x1st_point_of_impact</th>\n",
       "      <th>month</th>\n",
       "      <th>season</th>\n",
       "      <th>engine_capacity_cc_size</th>\n",
       "      <th>accident_seriousness</th>\n",
       "    </tr>\n",
       "    <tr>\n",
       "      <th>accident_index</th>\n",
       "      <th></th>\n",
       "      <th></th>\n",
       "      <th></th>\n",
       "      <th></th>\n",
       "      <th></th>\n",
       "      <th></th>\n",
       "      <th></th>\n",
       "      <th></th>\n",
       "      <th></th>\n",
       "      <th></th>\n",
       "      <th></th>\n",
       "      <th></th>\n",
       "      <th></th>\n",
       "      <th></th>\n",
       "      <th></th>\n",
       "      <th></th>\n",
       "      <th></th>\n",
       "      <th></th>\n",
       "      <th></th>\n",
       "      <th></th>\n",
       "      <th></th>\n",
       "    </tr>\n",
       "  </thead>\n",
       "  <tbody>\n",
       "    <tr>\n",
       "      <th>200501BS00004</th>\n",
       "      <td>A</td>\n",
       "      <td>3220.0</td>\n",
       "      <td>0.0</td>\n",
       "      <td>Slight</td>\n",
       "      <td>None</td>\n",
       "      <td>2005-01-07</td>\n",
       "      <td>Friday</td>\n",
       "      <td>1.0</td>\n",
       "      <td>Data missing or out of range</td>\n",
       "      <td>Not at junction or within 20 metres</td>\n",
       "      <td>...</td>\n",
       "      <td>0.0</td>\n",
       "      <td>Going ahead other</td>\n",
       "      <td>1</td>\n",
       "      <td>Car</td>\n",
       "      <td>No</td>\n",
       "      <td>Front</td>\n",
       "      <td>1</td>\n",
       "      <td>winter</td>\n",
       "      <td>medium engine cc</td>\n",
       "      <td>Not Serious</td>\n",
       "    </tr>\n",
       "    <tr>\n",
       "      <th>200501BS00005</th>\n",
       "      <td>Unclassified</td>\n",
       "      <td>0.0</td>\n",
       "      <td>0.0</td>\n",
       "      <td>Slight</td>\n",
       "      <td>None</td>\n",
       "      <td>2005-01-10</td>\n",
       "      <td>Monday</td>\n",
       "      <td>1.0</td>\n",
       "      <td>Data missing or out of range</td>\n",
       "      <td>Not at junction or within 20 metres</td>\n",
       "      <td>...</td>\n",
       "      <td>0.0</td>\n",
       "      <td>Going ahead other</td>\n",
       "      <td>1</td>\n",
       "      <td>Motorcycle</td>\n",
       "      <td>No</td>\n",
       "      <td>Front</td>\n",
       "      <td>1</td>\n",
       "      <td>winter</td>\n",
       "      <td>small engine cc</td>\n",
       "      <td>Not Serious</td>\n",
       "    </tr>\n",
       "    <tr>\n",
       "      <th>200501BS00006</th>\n",
       "      <td>Unclassified</td>\n",
       "      <td>0.0</td>\n",
       "      <td>0.0</td>\n",
       "      <td>Slight</td>\n",
       "      <td>None</td>\n",
       "      <td>2005-01-11</td>\n",
       "      <td>Tuesday</td>\n",
       "      <td>1.0</td>\n",
       "      <td>Data missing or out of range</td>\n",
       "      <td>Not at junction or within 20 metres</td>\n",
       "      <td>...</td>\n",
       "      <td>0.0</td>\n",
       "      <td>Moving off</td>\n",
       "      <td>1</td>\n",
       "      <td>Car</td>\n",
       "      <td>No</td>\n",
       "      <td>Did not impact</td>\n",
       "      <td>1</td>\n",
       "      <td>winter</td>\n",
       "      <td>large engine cc</td>\n",
       "      <td>Not Serious</td>\n",
       "    </tr>\n",
       "    <tr>\n",
       "      <th>200501BS00006</th>\n",
       "      <td>Unclassified</td>\n",
       "      <td>0.0</td>\n",
       "      <td>0.0</td>\n",
       "      <td>Slight</td>\n",
       "      <td>None</td>\n",
       "      <td>2005-01-11</td>\n",
       "      <td>Tuesday</td>\n",
       "      <td>1.0</td>\n",
       "      <td>Data missing or out of range</td>\n",
       "      <td>Not at junction or within 20 metres</td>\n",
       "      <td>...</td>\n",
       "      <td>0.0</td>\n",
       "      <td>Going ahead other</td>\n",
       "      <td>2</td>\n",
       "      <td>Motorcycle</td>\n",
       "      <td>No</td>\n",
       "      <td>Did not impact</td>\n",
       "      <td>1</td>\n",
       "      <td>winter</td>\n",
       "      <td>small engine cc</td>\n",
       "      <td>Not Serious</td>\n",
       "    </tr>\n",
       "    <tr>\n",
       "      <th>200501BS00012</th>\n",
       "      <td>A</td>\n",
       "      <td>4.0</td>\n",
       "      <td>325.0</td>\n",
       "      <td>Slight</td>\n",
       "      <td>None</td>\n",
       "      <td>2005-01-16</td>\n",
       "      <td>Sunday</td>\n",
       "      <td>1.0</td>\n",
       "      <td>Auto traffic signal</td>\n",
       "      <td>Crossroads</td>\n",
       "      <td>...</td>\n",
       "      <td>0.0</td>\n",
       "      <td>Going ahead other</td>\n",
       "      <td>1</td>\n",
       "      <td>Car</td>\n",
       "      <td>No</td>\n",
       "      <td>Front</td>\n",
       "      <td>1</td>\n",
       "      <td>winter</td>\n",
       "      <td>medium engine cc</td>\n",
       "      <td>Not Serious</td>\n",
       "    </tr>\n",
       "  </tbody>\n",
       "</table>\n",
       "<p>5 rows × 312 columns</p>\n",
       "</div>"
      ],
      "text/plain": [
       "               1st_road_class  1st_road_number  2nd_road_number  \\\n",
       "accident_index                                                    \n",
       "200501BS00004               A           3220.0              0.0   \n",
       "200501BS00005    Unclassified              0.0              0.0   \n",
       "200501BS00006    Unclassified              0.0              0.0   \n",
       "200501BS00006    Unclassified              0.0              0.0   \n",
       "200501BS00012               A              4.0            325.0   \n",
       "\n",
       "               accident_severity carriageway_hazards       date day_of_week  \\\n",
       "accident_index                                                                \n",
       "200501BS00004             Slight                None 2005-01-07      Friday   \n",
       "200501BS00005             Slight                None 2005-01-10      Monday   \n",
       "200501BS00006             Slight                None 2005-01-11     Tuesday   \n",
       "200501BS00006             Slight                None 2005-01-11     Tuesday   \n",
       "200501BS00012             Slight                None 2005-01-16      Sunday   \n",
       "\n",
       "                did_police_officer_attend_scene_of_accident  \\\n",
       "accident_index                                                \n",
       "200501BS00004                                           1.0   \n",
       "200501BS00005                                           1.0   \n",
       "200501BS00006                                           1.0   \n",
       "200501BS00006                                           1.0   \n",
       "200501BS00012                                           1.0   \n",
       "\n",
       "                            junction_control  \\\n",
       "accident_index                                 \n",
       "200501BS00004   Data missing or out of range   \n",
       "200501BS00005   Data missing or out of range   \n",
       "200501BS00006   Data missing or out of range   \n",
       "200501BS00006   Data missing or out of range   \n",
       "200501BS00012            Auto traffic signal   \n",
       "\n",
       "                                    junction_detail  ...  \\\n",
       "accident_index                                       ...   \n",
       "200501BS00004   Not at junction or within 20 metres  ...   \n",
       "200501BS00005   Not at junction or within 20 metres  ...   \n",
       "200501BS00006   Not at junction or within 20 metres  ...   \n",
       "200501BS00006   Not at junction or within 20 metres  ...   \n",
       "200501BS00012                            Crossroads  ...   \n",
       "\n",
       "                vehicle_locationrestricted_lane  vehicle_manoeuvre  \\\n",
       "accident_index                                                       \n",
       "200501BS00004                               0.0  Going ahead other   \n",
       "200501BS00005                               0.0  Going ahead other   \n",
       "200501BS00006                               0.0         Moving off   \n",
       "200501BS00006                               0.0  Going ahead other   \n",
       "200501BS00012                               0.0  Going ahead other   \n",
       "\n",
       "               vehicle_reference vehicle_type  was_vehicle_left_hand_drive  \\\n",
       "accident_index                                                               \n",
       "200501BS00004                  1          Car                           No   \n",
       "200501BS00005                  1   Motorcycle                           No   \n",
       "200501BS00006                  1          Car                           No   \n",
       "200501BS00006                  2   Motorcycle                           No   \n",
       "200501BS00012                  1          Car                           No   \n",
       "\n",
       "               x1st_point_of_impact  month  season  engine_capacity_cc_size  \\\n",
       "accident_index                                                                \n",
       "200501BS00004                 Front      1  winter         medium engine cc   \n",
       "200501BS00005                 Front      1  winter          small engine cc   \n",
       "200501BS00006        Did not impact      1  winter          large engine cc   \n",
       "200501BS00006        Did not impact      1  winter          small engine cc   \n",
       "200501BS00012                 Front      1  winter         medium engine cc   \n",
       "\n",
       "                accident_seriousness  \n",
       "accident_index                        \n",
       "200501BS00004            Not Serious  \n",
       "200501BS00005            Not Serious  \n",
       "200501BS00006            Not Serious  \n",
       "200501BS00006            Not Serious  \n",
       "200501BS00012            Not Serious  \n",
       "\n",
       "[5 rows x 312 columns]"
      ]
     },
     "execution_count": 90,
     "metadata": {},
     "output_type": "execute_result"
    }
   ],
   "source": [
    "df.set_index('accident_index', inplace=True)\n",
    "df.head()"
   ]
  },
  {
   "cell_type": "code",
   "execution_count": 193,
   "id": "ca826eb5",
   "metadata": {},
   "outputs": [],
   "source": [
    "df = temp.drop(['accident_severity'],axis=1)"
   ]
  },
  {
   "cell_type": "markdown",
   "id": "dda707f3",
   "metadata": {},
   "source": [
    "Label Encoder is used instead of OneHotEncoder due to the memory errors One Hot Encoder caused in the data."
   ]
  },
  {
   "cell_type": "code",
   "execution_count": 194,
   "id": "6385a405",
   "metadata": {},
   "outputs": [],
   "source": [
    "#Set up of X and Y\n",
    "X= df.drop(['accident_seriousness'],axis=1)\n",
    "y= df['accident_seriousness']\n"
   ]
  },
  {
   "cell_type": "code",
   "execution_count": 195,
   "id": "25285332",
   "metadata": {},
   "outputs": [
    {
     "data": {
      "text/plain": [
       "Not Serious    13740\n",
       "Serious         1939\n",
       "Name: accident_seriousness, dtype: int64"
      ]
     },
     "execution_count": 195,
     "metadata": {},
     "output_type": "execute_result"
    }
   ],
   "source": [
    "df.accident_seriousness.value_counts()"
   ]
  },
  {
   "cell_type": "code",
   "execution_count": 196,
   "id": "5a16123e",
   "metadata": {},
   "outputs": [
    {
     "data": {
      "text/plain": [
       "accident_index              object\n",
       "1st_road_class              object\n",
       "1st_road_number            float64\n",
       "2nd_road_number            float64\n",
       "carriageway_hazards         object\n",
       "                            ...   \n",
       "x1st_point_of_impact        object\n",
       "month                        int64\n",
       "season                      object\n",
       "engine_capacity_cc_size     object\n",
       "accident_seriousness        object\n",
       "Length: 314, dtype: object"
      ]
     },
     "execution_count": 196,
     "metadata": {},
     "output_type": "execute_result"
    }
   ],
   "source": [
    "df.dtypes"
   ]
  },
  {
   "cell_type": "code",
   "execution_count": 197,
   "id": "cd95e030",
   "metadata": {},
   "outputs": [
    {
     "data": {
      "image/png": "[encoded data removed]",
      "text/plain": [
       "<Figure size 864x432 with 1 Axes>"
      ]
     },
     "metadata": {},
     "output_type": "display_data"
    }
   ],
   "source": [
    "plt.figure(figsize=(12,6))\n",
    "ax=sns.countplot(x=\"accident_seriousness\", palette=\"Blues_d\", data=df)\n",
    "\n",
    "plt.style.use('dark_background')\n",
    "plt.title(\"Accident Seriousness\",fontsize=25,fontweight=\"bold\")\n",
    "plt.xlabel(\"\", fontsize=15, fontweight=\"bold\")\n",
    "plt.ylabel(\"\\nNumber of Accidents\\n\", fontsize=15, fontweight=\"bold\")\n",
    "plt.xticks(fontsize=18)\n",
    "plt.yticks(fontsize=12)\n",
    "sns.despine(top=True, right=True, left=True, bottom=False)\n",
    "plt.savefig('accident_seriousness.png')\n",
    "plt.show()"
   ]
  },
  {
   "cell_type": "code",
   "execution_count": 198,
   "id": "a5a7a2a5",
   "metadata": {},
   "outputs": [],
   "source": [
    "# setting up testing and training sets\n",
    "res_X_train, res_X_test, res_y_train, res_y_test = train_test_split(X, y, \n",
    "                                                                    test_size=0.25, random_state=27)"
   ]
  },
  {
   "cell_type": "code",
   "execution_count": 199,
   "id": "a0cdf69c",
   "metadata": {},
   "outputs": [],
   "source": [
    "# concatenate our training data back together\n",
    "res_X = pd.concat([res_X_train, res_y_train], axis=1)"
   ]
  },
  {
   "cell_type": "code",
   "execution_count": 200,
   "id": "4da78b72",
   "metadata": {},
   "outputs": [],
   "source": [
    "# separate minority and majority classes\n",
    "not_severe = res_X[res_X.accident_seriousness==\"Not Serious\"]\n",
    "severe = res_X[res_X.accident_seriousness==\"Serious\"]"
   ]
  },
  {
   "cell_type": "code",
   "execution_count": 201,
   "id": "62101a97",
   "metadata": {},
   "outputs": [],
   "source": [
    "# decrease majority\n",
    "not_severe_decreased = resample(not_severe,\n",
    "                          replace=True, # sample with replacement\n",
    "                          n_samples=len(severe), # match number in majority class\n",
    "                          random_state=27) # reproducible results"
   ]
  },
  {
   "cell_type": "code",
   "execution_count": 202,
   "id": "750aafcb",
   "metadata": {},
   "outputs": [],
   "source": [
    "# combine majority and severe_increased minority\n",
    "newdf = pd.concat([severe, not_severe_decreased])"
   ]
  },
  {
   "cell_type": "code",
   "execution_count": 203,
   "id": "745f92c4",
   "metadata": {},
   "outputs": [
    {
     "data": {
      "text/plain": [
       "Serious        1476\n",
       "Not Serious    1476\n",
       "Name: accident_seriousness, dtype: int64"
      ]
     },
     "execution_count": 203,
     "metadata": {},
     "output_type": "execute_result"
    }
   ],
   "source": [
    "newdf.accident_seriousness.value_counts()"
   ]
  },
  {
   "cell_type": "code",
   "execution_count": 204,
   "id": "cf3670c2",
   "metadata": {},
   "outputs": [],
   "source": [
    "res_X_train = newdf.drop('accident_seriousness', axis=1)\n",
    "res_y_train = newdf.accident_seriousness"
   ]
  },
  {
   "cell_type": "markdown",
   "id": "69a5c2d5",
   "metadata": {},
   "source": [
    "# Supervised Learning"
   ]
  },
  {
   "cell_type": "markdown",
   "id": "88ee532e",
   "metadata": {},
   "source": [
    "### Random Forest Classifier "
   ]
  },
  {
   "cell_type": "code",
   "execution_count": null,
   "id": "2515c5c5",
   "metadata": {},
   "outputs": [],
   "source": [
    "#confusion matrix plot function\n",
    "def cm_plot(var):\n",
    "    plt.figure(figsize=(15,5))\n",
    "    plt.style.use('dark_background')\n",
    "    plt.clf()\n",
    "    plt.imshow(var, interpolation='nearest', cmap='tab20')\n",
    "    classNames = ['No Loyalty','Loyalty']\n",
    "    plt.title('Confusion Matrix')\n",
    "    plt.ylabel('Actual\\n')\n",
    "    plt.xlabel('Predicted\\n')\n",
    "    tick_marks = np.arange(len(classNames))\n",
    "    plt.xticks(tick_marks, classNames)\n",
    "    plt.yticks(tick_marks, classNames)\n",
    "    s = [['TN','FP'], ['FN', 'TP']]\n",
    "    \n",
    "    for i in range(2):\n",
    "        for j in range(2):\n",
    "            plt.text(j,i, str(s[i][j])+\"=\"+str(var[i][j]),horizontalalignment='center', \n",
    "                     color='black')\n",
    "    plt.show()"
   ]
  },
  {
   "cell_type": "code",
   "execution_count": null,
   "id": "6cc2feba",
   "metadata": {},
   "outputs": [],
   "source": [
    "from sklearn.preprocessing import OrdinalEncoder"
   ]
  },
  {
   "cell_type": "code",
   "execution_count": null,
   "id": "8101a33a",
   "metadata": {},
   "outputs": [],
   "source": [
    "#Try modeling using  different classification models\n",
    "classifiers = [\n",
    "    RandomForestClassifier(criterion='entropy', max_depth=40,max_features=X.shape[1], \n",
    "                           min_samples_split=8, n_estimators=500, random_state=42)\n",
    "    ]\n",
    "    \n",
    "    #putting results in df\n",
    "res_cols=[\"Classifier\", \"Accuracy\", \"Log Loss\", \"Cross Val\", \"Recall\", \"Roc Auc\",\"F1\", \n",
    "          \"False Positive Rate\", \"Error Rate\"]\n",
    "results = pd.DataFrame(columns=res_cols)\n",
    "\n",
    "res_y_train=enc.transform(res_y_train)\n",
    "    \n",
    "for clf in classifiers:\n",
    "    clf.fit(res_X_train, res_y_train)\n",
    "    name = clf.__class__.__name__\n",
    "    \n",
    "    print(\"\\n\"*3)\n",
    "    print(name,\"Results:\")\n",
    "       \n",
    "    print('~'*40)\n",
    "    y_pred = clf.predict(res_X_test)\n",
    "    acc = accuracy_score(res_y_test, y_pred)\n",
    "    print(\"Accuracy: {:.4%}\".format(acc))\n",
    "    \n",
    "    cv= np.mean(cross_val_score(clf, res_X_train, res_y_train, cv=3))\n",
    "    print(\"Cross validation scores:\",cv)\n",
    "    \n",
    "    \n",
    "    train_predictions = clf.predict_proba(res_X_test)\n",
    "    logloss = log_loss(res_y_test, train_predictions)\n",
    "    print(\"Log Loss: {}\".format(logloss))\n",
    "    \n",
    "    cm = confusion_matrix(res_y_test, y_pred)\n",
    "    \n",
    "    cm_plot(cm)\n",
    "    \n",
    "    #FPR and Error Rate setup\n",
    "    tn, fp, fn, tp = confusion_matrix(res_y_test,y_pred).ravel()\n",
    "    \n",
    "    fpr = fp/(tn+fp)\n",
    "    ers = 1-acc\n",
    "    rec= recall_score(res_y_test, y_pred)\n",
    "    roc=roc_auc_score(res_y_test, y_pred)\n",
    "    f1s=f1_score(res_y_test, y_pred)\n",
    "    results_final = pd.DataFrame([[name, round(acc*100,3), round(logloss,3), \n",
    "                                   round(cv*100,3), round(rec*100,3), round(roc*100,3),\n",
    "                                   round(f1s*100,3),round(fpr*100,3),round(ers*100,3)]],\n",
    "                                 columns=res_cols)\n",
    "    results = results.append(results_final)\n",
    "    \n",
    "    print(\"*\"*40)"
   ]
  },
  {
   "cell_type": "code",
   "execution_count": null,
   "id": "a3b4fb70",
   "metadata": {},
   "outputs": [],
   "source": [
    "print(\"Final Results Shape\",results.shape)\n",
    "results.head(10)"
   ]
  },
  {
   "cell_type": "markdown",
   "id": "4efcd35e",
   "metadata": {},
   "source": [
    "### Visualize score for model¶"
   ]
  },
  {
   "cell_type": "code",
   "execution_count": null,
   "id": "68d1b12b",
   "metadata": {},
   "outputs": [],
   "source": [
    "fig, ax =plt.subplots(nrows=8, ncols=1, figsize = (11,18))\n",
    "sns.barplot(x='Accuracy', y='Classifier', data=ml_results, palette='Blues_d', ax=ax[0])\n",
    "sns.barplot(x='Log Loss', y='Classifier', data=ml_results, palette='Blues_d', ax=ax[1])\n",
    "sns.barplot(x='Cross Val', y='Classifier', data=ml_results, palette='Blues_d', ax=ax[2])\n",
    "sns.barplot(x='Recall', y='Classifier', data=ml_results, palette='Blues_d', ax=ax[3])\n",
    "sns.barplot(x='Roc Auc', y='Classifier', data=ml_results, palette='Blues_d', ax=ax[4])\n",
    "sns.barplot(x='F1', y='Classifier', data=ml_results, palette='Blues_d', ax=ax[5])\n",
    "sns.barplot(x='False Positive Rate', y='Classifier', data=ml_results, palette='Blues_d', ax=ax[6])\n",
    "sns.barplot(x='Error Rate', y='Classifier', data=ml_results, palette='Blues_d', ax=ax[7])\n",
    "\n",
    "plt.tight_layout()\n",
    "plt.show()"
   ]
  },
  {
   "cell_type": "markdown",
   "id": "c7f96f03",
   "metadata": {},
   "source": [
    "# SVM classifier"
   ]
  },
  {
   "cell_type": "code",
   "execution_count": 275,
   "id": "f8196f83",
   "metadata": {},
   "outputs": [],
   "source": [
    "accidents = pd.read_csv('Accident_Information.csv')\n",
    "\n",
    "vehicles = pd.read_csv('Vehicle_Information.csv')\n",
    "\n",
    "accidents['Date']= pd.to_datetime(accidents['Date'], format=\"%Y-%m-%d\")\n",
    "\n",
    "accidents['Date'].iloc[:100]\n",
    "\n",
    "accidents['Hour'] = accidents['Time'].str[0:2]\n",
    "\n",
    "accidents['Hour'] = pd.to_numeric(accidents['Hour'])\n",
    "\n",
    "accidents = accidents.dropna(subset=['Hour'])\n",
    "\n",
    "accidents['Hour'] = accidents['Hour'].astype('int')\n"
   ]
  },
  {
   "cell_type": "code",
   "execution_count": 276,
   "id": "11cc1646",
   "metadata": {},
   "outputs": [],
   "source": [
    "def when_was_it(hour):\n",
    "    if hour >= 5 and hour < 10:\n",
    "        return \"1\"\n",
    "    elif hour >= 10 and hour < 15:\n",
    "        return \"2\"\n",
    "    elif hour >= 15 and hour < 19:\n",
    "        return \"3\"\n",
    "    elif hour >= 19 and hour < 23:\n",
    "        return \"4\"\n",
    "    else:\n",
    "        return \"5\""
   ]
  },
  {
   "cell_type": "code",
   "execution_count": 277,
   "id": "84fa47b3",
   "metadata": {},
   "outputs": [],
   "source": [
    "daytime_groups = {1: 'Morning: Between 5 and 10', \n",
    "                  2: 'Office Hours: Between 10 and 15', \n",
    "                  3: 'Afternoon Rush: Between 15 and 19', \n",
    "                  4: 'Evening: Between 19 and 23', \n",
    "                  5: 'Night: Between 23 and 5'}"
   ]
  },
  {
   "cell_type": "code",
   "execution_count": 269,
   "id": "2793a1f6",
   "metadata": {},
   "outputs": [
    {
     "data": {
      "text/plain": [
       "Accident_Index                                      0\n",
       "1st_Road_Class                                      0\n",
       "1st_Road_Number                                     2\n",
       "2nd_Road_Class                                 844186\n",
       "2nd_Road_Number                                 17587\n",
       "Accident_Severity                                   0\n",
       "Carriageway_Hazards                                 0\n",
       "Date                                                0\n",
       "Day_of_Week                                         0\n",
       "Did_Police_Officer_Attend_Scene_of_Accident       277\n",
       "Junction_Control                                    0\n",
       "Junction_Detail                                     0\n",
       "Latitude                                          174\n",
       "Light_Conditions                                    0\n",
       "Local_Authority_(District)                          0\n",
       "Local_Authority_(Highway)                           0\n",
       "Location_Easting_OSGR                             164\n",
       "Location_Northing_OSGR                            164\n",
       "Longitude                                         175\n",
       "LSOA_of_Accident_Location                      144839\n",
       "Number_of_Casualties                                0\n",
       "Number_of_Vehicles                                  0\n",
       "Pedestrian_Crossing-Human_Control                2919\n",
       "Pedestrian_Crossing-Physical_Facilities          3559\n",
       "Police_Force                                        0\n",
       "Road_Surface_Conditions                             0\n",
       "Road_Type                                           0\n",
       "Special_Conditions_at_Site                          0\n",
       "Speed_limit                                        37\n",
       "Time                                                0\n",
       "Urban_or_Rural_Area                                 0\n",
       "Weather_Conditions                                  0\n",
       "Year                                                0\n",
       "InScotland                                         53\n",
       "Hour                                                0\n",
       "Daytime                                             0\n",
       "dtype: int64"
      ]
     },
     "execution_count": 269,
     "metadata": {},
     "output_type": "execute_result"
    }
   ],
   "source": [
    "accidents['Daytime'] = accidents['Hour'].apply(when_was_it)\n",
    "accidents[['Time', 'Hour', 'Daytime']].head()\n",
    "\n",
    "accidents.isna().sum()"
   ]
  },
  {
   "cell_type": "code",
   "execution_count": 279,
   "id": "f3cf0165",
   "metadata": {},
   "outputs": [],
   "source": [
    "# accidents = accidents.drop(columns=['1st_Road_Class','1st_Road_Number','2nd_Road_Class', '2nd_Road_Number', \n",
    "#                                     'Did_Police_Officer_Attend_Scene_of_Accident',\n",
    "#                                     'Location_Easting_OSGR', 'Location_Northing_OSGR', \n",
    "#                                     'Longitude', 'Latitude', 'LSOA_of_Accident_Location',\n",
    "#                                     'Pedestrian_Crossing-Human_Control', 'Pedestrian_Crossing-Physical_Facilities',\n",
    "#                                     'InScotland'])\n",
    "# # accidents.columns\n",
    "\n",
    "accidents = accidents.dropna()\n",
    "\n",
    "# accidents.isna().sum()\n",
    "\n",
    "columns_accidentdata=accidents.columns\n",
    "columns_vehicledata=vehicles.columns\n",
    "\n",
    "df_svm = pd.merge(accidents[columns_accidentdata], \n",
    "              vehicles[columns_vehicledata], \n",
    "              on='Accident_Index')\n",
    "\n",
    "df_svm = df_svm.dropna()\n",
    "df_svm.isna().sum()\n",
    "\n",
    "for col in ['Accident_Severity', 'Speed_limit', 'Urban_or_Rural_Area',\n",
    "            'Age_Band_of_Driver', 'Sex_of_Driver', 'Vehicle_Manoeuvre','Road_Surface_Conditions','Weather_Conditions','Road_Type',\n",
    "           'Driver_Home_Area_Type']:\n",
    "    df_svm[col] = df_svm[col].astype('category')\n"
   ]
  },
  {
   "cell_type": "code",
   "execution_count": 280,
   "id": "3607e2b6",
   "metadata": {},
   "outputs": [],
   "source": [
    "#dropping unnecessary columns and changing the column types to supportive types.\n",
    "\n",
    "df_svm=df_svm.drop(['Carriageway_Hazards'],axis=1)\n",
    "df_svm=df_svm.drop(['Local_Authority_(District)'],axis=1)\n",
    "df_svm=df_svm.drop(['Local_Authority_(Highway)'],axis=1)\n",
    "df_svm=df_svm.drop(['Police_Force'],axis=1)\n",
    "df_svm['Junction_Control'].replace({'Data missing or out of range':'Give way or uncontrolled'},inplace=True)\n",
    "df_svm['Junction_Control'] = df_svm['Junction_Control'].astype('category')\n",
    "df_svm['Junction_Detail'] = df_svm['Junction_Detail'].astype('category')\n",
    "df_svm=df_svm.drop(['Hit_Object_in_Carriageway'],axis=1)\n",
    "df_svm=df_svm.drop(['Hit_Object_off_Carriageway'],axis=1)\n",
    "df_svm['Propulsion_Code'] = df_svm['Propulsion_Code'].astype('category')\n",
    "df_svm['X1st_Point_of_Impact'] = df_svm['X1st_Point_of_Impact'].astype('category')\n",
    "condition = (df_svm['Engine_Capacity_.CC.'] < 20000)\n",
    "df_svm = df_svm[condition]"
   ]
  },
  {
   "cell_type": "code",
   "execution_count": 284,
   "id": "6bba8d5e",
   "metadata": {},
   "outputs": [],
   "source": [
    "age_of_vehicle_bins = {1: '1 to <2 years', \n",
    "                       2: '2 to <3 years', \n",
    "                       3: '3 to <7 years', \n",
    "                       4: '7 to <10 years', \n",
    "                       5: '>=10 years'}\n",
    "\n",
    "df_svm['Age_of_Vehicle'] = np.digitize(df_svm['Age_of_Vehicle'], bins=[1,2,3,7,10])\n",
    "df_svm['Age_of_Vehicle'] = df_svm['Age_of_Vehicle'].astype('category')\n",
    "df_svm['Age_of_Vehicle'].value_counts().sort_index()\n",
    "\n",
    "df_svm['Light_Conditions']=df_svm['Light_Conditions'].astype('category')\n",
    "df_svm['Day_of_Week']=df_svm['Day_of_Week'].astype('category')\n",
    "df_svm['Special_Conditions_at_Site']=df_svm['Special_Conditions_at_Site'].astype('category')\n",
    "\n",
    "df_svm['Vehicle_Leaving_Carriageway']=df_svm['Vehicle_Leaving_Carriageway'].astype('category')\n",
    "\n",
    "df_svm['Vehicle_Type']=df_svm['Vehicle_Type'].astype('category')\n",
    "\n",
    "df_svm['Was_Vehicle_Left_Hand_Drive']=df_svm['Was_Vehicle_Left_Hand_Drive'].astype('category')\n",
    "\n",
    "df_svm['Speed_limit']=df_svm['Speed_limit'].astype('float64')\n",
    "\n",
    "df_svm['Age_of_Vehicle']=df_svm['Age_of_Vehicle'].astype('float64')"
   ]
  },
  {
   "cell_type": "code",
   "execution_count": 288,
   "id": "4cd38405",
   "metadata": {},
   "outputs": [],
   "source": [
    "num_cols = ['Engine_Capacity_.CC.','Vehicle_Reference','Number_of_Casualties','Number_of_Vehicles',\n",
    "            'Vehicle_Location.Restricted_Lane','Driver_IMD_Decile']\n",
    "\n",
    "cat_cols = ['Day_of_Week','Junction_Control','Light_Conditions','Road_Surface_Conditions',\n",
    "            'Road_Type','Special_Conditions_at_Site','Speed_limit','Urban_or_Rural_Area','Weather_Conditions',\n",
    "            'Age_Band_of_Driver', 'Age_of_Vehicle', 'Sex_of_Driver', 'Vehicle_Manoeuvre',\n",
    "           'Vehicle_Type','X1st_Point_of_Impact','Propulsion_Code']\n",
    "\n",
    "# define target col\n",
    "target_col = ['Accident_Severity']\n",
    "cols = cat_cols + num_cols + target_col\n",
    "\n",
    "non_numerics = ['object','category']"
   ]
  },
  {
   "cell_type": "code",
   "execution_count": 295,
   "id": "5313eb53",
   "metadata": {},
   "outputs": [
    {
     "name": "stdout",
     "output_type": "stream",
     "text": [
      " Accuracy for svm with 10000 datapoints: 0.9086666666666666\n",
      "F1 score for SVM with 10000 datapoints: 0.31738269880079173\n",
      "Recall for SVM with 10000 datapoints: 0.9086666666666666\n",
      "Precision for SVM with 10000 datapoints: 0.825675111111111\n"
     ]
    },
    {
     "data": {
      "image/png": "[encoded data removed]",
      "text/plain": [
       "<Figure size 432x288 with 1 Axes>"
      ]
     },
     "metadata": {
      "needs_background": "dark"
     },
     "output_type": "display_data"
    }
   ],
   "source": [
    "# confusion matrix and performance metrics for 1000 records\n",
    "\n",
    "number=10000\n",
    "\n",
    "df_model = df_svm[cols].iloc[:number]\n",
    "newdf = df_model.select_dtypes(include=non_numerics)\n",
    "    \n",
    "    # replacing category and object variables into numerical attributes\n",
    "    \n",
    "for col in newdf:\n",
    "    value_dict={}\n",
    "    int_value=0\n",
    "    for value in df_model[col].unique():\n",
    "        if not value in value_dict.keys():\n",
    "            int_value=int_value+1\n",
    "            value_dict[value]=int_value\n",
    "    df_model[col]=df_model[col].replace(value_dict)\n",
    "\n",
    "features = df_model.drop(['Accident_Severity'], axis=1)\n",
    "target = df_model[['Accident_Severity']]\n",
    "    \n",
    "X_train, X_test, y_train, y_test = train_test_split(features.iloc[:number], target.iloc[:number], test_size=0.3)\n",
    "    \n",
    "    #     initializing encoder for attributes\n",
    "    \n",
    "enc = OrdinalEncoder(handle_unknown='ignore')\n",
    "\n",
    "enc.fit(X_train)\n",
    "\n",
    "X_train=enc.transform(X_train)\n",
    "\n",
    "enc = OrdinalEncoder(handle_unknown='ignore')\n",
    "\n",
    "enc.fit(X_train)\n",
    "\n",
    "X_train=enc.transform(X_train)\n",
    "    \n",
    "    #     initializing encoder for class labels\n",
    "    \n",
    "enc1 = OrdinalEncoder(handle_unknown='ignore')\n",
    "\n",
    "enc1.fit(y_train)\n",
    "\n",
    "y_train=enc1.transform(y_train)\n",
    "    \n",
    "    \n",
    "    #Creating a svm Classifier\n",
    "clf = svm.SVC(kernel='linear') # Linear Kernel\n",
    "\n",
    "    #Training the model using the training sets\n",
    "clf.fit(X_train, y_train)\n",
    "    \n",
    "clf = svm.SVC(kernel='linear') # Linear Kernel\n",
    "\n",
    "    #Train the model using the training sets\n",
    "clf.fit(X_train, y_train)\n",
    "    \n",
    "    \n",
    "X_test=enc.transform(X_test)\n",
    "    \n",
    "y_test=enc1.transform(y_test)\n",
    "    \n",
    "    \n",
    "    #Predict the response for test dataset\n",
    "    \n",
    "y_pred = clf.predict(X_test)\n",
    "    \n",
    "\n",
    "print (' Accuracy for svm with {} datapoints: {}'.format(number, accuracy_score(y_test, y_pred)))\n",
    "print('F1 score for SVM with {} datapoints: {}'.format(number, f1_score(y_test, y_pred,average='macro')))\n",
    "print('Recall for SVM with {} datapoints: {}'.format(number, recall_score(y_test, y_pred,average='micro')))\n",
    "print('Precision for SVM with {} datapoints: {}'.format(number, precision_score(y_test, y_pred,average='weighted')))\n",
    "    \n",
    "    \n",
    "    #     Plotting confusion matrix\n",
    "\n",
    "matrix = confusion_matrix(y_test, y_pred)\n",
    "\n",
    "    # create dataframe\n",
    "class_names = df_model.Accident_Severity.values\n",
    "dataframe = pd.DataFrame(matrix, index=[0, 1, 2], \n",
    "                         columns=[0, 1, 2])\n",
    "\n",
    "    # create heatmap\n",
    "sns.heatmap(dataframe, annot=True, cbar=None, cmap='Blues')\n",
    "plt.title('Confusion Matrix')\n",
    "plt.tight_layout(), plt.xlabel('True Values'), plt.ylabel('Predicted Values')\n",
    "plt.show()"
   ]
  },
  {
   "cell_type": "code",
   "execution_count": 296,
   "id": "27ed1d89",
   "metadata": {},
   "outputs": [
    {
     "name": "stdout",
     "output_type": "stream",
     "text": [
      " Accuracy for svm with 1000 datapoints: 0.8866666666666667\n",
      "F1 score for SVM with 1000 datapoints: 0.46996466431095407\n",
      "Recall for SVM with 1000 datapoints: 0.8866666666666667\n",
      "Precision for SVM with 1000 datapoints: 0.7861777777777779\n"
     ]
    },
    {
     "data": {
      "image/png": "[encoded data removed]",
      "text/plain": [
       "<Figure size 432x288 with 1 Axes>"
      ]
     },
     "metadata": {
      "needs_background": "dark"
     },
     "output_type": "display_data"
    }
   ],
   "source": [
    "# confusion matrix and performance metrics for 10000 records\n",
    "\n",
    "number=1000\n",
    "\n",
    "\n",
    "df_model = df_svm[cols].iloc[:number]\n",
    "newdf = df_model.select_dtypes(include=non_numerics)\n",
    "    \n",
    "    # replacing category and object variables into numerical attributes\n",
    "    \n",
    "for col in newdf:\n",
    "    value_dict={}\n",
    "    int_value=0\n",
    "    for value in df_model[col].unique():\n",
    "        if not value in value_dict.keys():\n",
    "            int_value=int_value+1\n",
    "            value_dict[value]=int_value\n",
    "    df_model[col]=df_model[col].replace(value_dict)\n",
    "\n",
    "features = df_model.drop(['Accident_Severity'], axis=1)\n",
    "target = df_model[['Accident_Severity']]\n",
    "    \n",
    "X_train, X_test, y_train, y_test = train_test_split(features.iloc[:number], target.iloc[:number], test_size=0.3)\n",
    "    \n",
    "    #     initializing encoder for attributes\n",
    "    \n",
    "enc = OrdinalEncoder(handle_unknown='ignore')\n",
    "\n",
    "enc.fit(X_train)\n",
    "\n",
    "X_train=enc.transform(X_train)\n",
    "\n",
    "enc = OrdinalEncoder(handle_unknown='ignore')\n",
    "\n",
    "enc.fit(X_train)\n",
    "\n",
    "X_train=enc.transform(X_train)\n",
    "    \n",
    "    #     initializing encoder for class labels\n",
    "    \n",
    "enc1 = OrdinalEncoder(handle_unknown='ignore')\n",
    "\n",
    "enc1.fit(y_train)\n",
    "\n",
    "y_train=enc1.transform(y_train)\n",
    "    \n",
    "    \n",
    "    #Creating a svm Classifier\n",
    "clf = svm.SVC(kernel='linear') # Linear Kernel\n",
    "\n",
    "    #Training the model using the training sets\n",
    "clf.fit(X_train, y_train)\n",
    "    \n",
    "clf = svm.SVC(kernel='linear') # Linear Kernel\n",
    "\n",
    "    #Train the model using the training sets\n",
    "clf.fit(X_train, y_train)\n",
    "    \n",
    "    \n",
    "X_test=enc.transform(X_test)\n",
    "    \n",
    "y_test=enc1.transform(y_test)\n",
    "    \n",
    "    \n",
    "    #Predict the response for test dataset\n",
    "    \n",
    "y_pred = clf.predict(X_test)\n",
    "    \n",
    "\n",
    "print (' Accuracy for svm with {} datapoints: {}'.format(number, accuracy_score(y_test, y_pred)))\n",
    "print('F1 score for SVM with {} datapoints: {}'.format(number, f1_score(y_test, y_pred,average='macro')))\n",
    "print('Recall for SVM with {} datapoints: {}'.format(number, recall_score(y_test, y_pred,average='micro')))\n",
    "print('Precision for SVM with {} datapoints: {}'.format(number, precision_score(y_test, y_pred,average='weighted')))\n",
    "    \n",
    "    \n",
    "    #     Plotting confusion matrix\n",
    "\n",
    "matrix = confusion_matrix(y_test, y_pred)\n",
    "\n",
    "    # create dataframe\n",
    "class_names = df_model.Accident_Severity.values\n",
    "dataframe = pd.DataFrame(matrix, index=[0, 1], \n",
    "                         columns=[0, 1])\n",
    "\n",
    "    # create heatmap\n",
    "sns.heatmap(dataframe, annot=True, cbar=None, cmap='Blues')\n",
    "plt.title('Confusion Matrix')\n",
    "plt.tight_layout(), plt.xlabel('True Values'), plt.ylabel('Predicted Values')\n",
    "plt.show()"
   ]
  },
  {
   "cell_type": "code",
   "execution_count": 297,
   "id": "d6440df1",
   "metadata": {},
   "outputs": [
    {
     "name": "stdout",
     "output_type": "stream",
     "text": [
      " Accuracy for svm with 20000 datapoints: 0.8996666666666666\n",
      "F1 score for SVM with 20000 datapoints: 0.3157279054804936\n",
      "Recall for SVM with 20000 datapoints: 0.8996666666666666\n",
      "Precision for SVM with 20000 datapoints: 0.8094001111111111\n"
     ]
    },
    {
     "data": {
      "image/png": "[encoded data removed]",
      "text/plain": [
       "<Figure size 432x288 with 1 Axes>"
      ]
     },
     "metadata": {
      "needs_background": "dark"
     },
     "output_type": "display_data"
    }
   ],
   "source": [
    "# confusion matrix and performance metrics for 20000 records\n",
    "\n",
    "number=20000\n",
    "\n",
    "\n",
    "df_model = df[cols].iloc[:number]\n",
    "newdf = df_model.select_dtypes(include=non_numerics)\n",
    "    \n",
    "    # replacing category and object variables into numerical attributes\n",
    "    \n",
    "for col in newdf:\n",
    "    value_dict={}\n",
    "    int_value=0\n",
    "    for value in df_model[col].unique():\n",
    "        if not value in value_dict.keys():\n",
    "            int_value=int_value+1\n",
    "            value_dict[value]=int_value\n",
    "    df_model[col]=df_model[col].replace(value_dict)\n",
    "\n",
    "features = df_model.drop(['Accident_Severity'], axis=1)\n",
    "target = df_model[['Accident_Severity']]\n",
    "    \n",
    "X_train, X_test, y_train, y_test = train_test_split(features.iloc[:number], target.iloc[:number], test_size=0.3)\n",
    "    \n",
    "    #     initializing encoder for attributes\n",
    "    \n",
    "enc = OrdinalEncoder(handle_unknown='ignore')\n",
    "\n",
    "enc.fit(X_train)\n",
    "\n",
    "X_train=enc.transform(X_train)\n",
    "\n",
    "enc = OrdinalEncoder(handle_unknown='ignore')\n",
    "\n",
    "enc.fit(X_train)\n",
    "\n",
    "X_train=enc.transform(X_train)\n",
    "    \n",
    "    #     initializing encoder for class labels\n",
    "    \n",
    "enc1 = OrdinalEncoder(handle_unknown='ignore')\n",
    "\n",
    "enc1.fit(y_train)\n",
    "\n",
    "y_train=enc1.transform(y_train)\n",
    "    \n",
    "    \n",
    "    #Creating a svm Classifier\n",
    "clf = svm.SVC(kernel='linear') # Linear Kernel\n",
    "\n",
    "    #Training the model using the training sets\n",
    "clf.fit(X_train, y_train)\n",
    "    \n",
    "clf = svm.SVC(kernel='linear') # Linear Kernel\n",
    "\n",
    "    #Train the model using the training sets\n",
    "clf.fit(X_train, y_train)\n",
    "    \n",
    "    \n",
    "X_test=enc.transform(X_test)\n",
    "    \n",
    "y_test=enc1.transform(y_test)\n",
    "    \n",
    "    \n",
    "    #Predict the response for test dataset\n",
    "    \n",
    "y_pred = clf.predict(X_test)\n",
    "    \n",
    "\n",
    "print (' Accuracy for svm with {} datapoints: {}'.format(number, accuracy_score(y_test, y_pred)))\n",
    "print('F1 score for SVM with {} datapoints: {}'.format(number, f1_score(y_test, y_pred,average='macro')))\n",
    "print('Recall for SVM with {} datapoints: {}'.format(number, recall_score(y_test, y_pred,average='micro')))\n",
    "print('Precision for SVM with {} datapoints: {}'.format(number, precision_score(y_test, y_pred,average='weighted')))\n",
    "    \n",
    "    \n",
    "    #     Plotting confusion matrix\n",
    "\n",
    "matrix = confusion_matrix(y_test, y_pred)\n",
    "\n",
    "    # create dataframe\n",
    "class_names = df_model.Accident_Severity.values\n",
    "dataframe = pd.DataFrame(matrix, index=[0, 1, 2], \n",
    "                         columns=[0, 1, 2])\n",
    "\n",
    "    # create heatmap\n",
    "sns.heatmap(dataframe, annot=True, cbar=None, cmap='Blues')\n",
    "plt.title('Confusion Matrix')\n",
    "plt.tight_layout(), plt.xlabel('True Values'), plt.ylabel('Predicted Values')\n",
    "plt.show()"
   ]
  },
  {
   "cell_type": "code",
   "execution_count": null,
   "id": "77563382",
   "metadata": {},
   "outputs": [],
   "source": []
  }
 ],
 "metadata": {
  "kernelspec": {
   "display_name": "Python 3",
   "language": "python",
   "name": "python3"
  },
  "language_info": {
   "codemirror_mode": {
    "name": "ipython",
    "version": 3
   },
   "file_extension": ".py",
   "mimetype": "text/x-python",
   "name": "python",
   "nbconvert_exporter": "python",
   "pygments_lexer": "ipython3",
   "version": "3.8.8"
  }
 },
 "nbformat": 4,
 "nbformat_minor": 5
}
