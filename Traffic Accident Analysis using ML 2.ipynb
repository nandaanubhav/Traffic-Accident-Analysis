{
 "cells": [
  {
   "cell_type": "code",
   "execution_count": 1,
   "id": "8c8a358e",
   "metadata": {},
   "outputs": [
    {
     "name": "stdout",
     "output_type": "stream",
     "text": [
      "Accident's Dataset Columns:\n",
      " Index(['Accident_Index', '1st_Road_Class', '1st_Road_Number', '2nd_Road_Class',\n",
      "       '2nd_Road_Number', 'Accident_Severity', 'Carriageway_Hazards', 'Date',\n",
      "       'Day_of_Week', 'Did_Police_Officer_Attend_Scene_of_Accident',\n",
      "       'Junction_Control', 'Junction_Detail', 'Latitude', 'Light_Conditions',\n",
      "       'Local_Authority_(District)', 'Local_Authority_(Highway)',\n",
      "       'Location_Easting_OSGR', 'Location_Northing_OSGR', 'Longitude',\n",
      "       'LSOA_of_Accident_Location', 'Number_of_Casualties',\n",
      "       'Number_of_Vehicles', 'Pedestrian_Crossing-Human_Control',\n",
      "       'Pedestrian_Crossing-Physical_Facilities', 'Police_Force',\n",
      "       'Road_Surface_Conditions', 'Road_Type', 'Special_Conditions_at_Site',\n",
      "       'Speed_limit', 'Time', 'Urban_or_Rural_Area', 'Weather_Conditions',\n",
      "       'Year', 'InScotland'],\n",
      "      dtype='object') \n",
      "\n",
      "Vehicle's Dataset Columns:\n",
      " Index(['Accident_Index', 'Age_Band_of_Driver', 'Age_of_Vehicle',\n",
      "       'Driver_Home_Area_Type', 'Driver_IMD_Decile', 'Engine_Capacity_.CC.',\n",
      "       'Hit_Object_in_Carriageway', 'Hit_Object_off_Carriageway',\n",
      "       'Journey_Purpose_of_Driver', 'Junction_Location', 'make', 'model',\n",
      "       'Propulsion_Code', 'Sex_of_Driver', 'Skidding_and_Overturning',\n",
      "       'Towing_and_Articulation', 'Vehicle_Leaving_Carriageway',\n",
      "       'Vehicle_Location.Restricted_Lane', 'Vehicle_Manoeuvre',\n",
      "       'Vehicle_Reference', 'Vehicle_Type', 'Was_Vehicle_Left_Hand_Drive',\n",
      "       'X1st_Point_of_Impact', 'Year'],\n",
      "      dtype='object')\n",
      "Accident Dataset Shape (2047256, 34)\n",
      "Vehicle Dataset Shape (2177205, 24)\n",
      "Names of Combined Columns:\n",
      " Index(['Accident_Index', '1st_Road_Class', '1st_Road_Number', '2nd_Road_Class',\n",
      "       '2nd_Road_Number', 'Accident_Severity', 'Carriageway_Hazards', 'Date',\n",
      "       'Day_of_Week', 'Did_Police_Officer_Attend_Scene_of_Accident',\n",
      "       'Junction_Control', 'Junction_Detail', 'Latitude', 'Light_Conditions',\n",
      "       'Local_Authority_(District)', 'Local_Authority_(Highway)',\n",
      "       'Location_Easting_OSGR', 'Location_Northing_OSGR', 'Longitude',\n",
      "       'LSOA_of_Accident_Location', 'Number_of_Casualties',\n",
      "       'Number_of_Vehicles', 'Pedestrian_Crossing-Human_Control',\n",
      "       'Pedestrian_Crossing-Physical_Facilities', 'Police_Force',\n",
      "       'Road_Surface_Conditions', 'Road_Type', 'Special_Conditions_at_Site',\n",
      "       'Speed_limit', 'Time', 'Urban_or_Rural_Area', 'Weather_Conditions',\n",
      "       'Year', 'InScotland', 'Area', 'Age_Band_of_Driver', 'Age_of_Vehicle',\n",
      "       'Driver_Home_Area_Type', 'Driver_IMD_Decile', 'Engine_Capacity_.CC.',\n",
      "       'Hit_Object_in_Carriageway', 'Hit_Object_off_Carriageway',\n",
      "       'Journey_Purpose_of_Driver', 'Junction_Location', 'make', 'model',\n",
      "       'Propulsion_Code', 'Sex_of_Driver', 'Skidding_and_Overturning',\n",
      "       'Towing_and_Articulation', 'Vehicle_Leaving_Carriageway',\n",
      "       'Vehicle_Location.Restricted_Lane', 'Vehicle_Manoeuvre',\n",
      "       'Vehicle_Reference', 'Vehicle_Type', 'Was_Vehicle_Left_Hand_Drive',\n",
      "       'X1st_Point_of_Impact'],\n",
      "      dtype='object') \n",
      "\n",
      "\n",
      "Shape:\n",
      " (2058408, 57)\n",
      "0.9993670195112527\n",
      "0.9999728865576617\n",
      "3044.0\n",
      "252.0\n",
      "<class 'pandas.core.frame.DataFrame'>\n",
      "Int64Index: 1577242 entries, 2 to 2058407\n",
      "Data columns (total 54 columns):\n",
      " #   Column                                       Non-Null Count    Dtype         \n",
      "---  ------                                       --------------    -----         \n",
      " 0   accident_index                               1577242 non-null  object        \n",
      " 1   1st_road_class                               1577242 non-null  object        \n",
      " 2   1st_road_number                              1577242 non-null  object        \n",
      " 3   2nd_road_number                              1577242 non-null  object        \n",
      " 4   accident_severity                            1577242 non-null  object        \n",
      " 5   carriageway_hazards                          1577242 non-null  object        \n",
      " 6   date                                         1577242 non-null  datetime64[ns]\n",
      " 7   day_of_week                                  1577242 non-null  object        \n",
      " 8   did_police_officer_attend_scene_of_accident  1577242 non-null  object        \n",
      " 9   junction_control                             1577242 non-null  object        \n",
      " 10  junction_detail                              1577242 non-null  object        \n",
      " 11  latitude                                     1577242 non-null  float64       \n",
      " 12  light_conditions                             1577242 non-null  object        \n",
      " 13  local_authority_district                     1577242 non-null  object        \n",
      " 14  local_authority_highway                      1577242 non-null  object        \n",
      " 15  longitude                                    1577242 non-null  float64       \n",
      " 16  lsoa_of_accident_location                    1577242 non-null  object        \n",
      " 17  number_of_casualties                         1577242 non-null  int64         \n",
      " 18  number_of_vehicles                           1577242 non-null  int64         \n",
      " 19  pedestrian_crossing-human_control            1577242 non-null  object        \n",
      " 20  pedestrian_crossing-physical_facilities      1577242 non-null  object        \n",
      " 21  police_force                                 1577242 non-null  object        \n",
      " 22  road_surface_conditions                      1577242 non-null  object        \n",
      " 23  road_type                                    1577242 non-null  object        \n",
      " 24  special_conditions_at_site                   1577242 non-null  object        \n",
      " 25  speed_limit                                  1577242 non-null  float64       \n",
      " 26  time                                         1577242 non-null  object        \n",
      " 27  urban_or_rural_area                          1577242 non-null  object        \n",
      " 28  weather_conditions                           1577242 non-null  object        \n",
      " 29  year                                         1577242 non-null  int64         \n",
      " 30  inscotland                                   1577242 non-null  object        \n",
      " 31  area                                         1577242 non-null  int64         \n",
      " 32  age_band_of_driver                           1577242 non-null  object        \n",
      " 33  age_of_vehicle                               1577242 non-null  category      \n",
      " 34  driver_home_area_type                        1577242 non-null  object        \n",
      " 35  driver_imd_decile                            1577242 non-null  float64       \n",
      " 36  engine_capacity_cc                           1577242 non-null  float64       \n",
      " 37  hit_object_in_carriageway                    1577242 non-null  object        \n",
      " 38  hit_object_off_carriageway                   1577242 non-null  object        \n",
      " 39  journey_purpose_of_driver                    1577242 non-null  object        \n",
      " 40  junction_location                            1577242 non-null  object        \n",
      " 41  make                                         1577242 non-null  object        \n",
      " 42  model                                        1577242 non-null  object        \n",
      " 43  propulsion_code                              1577242 non-null  object        \n",
      " 44  sex_of_driver                                1577242 non-null  object        \n",
      " 45  skidding_and_overturning                     1577242 non-null  object        \n",
      " 46  towing_and_articulation                      1577242 non-null  object        \n",
      " 47  vehicle_leaving_carriageway                  1577242 non-null  object        \n",
      " 48  vehicle_locationrestricted_lane              1577242 non-null  object        \n",
      " 49  vehicle_manoeuvre                            1577242 non-null  object        \n",
      " 50  vehicle_reference                            1577242 non-null  object        \n",
      " 51  vehicle_type                                 1577242 non-null  object        \n",
      " 52  was_vehicle_left_hand_drive                  1577242 non-null  object        \n",
      " 53  x1st_point_of_impact                         1577242 non-null  object        \n",
      "dtypes: category(1), datetime64[ns](1), float64(5), int64(4), object(43)\n",
      "memory usage: 651.3+ MB\n"
     ]
    },
    {
     "data": {
      "text/plain": [
       "1     1092350\n",
       "2      318059\n",
       "3      102845\n",
       "4       38506\n",
       "5       14976\n",
       "6        6037\n",
       "7        2168\n",
       "8         986\n",
       "9         453\n",
       "10        248\n",
       "11        163\n",
       "12         96\n",
       "13         84\n",
       "14         50\n",
       "70         44\n",
       "16         40\n",
       "36         28\n",
       "26         21\n",
       "17         16\n",
       "15         15\n",
       "18          7\n",
       "19          7\n",
       "21          6\n",
       "24          4\n",
       "87          4\n",
       "43          4\n",
       "22          4\n",
       "29          3\n",
       "42          3\n",
       "25          2\n",
       "40          2\n",
       "38          2\n",
       "27          2\n",
       "41          1\n",
       "32          1\n",
       "58          1\n",
       "62          1\n",
       "20          1\n",
       "23          1\n",
       "93          1\n",
       "Name: number_of_casualties, dtype: int64"
      ]
     },
     "execution_count": 1,
     "metadata": {},
     "output_type": "execute_result"
    },
    {
     "data": {
      "image/png": "[encoded data removed]",
      "text/plain": [
       "<Figure size 432x288 with 1 Axes>"
      ]
     },
     "metadata": {
      "needs_background": "dark"
     },
     "output_type": "display_data"
    },
    {
     "data": {
      "image/png": "[encoded data removed]",
      "text/plain": [
       "<Figure size 864x576 with 4 Axes>"
      ]
     },
     "metadata": {},
     "output_type": "display_data"
    }
   ],
   "source": [
    "\n",
    "#Import modules\n",
    "import numpy as np\n",
    "import pandas as pd\n",
    "import seaborn as sns\n",
    "import pickle\n",
    "import time\n",
    "import timeit\n",
    "\n",
    "import matplotlib.pyplot as plt\n",
    "plt.style.use('dark_background')\n",
    "get_ipython().run_line_magic('matplotlib', 'inline')\n",
    "\n",
    "import datetime\n",
    "import math\n",
    "from collections import Counter\n",
    "\n",
    "#sklearn\n",
    "import sklearn\n",
    "from sklearn import ensemble\n",
    "from sklearn import preprocessing\n",
    "from sklearn.decomposition import PCA\n",
    "from sklearn.ensemble import AdaBoostClassifier, BaggingClassifier, ExtraTreesClassifier\n",
    "from sklearn.ensemble import RandomForestClassifier\n",
    "from sklearn.feature_selection import SelectFromModel\n",
    "from sklearn.impute import SimpleImputer\n",
    "from sklearn.linear_model import LogisticRegression\n",
    "from sklearn.metrics import accuracy_score, f1_score, precision_score, recall_score \n",
    "from sklearn.metrics import classification_report, confusion_matrix, roc_auc_score\n",
    "from sklearn.model_selection import cross_val_score, GridSearchCV, train_test_split\n",
    "from sklearn.preprocessing import LabelEncoder, OneHotEncoder, StandardScaler, OrdinalEncoder\n",
    "from sklearn.svm import SVC\n",
    "from sklearn.tree import DecisionTreeClassifier\n",
    "from sklearn.utils import resample\n",
    "\n",
    "#for clustering\n",
    "from sklearn.cluster import KMeans\n",
    "from sklearn.preprocessing import normalize\n",
    "from sklearn.decomposition import PCA\n",
    "from sklearn.cluster import MiniBatchKMeans\n",
    "from sklearn.metrics import silhouette_score\n",
    "\n",
    "#time series\n",
    "import statsmodels.api as sm\n",
    "from pylab import rcParams\n",
    "import itertools\n",
    "\n",
    "#warning ignorer\n",
    "import warnings\n",
    "warnings.filterwarnings(\"ignore\")\n",
    "\n",
    "\n",
    "# In[8]:\n",
    "\n",
    "\n",
    "#import files\n",
    "a_data = pd.read_csv('Accident_Information.csv', delimiter=',', quotechar='\"')\n",
    "v_data = pd.read_csv('Vehicle_Information.csv', delimiter=',', quotechar='\"', encoding= 'unicode_escape')\n",
    "\n",
    "\n",
    "# In[17]:\n",
    "\n",
    "\n",
    "v_data.head()\n",
    "\n",
    "\n",
    "# In[10]:\n",
    "\n",
    "\n",
    "# display the length of latitude column to start with feature engineering \n",
    "len(a_data['Latitude'])\n",
    "\n",
    "\n",
    "# # Feature Engineering\n",
    "\n",
    "# Below is the code for creating the extra features in our dataset to fulfil the project demand. In the code, we have generated extra features based on existing attributes called 'Latitude' and 'Longitude'. We are further planning to also generate even more features based on age and vehicle type involved in the accident. This is only for having a large amount of data and using it for further predictions. \n",
    "\n",
    "# In[12]:\n",
    "\n",
    "\n",
    "label_encoder = LabelEncoder()\n",
    "n_bins = 15\n",
    "x = label_encoder.fit_transform(pd.cut(a_data['Latitude'], n_bins, retbins=True)[0])\n",
    "y = label_encoder.fit_transform(pd.cut(a_data['Longitude'], n_bins, retbins=True)[0])\n",
    "z = []\n",
    "ar = []\n",
    "for i in range(len(x)):\n",
    "    z.append(\"Area\"+str(x[i] + 16*y[i]))\n",
    "    ar.append(x[i] + 16*y[i])\n",
    "areas = pd.DataFrame(z,columns=[\"Area\"])\n",
    "\n",
    "\n",
    "# In[16]:\n",
    "\n",
    "\n",
    "one_hot = pd.get_dummies(areas[\"Area\"])\n",
    "\n",
    "\n",
    "# In[15]:\n",
    "\n",
    "\n",
    "# this is for handling the error or exception\n",
    "for i in range(0,256):\n",
    "    try:\n",
    "        one_hot[\"Area\"+str(i)]\n",
    "    except KeyError:\n",
    "        one_hot[\"Area\"+str(i)] = 0\n",
    "\n",
    "\n",
    "# In[ ]:\n",
    "\n",
    "\n",
    "#a_data = a_data.join(one_hot)\n",
    "\n",
    "\n",
    "# In[18]:\n",
    "\n",
    "a_data.head()\n",
    "\n",
    "\n",
    "# # Cleaning and dataframing for accident column\n",
    "\n",
    "# In[37]:\n",
    "\n",
    "\n",
    "df=pd.DataFrame(a_data)\n",
    "\n",
    "\n",
    "# Below code is to clear the data from 'Accident Information Dataset' and shape its parameters for further analysis  \n",
    "\n",
    "# In[38]:\n",
    "\n",
    "\n",
    "a_data['Road_Type'] != \"Unknown\" \n",
    "a_data['Junction_Control'] != \"Data missing or out of range\"\n",
    "a_data['Carriageway_Hazards'] != \"Data missing or out of range\" \n",
    "a_data['Junction_Detail'] != \"Data missing or out of range\" \n",
    "a_data['Road_Surface_Conditions'] != \"Data missing or out of range\" \n",
    "a_data['Special_Conditions_at_Site'] != \"Data missing or out of range\"\n",
    "a_data['Weather_Conditions'] != \"Data missing or out of range\" \n",
    "a_data['Latitude'].notnull()\n",
    "a_data['Longitude'].notnull()\n",
    "\n",
    "\n",
    "# In[39]:\n",
    "\n",
    "\n",
    "a_data\n",
    "\n",
    "\n",
    "# Below code is to clear the data from 'Vehicle Information Dataset' and shape its parameters for further analysis  \n",
    "\n",
    "# In[40]:\n",
    "\n",
    "\n",
    "#Cleaning for vehicles column\n",
    "\n",
    "v_data['Driver_Home_Area_Type'] != \"Data missing or out of range\"\n",
    "v_data['Journey_Purpose_of_Driver'] != \"Data missing or out of range\"\n",
    "v_data['Junction_Location'] != \"Data missing or out of range\"\n",
    "v_data['Was_Vehicle_Left_Hand_Drive'] != \"Data missing or out of range\"\n",
    "v_data['Hit_Object_in_Carriageway'] != \"Data missing or out of range\"\n",
    "v_data['Skidding_and_Overturning'] != \"Data missing or out of range\"\n",
    "v_data['Towing_and_Articulation'] != \"Data missing or out of range\"\n",
    "v_data['Vehicle_Leaving_Carriageway'] != \"Data missing or out of range\"\n",
    "v_data['Vehicle_Manoeuvre'] != \"Data missing or out of range\"\n",
    "v_data['Vehicle_Type'] != \"Data missing or out of range\"\n",
    "v_data['X1st_Point_of_Impact'] != \"Data missing or out of range\"\n",
    "v_data['Sex_of_Driver'] != \"Data missing or out of range\"\n",
    "v_data['Age_Band_of_Driver'] != \"Data missing or out of range\"\n",
    "        \n",
    "  \n",
    "\n",
    "\n",
    "# In[42]:\n",
    "\n",
    "\n",
    "#check columns\n",
    "print(\"Accident's Dataset Columns:\\n\",a_data.columns, \"\\n\")\n",
    "\n",
    "\n",
    "print(\"Vehicle's Dataset Columns:\\n\",v_data.columns)\n",
    "\n",
    "\n",
    "# In[43]:\n",
    "\n",
    "\n",
    "print('Accident Dataset Shape', a_data.shape)\n",
    "print('Vehicle Dataset Shape', v_data.shape)\n",
    "\n",
    "\n",
    "# In[48]:\n",
    "\n",
    "\n",
    "df1=pd.DataFrame(a_data)\n",
    "df1['Area'] = ar\n",
    "df2=pd.DataFrame(v_data)\n",
    "\n",
    "\n",
    "# In[ ]:\n",
    "\n",
    "\n",
    "#merge datasets\n",
    "df = pd.merge(df1,df2)\n",
    "\n",
    "\n",
    "# In[ ]:\n",
    "\n",
    "\n",
    "#check columns\n",
    "print(\"Names of Combined Columns:\\n\",df.columns, \"\\n\")\n",
    "print(\"\\nShape:\\n\",df.shape)\n",
    "\n",
    "\n",
    "# In[ ]:\n",
    "\n",
    "\n",
    "df.describe(include ='all')\n",
    "\n",
    "\n",
    "# # Data Cleaning\n",
    "\n",
    "# In[ ]:\n",
    "\n",
    "\n",
    "#check corr b/t Location_Easting_OSGR & Location_Northing_OSGR AND Longitude and Latitude\n",
    "\n",
    "print(df['Location_Easting_OSGR'].corr(df['Longitude']))\n",
    "\n",
    "\n",
    "print(df['Location_Northing_OSGR'].corr(df['Latitude']))\n",
    "\n",
    "\n",
    "# In[ ]:\n",
    "\n",
    "\n",
    "#drop Location_Easting_OSGR & Location_Northing_OSGR\n",
    "#because they are the similar to Latitude and Longitude \n",
    "\n",
    "df = df.drop(['Location_Easting_OSGR', 'Location_Northing_OSGR'], axis=1)\n",
    "\n",
    "\n",
    "# In[ ]:\n",
    "\n",
    "\n",
    "df.shape\n",
    "\n",
    "\n",
    "# In[ ]:\n",
    "\n",
    "\n",
    "#standardize all column names to lowercase, and remove some characters \n",
    "#for ease of use in querying\n",
    "df.columns = map(str.lower, df.columns)\n",
    "df.columns = df.columns.str.replace('.','')\n",
    "df.columns = df.columns.str.replace('(','')\n",
    "df.columns = df.columns.str.replace(')','')\n",
    "\n",
    "\n",
    "# In[ ]:\n",
    "\n",
    "\n",
    "#convert date/time to datetime datatype\n",
    "\n",
    "df['date'] = pd.to_datetime((df['date']), format= \"%Y-%m-%d\")\n",
    "\n",
    "\n",
    "# In[ ]:\n",
    "\n",
    "\n",
    "#df.dtypes\n",
    "\n",
    "\n",
    "# In[ ]:\n",
    "\n",
    "\n",
    "#mistyped datatypes\n",
    "\n",
    "df[['did_police_officer_attend_scene_of_accident',\n",
    "    'driver_imd_decile','vehicle_reference',\n",
    "    'vehicle_locationrestricted_lane','1st_road_number',\n",
    "    '2nd_road_number','driver_imd_decile',\n",
    "    'pedestrian_crossing-physical_facilities',\n",
    "   'pedestrian_crossing-human_control']]= df[['did_police_officer_attend_scene_of_accident',\n",
    "    'driver_imd_decile','vehicle_reference',\n",
    "    'vehicle_locationrestricted_lane','1st_road_number',\n",
    "    '2nd_road_number','driver_imd_decile',\n",
    "    'pedestrian_crossing-physical_facilities',\n",
    "   'pedestrian_crossing-human_control']].astype('object')\n",
    "\n",
    "\n",
    "# In[ ]:\n",
    "\n",
    "\n",
    "df.columns.to_series().groupby(df.dtypes).groups\n",
    "\n",
    "\n",
    "# In[ ]:\n",
    "\n",
    "\n",
    "df.columns.to_series().groupby(df.dtypes).groups\n",
    "\n",
    "\n",
    "# # Nulls and Outliers\n",
    "\n",
    "# In[ ]:\n",
    "\n",
    "\n",
    "df.isnull().sum().sort_values(ascending=False)/df.shape[0]*100\n",
    "\n",
    "\n",
    "# #### 2nd_road_class\n",
    "\n",
    "# In[ ]:\n",
    "\n",
    "\n",
    "# #2nd_road_class\n",
    "df['2nd_road_class'].value_counts()/df.shape[0]*100\n",
    "\n",
    "\n",
    "# With 40% of non null being unclassified and 39% of the overall 2nd_road_class column being null, We have decided to drop it in it's entirely.\n",
    "\n",
    "# In[ ]:\n",
    "\n",
    "\n",
    "df = df.drop(['2nd_road_class'], axis=1)\n",
    "\n",
    "\n",
    "# #### driver_imd_decile\n",
    "\n",
    "# In[ ]:\n",
    "\n",
    "\n",
    "#driver_imd_decile\n",
    "df['driver_imd_decile'].value_counts()/df.shape[0]*100\n",
    "\n",
    "\n",
    "# Since the distribution of categories for 'driver_imd_decile seem very similar, We've decided not to use the mode but \"method='ffill'\"\n",
    "\n",
    "# In[ ]:\n",
    "\n",
    "\n",
    "df['driver_imd_decile'].fillna(method='ffill', inplace=True)\n",
    "\n",
    "\n",
    "# #### age_of_vehicle\n",
    "\n",
    "# In[ ]:\n",
    "\n",
    "\n",
    "df['age_of_vehicle'].describe()\n",
    "\n",
    "\n",
    "# In[ ]:\n",
    "\n",
    "\n",
    "df['age_of_vehicle'].median()\n",
    "\n",
    "\n",
    "# Changing the nulls of \"age of vehicle\" to median, then creating it as a category\n",
    "\n",
    "# In[ ]:\n",
    "\n",
    "\n",
    "df['age_of_vehicle'].fillna(7, inplace=True)\n",
    "\n",
    "#group age_of_vehicle\n",
    "#1=0-3, 2=3-5, 3=5-8, 4=8-11, 5=\n",
    "def fixedvehicleage(age):\n",
    "    if age>=0 and age<=120:\n",
    "        return age\n",
    "    else:\n",
    "        return np.nan\n",
    "\n",
    "df['age_of_vehicle'] = df['age_of_vehicle'].apply(fixedvehicleage)\n",
    "\n",
    "\n",
    "df['age_of_vehicle'] = pd.cut(df['age_of_vehicle'], \n",
    "                             [0,2,5,8,11,14,17,120], labels=['1', '2', '3','4','5','6','7'])\n",
    "\n",
    "\n",
    "# #### Model\n",
    "\n",
    "# In[ ]:\n",
    "\n",
    "\n",
    "#model\n",
    "df['model'].value_counts()/df.shape[0]*100\n",
    "\n",
    "\n",
    "# In[ ]:\n",
    "\n",
    "\n",
    "df['model'].describe()\n",
    "\n",
    "\n",
    "# Knowing the number of unique models for the model column I have decided to use the ffill method on it as well.\n",
    "\n",
    "# In[ ]:\n",
    "\n",
    "\n",
    "df['model'].fillna(method='ffill', inplace=True) \n",
    "\n",
    "\n",
    "# Note: A lot of the values of \"model' are labeled as \"missing\". We do not want to change these because the model could have actually been missing from the car from the accident or it could not be recognizable at the time of the accident.\n",
    "\n",
    "# #### engine_capacity_cc\n",
    "\n",
    "# In[ ]:\n",
    "\n",
    "\n",
    "#engine_capacity_cc\n",
    "df['engine_capacity_cc'].describe()\n",
    "\n",
    "\n",
    "# We will be handling both outliers and the null values of engine_capacity_cc using the ideals of quantiles and the interquartile range (IQR).\n",
    "\n",
    "# In[ ]:\n",
    "\n",
    "\n",
    "#first we are going to handle both ends of outliers.\n",
    "#(determine the min and max cuttoffs for detecting the outlier)\n",
    "q75, q25 = np.percentile(df['engine_capacity_cc'].dropna(), [75 ,25])\n",
    "iqr = q75 - q25\n",
    " \n",
    "ecmin = q25 - (iqr*1.5)\n",
    "ecmax = q75 + (iqr*1.5)\n",
    "\n",
    "print(ecmax)\n",
    "print(ecmin)\n",
    "\n",
    "\n",
    "# To explain, what I am going to do is use the ecmax number for the maximum engine_capacity_cc and ecmin for my engine_capacity_cc. Then I'm going to take the mean of those and use it as my fillna.\n",
    "\n",
    "# In[ ]:\n",
    "\n",
    "\n",
    "df = df[df['engine_capacity_cc']<=ecmax]\n",
    "\n",
    "\n",
    "# In[ ]:\n",
    "\n",
    "\n",
    "df = df[df['engine_capacity_cc']>=ecmin]\n",
    "\n",
    "\n",
    "# In[ ]:\n",
    "\n",
    "\n",
    "df['engine_capacity_cc'].hist(bins=20)\n",
    "plt.style.use('dark_background')\n",
    "\n",
    "\n",
    "# We can accept this distribution and will now check and handle their nulls\n",
    "\n",
    "# In[ ]:\n",
    "\n",
    "\n",
    "#check values of 'engine_capacity_cc'\n",
    "df['engine_capacity_cc'].describe()\n",
    "\n",
    "\n",
    "# Below code is to round this mean value\n",
    "\n",
    "# In[ ]:\n",
    "\n",
    "\n",
    "df['engine_capacity_cc'].mean()\n",
    "\n",
    "\n",
    "# In[ ]:\n",
    "\n",
    "\n",
    "df['engine_capacity_cc'].fillna(1652, inplace=True)\n",
    "\n",
    "\n",
    "# In[ ]:\n",
    "\n",
    "\n",
    "df.isnull().sum().sort_values(ascending=False)/df.shape[0]*100\n",
    "\n",
    "\n",
    "# Note: After doing the above null fixes, propulsion_code dropped from having 10% null values to 0. (see below). I will continue on and fix lsoa_of_accident_location then drop the rest of the null values with are all <5%.\n",
    "\n",
    "# In[ ]:\n",
    "\n",
    "\n",
    "df.isnull().sum().sort_values(ascending=False)/df.shape[0]*100\n",
    "\n",
    "\n",
    "# #### lsoa_of_accident_location\n",
    "\n",
    "# In[ ]:\n",
    "\n",
    "\n",
    "# #lsoa_of_accident_location\n",
    "df['lsoa_of_accident_location'].value_counts()\n",
    "\n",
    "\n",
    "# In[ ]:\n",
    "\n",
    "\n",
    "df['lsoa_of_accident_location'].describe()\n",
    "\n",
    "\n",
    "# With numerous unique variable and a high count amount the top variables we are deciding to do ffill again.\n",
    "\n",
    "# In[ ]:\n",
    "\n",
    "\n",
    "df['lsoa_of_accident_location'].fillna(method='ffill', inplace=True)\n",
    "\n",
    "\n",
    "# In[ ]:\n",
    "\n",
    "\n",
    "#### Check nulls for again\n",
    "df.isnull().sum().sort_values(ascending=False)/df.shape[0]*100\n",
    "\n",
    "\n",
    "# Dropping the remaining nulls that are <1%.\n",
    "\n",
    "# In[ ]:\n",
    "\n",
    "\n",
    "#drop the remaining nulls that are <1%\n",
    "df.dropna(inplace=True)\n",
    "\n",
    "#last check\n",
    "df.isnull().sum().sort_values(ascending=False)/df.shape[0]*100\n",
    "\n",
    "\n",
    "# In[ ]:\n",
    "\n",
    "\n",
    "df.shape\n",
    "\n",
    "\n",
    "# In[ ]:\n",
    "\n",
    "\n",
    "df.info()\n",
    "\n",
    "\n",
    "# #### More outliers, categorizing, and other cleanup\n",
    "\n",
    "# In[ ]:\n",
    "\n",
    "\n",
    "#detecting outliers of numerical columns (all floats/ints excluding lat/long and year)\n",
    "\n",
    "df_num = df[['engine_capacity_cc','number_of_casualties','number_of_vehicles','speed_limit']]\n",
    "\n",
    "\n",
    "# In[ ]:\n",
    "\n",
    "\n",
    "df_num.hist( bins=25, grid=False, figsize=(12,8))\n",
    "plt.style.use('dark_background')\n",
    "\n",
    "\n",
    "# In[ ]:\n",
    "\n",
    "\n",
    "# #number_of_casualties\n",
    "df['number_of_casualties'].value_counts()\n",
    "\n",
    "\n",
    "# In[ ]:\n",
    "\n",
    "\n",
    "\n",
    "\n",
    "\n",
    "# In[ ]:\n",
    "\n",
    "\n",
    "\n",
    "\n",
    "\n",
    "# In[ ]:\n",
    "\n",
    "\n",
    "\n",
    "\n"
   ]
  },
  {
   "cell_type": "code",
   "execution_count": 7,
   "id": "338d0d90",
   "metadata": {},
   "outputs": [],
   "source": [
    "df = df.drop(columns=['longitude', 'latitude'])"
   ]
  },
  {
   "cell_type": "code",
   "execution_count": 8,
   "id": "bd042ddf",
   "metadata": {},
   "outputs": [],
   "source": [
    "class_data = df[['accident_severity']].copy()"
   ]
  },
  {
   "cell_type": "code",
   "execution_count": 9,
   "id": "f3dfe147",
   "metadata": {},
   "outputs": [],
   "source": [
    "from sklearn.preprocessing import OrdinalEncoder\n",
    "enc = OrdinalEncoder(handle_unknown='ignore')"
   ]
  },
  {
   "cell_type": "code",
   "execution_count": 10,
   "id": "aa4b6b36",
   "metadata": {},
   "outputs": [],
   "source": [
    "enc2 = OrdinalEncoder(handle_unknown='ignore')\n",
    "enc2.fit(class_data)\n",
    "enc_class_data = enc2.transform(class_data)"
   ]
  },
  {
   "cell_type": "code",
   "execution_count": 11,
   "id": "fda11f8d",
   "metadata": {},
   "outputs": [],
   "source": [
    "#print(enc_cat_data.shape)\n",
    "class_df = pd.DataFrame(data=enc_class_data, columns=['label'])"
   ]
  },
  {
   "cell_type": "code",
   "execution_count": 49,
   "id": "2c2e43f1",
   "metadata": {},
   "outputs": [],
   "source": [
    "df_slight = df[df.accident_severity =='Slight']\n",
    "df_serious = df[df.accident_severity =='Serious']\n",
    "df_fatal = df[df.accident_severity == 'Fatal']"
   ]
  },
  {
   "cell_type": "code",
   "execution_count": 55,
   "id": "09287722",
   "metadata": {},
   "outputs": [
    {
     "name": "stdout",
     "output_type": "stream",
     "text": [
      "1363929\n",
      "193604\n",
      "19709\n"
     ]
    }
   ],
   "source": [
    "print(df_slight['accident_severity'].count())\n",
    "print(df_serious['accident_severity'].count())\n",
    "print(df_fatal['accident_severity'].count())"
   ]
  },
  {
   "cell_type": "code",
   "execution_count": null,
   "id": "08d2aacd",
   "metadata": {},
   "outputs": [],
   "source": [
    "####### DATA READY #######"
   ]
  },
  {
   "cell_type": "code",
   "execution_count": 177,
   "id": "2efff8f5",
   "metadata": {},
   "outputs": [],
   "source": [
    "X_train, X_test, y_train, y_test = train_test_split(df, \n",
    "                                                    class_df,test_size=0.2, \n",
    "                                                    random_state=6)"
   ]
  },
  {
   "cell_type": "code",
   "execution_count": 178,
   "id": "1ec907ae",
   "metadata": {},
   "outputs": [
    {
     "data": {
      "text/plain": [
       "Slight     1091130\n",
       "Serious     154888\n",
       "Fatal        15775\n",
       "Name: accident_severity, dtype: int64"
      ]
     },
     "execution_count": 178,
     "metadata": {},
     "output_type": "execute_result"
    }
   ],
   "source": [
    "X_train['accident_severity'].value_counts()  ### Highly skewed training data"
   ]
  },
  {
   "cell_type": "code",
   "execution_count": 199,
   "id": "4effe481",
   "metadata": {},
   "outputs": [
    {
     "data": {
      "text/plain": [
       "<AxesSubplot:>"
      ]
     },
     "execution_count": 199,
     "metadata": {},
     "output_type": "execute_result"
    },
    {
     "data": {
      "image/png": "[encoded data removed]",
      "text/plain": [
       "<Figure size 432x288 with 1 Axes>"
      ]
     },
     "metadata": {},
     "output_type": "display_data"
    }
   ],
   "source": [
    "X_train['accident_severity'].hist(bins=20)"
   ]
  },
  {
   "cell_type": "code",
   "execution_count": 179,
   "id": "0c463c82",
   "metadata": {},
   "outputs": [],
   "source": [
    "X_train_fatal = X_train[X_train['accident_severity'] == 'Fatal']\n",
    "X_train_slight = X_train[X_train['accident_severity'] == 'Slight']\n",
    "X_train_serious = X_train[X_train['accident_severity'] == 'Serious']"
   ]
  },
  {
   "cell_type": "code",
   "execution_count": 180,
   "id": "53ba64b7",
   "metadata": {},
   "outputs": [],
   "source": [
    "## Resample to avoid imbalance ##\n",
    "from sklearn.utils import resample\n",
    "X_train_slight_resample = resample(X_train_slight, replace=False, n_samples=200000, random_state=5)\n",
    "#X_train_serious_resample = resample(X_train_serious, replace=False, n_samples=80000, random_state=15)\n",
    "X_train_usampled = pd.concat([X_train_slight_resample, X_train_serious, X_train_fatal])\n",
    "y_train_dec = X_train_usampled[['accident_severity']].copy()\n",
    "enc2 = OrdinalEncoder(handle_unknown='ignore')\n",
    "enc2.fit(y_train_dec)\n",
    "enc_y_train = enc2.transform(y_train_dec)\n",
    "y_train = pd.DataFrame(data = enc_y_train, columns=['labels'])\n",
    "X_train_final = X_train_usampled.drop('accident_severity', axis=1)\n",
    "enc.fit(X_train_final)\n",
    "enc_cat_data = enc.transform(X_train_final)\n",
    "X_train_conv = pd.DataFrame(data=enc_cat_data, columns=X_train_final.columns)"
   ]
  },
  {
   "cell_type": "code",
   "execution_count": 181,
   "id": "b9ed0615",
   "metadata": {},
   "outputs": [],
   "source": [
    "X_test = X_test.drop('accident_severity', axis=1)\n",
    "#enc.fit(X_test_cat)\n",
    "enc_cat_data_test = enc.transform(X_test)\n",
    "X_test_conv = pd.DataFrame(data=enc_cat_data_test, columns=X_test.columns)"
   ]
  },
  {
   "cell_type": "code",
   "execution_count": 200,
   "id": "bfc3af96",
   "metadata": {},
   "outputs": [
    {
     "name": "stdout",
     "output_type": "stream",
     "text": [
      "(315449, 51)\n",
      "(370663, 51)\n"
     ]
    }
   ],
   "source": [
    "print(X_test_conv.shape)\n",
    "print(X_train_conv.shape)"
   ]
  },
  {
   "cell_type": "markdown",
   "id": "6ffd2a33",
   "metadata": {},
   "source": [
    "# Naive Bayes classifier"
   ]
  },
  {
   "cell_type": "code",
   "execution_count": 182,
   "id": "80e6b126",
   "metadata": {},
   "outputs": [
    {
     "data": {
      "text/plain": [
       "CategoricalNB()"
      ]
     },
     "execution_count": 182,
     "metadata": {},
     "output_type": "execute_result"
    }
   ],
   "source": [
    "from sklearn.naive_bayes import CategoricalNB\n",
    "naive_bayes = CategoricalNB()\n",
    "naive_bayes.fit(X_train_conv,y_train)"
   ]
  },
  {
   "cell_type": "code",
   "execution_count": 183,
   "id": "13dfdf2b",
   "metadata": {},
   "outputs": [
    {
     "data": {
      "text/plain": [
       "0.7151647334434409"
      ]
     },
     "execution_count": 183,
     "metadata": {},
     "output_type": "execute_result"
    }
   ],
   "source": [
    "predict_cat = naive_bayes.predict(X_test_conv)\n",
    "naive_bayes.score(X_test_conv, y_test)"
   ]
  },
  {
   "cell_type": "code",
   "execution_count": 184,
   "id": "48f28767",
   "metadata": {},
   "outputs": [
    {
     "data": {
      "text/plain": [
       "<sklearn.metrics._plot.confusion_matrix.ConfusionMatrixDisplay at 0x7fae02450100>"
      ]
     },
     "execution_count": 184,
     "metadata": {},
     "output_type": "execute_result"
    },
    {
     "data": {
      "image/png": "[encoded data removed]",
      "text/plain": [
       "<Figure size 432x288 with 2 Axes>"
      ]
     },
     "metadata": {},
     "output_type": "display_data"
    }
   ],
   "source": [
    "from sklearn.metrics import plot_confusion_matrix\n",
    "plot_confusion_matrix(naive_bayes, X_test_conv, y_test) "
   ]
  },
  {
   "cell_type": "code",
   "execution_count": 142,
   "id": "b71c2cb2",
   "metadata": {},
   "outputs": [
    {
     "name": "stdout",
     "output_type": "stream",
     "text": [
      "[ 7.08830905e-04 -1.51910451e-03 -3.98796636e-03 -2.14044109e-03\n",
      " -1.19195179e-04  5.76955387e-04  1.20463213e-05 -1.47091923e-03\n",
      " -5.04487255e-03 -5.42528269e-03  7.51310037e-04 -7.55874959e-03\n",
      " -7.69633126e-03 -2.33064616e-03 -8.78113419e-04  1.86083963e-03\n",
      " -2.09225580e-05 -2.13917305e-03 -5.82788343e-03 -2.75163339e-04\n",
      " -2.23237354e-03  2.57410865e-04 -3.72865344e-03  9.97308598e-04\n",
      " -4.70820957e-03 -2.32050189e-04 -2.76431372e-04 -3.48709300e-05\n",
      " -3.16120831e-03 -8.62897013e-04  1.15391077e-04 -7.03124752e-04\n",
      " -3.91822450e-04  2.46442373e-03  9.44685195e-05  1.76003094e-03\n",
      " -1.69916532e-04 -4.68601898e-03  2.28499694e-03  1.42273394e-03\n",
      "  1.74988667e-04  7.09464921e-04  1.72452599e-03 -2.59946933e-05\n",
      "  1.50135204e-03 -4.94533189e-05 -2.61848984e-04 -5.70615218e-04\n",
      "  3.40213473e-03 -2.53606764e-06  6.03584098e-04]\n"
     ]
    }
   ],
   "source": [
    "from sklearn.inspection import permutation_importance\n",
    "imps = permutation_importance(naive_bayes, X_test_conv, y_test)\n",
    "print(imps.importances_mean)"
   ]
  },
  {
   "cell_type": "code",
   "execution_count": 21,
   "id": "916bcdb5",
   "metadata": {},
   "outputs": [
    {
     "data": {
      "text/plain": [
       "(315449, 51)"
      ]
     },
     "execution_count": 21,
     "metadata": {},
     "output_type": "execute_result"
    }
   ],
   "source": [
    "X_test_conv.shape"
   ]
  },
  {
   "cell_type": "code",
   "execution_count": 147,
   "id": "1ba0e465",
   "metadata": {
    "scrolled": true
   },
   "outputs": [
    {
     "name": "stdout",
     "output_type": "stream",
     "text": [
      "(51,)\n",
      "Feature ranking:\n",
      "1. vehicle_type (0.003402)\n",
      "2. engine_capacity_cc (0.002464)\n",
      "3. make (0.002285)\n",
      "4. number_of_vehicles (0.001861)\n",
      "5. hit_object_off_carriageway (0.001760)\n",
      "6. skidding_and_overturning (0.001725)\n",
      "7. vehicle_leaving_carriageway (0.001501)\n",
      "8. model (0.001423)\n",
      "9. time (0.000997)\n",
      "10. light_conditions (0.000751)\n",
      "11. sex_of_driver (0.000709)\n",
      "12. accident_index (0.000709)\n",
      "13. x1st_point_of_impact (0.000604)\n",
      "14. date (0.000577)\n",
      "15. special_conditions_at_site (0.000257)\n",
      "16. propulsion_code (0.000175)\n",
      "17. age_of_vehicle (0.000115)\n",
      "18. hit_object_in_carriageway (0.000094)\n",
      "19. day_of_week (0.000012)\n",
      "20. was_vehicle_left_hand_drive (-0.000003)\n",
      "21. pedestrian_crossing-human_control (-0.000021)\n",
      "22. towing_and_articulation (-0.000026)\n",
      "23. inscotland (-0.000035)\n",
      "24. vehicle_locationrestricted_lane (-0.000049)\n",
      "25. carriageway_hazards (-0.000119)\n",
      "26. journey_purpose_of_driver (-0.000170)\n",
      "27. weather_conditions (-0.000232)\n",
      "28. vehicle_manoeuvre (-0.000262)\n",
      "29. road_surface_conditions (-0.000275)\n",
      "30. year (-0.000276)\n",
      "31. driver_imd_decile (-0.000392)\n",
      "32. vehicle_reference (-0.000571)\n",
      "33. driver_home_area_type (-0.000703)\n",
      "34. age_band_of_driver (-0.000863)\n",
      "35. number_of_casualties (-0.000878)\n",
      "36. did_police_officer_attend_scene_of_accident (-0.001471)\n",
      "37. 1st_road_class (-0.001519)\n",
      "38. pedestrian_crossing-physical_facilities (-0.002139)\n",
      "39. 2nd_road_number (-0.002140)\n",
      "40. road_type (-0.002232)\n",
      "41. lsoa_of_accident_location (-0.002331)\n",
      "42. area (-0.003161)\n",
      "43. speed_limit (-0.003729)\n",
      "44. 1st_road_number (-0.003988)\n",
      "45. junction_location (-0.004686)\n",
      "46. urban_or_rural_area (-0.004708)\n",
      "47. junction_control (-0.005045)\n",
      "48. junction_detail (-0.005425)\n",
      "49. police_force (-0.005828)\n",
      "50. local_authority_district (-0.007559)\n",
      "51. local_authority_highway (-0.007696)\n"
     ]
    }
   ],
   "source": [
    "indices = np.argsort(imps.importances_mean)[::-1]\n",
    "print(indices.shape)\n",
    "print(\"Feature ranking:\")\n",
    "\n",
    "for f in range(X_test_conv.shape[1]):\n",
    "    print(\"%d. %s (%f)\" % (f + 1, X_test.columns[indices[f]], imps.importances_mean[indices[f]]))"
   ]
  },
  {
   "cell_type": "markdown",
   "id": "c4e7a5ff",
   "metadata": {},
   "source": [
    "# KNN classifier"
   ]
  },
  {
   "cell_type": "code",
   "execution_count": 185,
   "id": "9a8d7943",
   "metadata": {},
   "outputs": [],
   "source": [
    "from sklearn.model_selection import train_test_split, StratifiedKFold\n",
    "from sklearn.neighbors import KNeighborsClassifier\n",
    "from sklearn.preprocessing import StandardScaler\n",
    "\n",
    "#X_train, X_holdout, y_train, y_holdout = train_test_split(df.values, y, test_size=0.3,\n",
    "#random_state=17)\n",
    "\n",
    "knn = KNeighborsClassifier(n_neighbors=9)\n",
    "\n",
    "#tree.fit(X_train, y_train)\n",
    "\n",
    "# for kNN, we need to scale features\n",
    "scaler = StandardScaler()\n",
    "X_train_scaled = scaler.fit_transform(X_train_conv)\n",
    "X_test_scaled = scaler.transform(X_test_conv)\n",
    "\n",
    "#knn.fit(X_train_scaled, y_train)"
   ]
  },
  {
   "cell_type": "code",
   "execution_count": 186,
   "id": "68b1539b",
   "metadata": {},
   "outputs": [],
   "source": [
    "## Dimensionality reduction for knn\n",
    "pca = PCA(n_components=10)\n",
    "pca.fit(X_train_scaled)\n",
    "X_train_red = pca.fit_transform(X_train_scaled)\n",
    "X_test_red = pca.fit_transform(X_test_scaled)"
   ]
  },
  {
   "cell_type": "code",
   "execution_count": 187,
   "id": "51b343fd",
   "metadata": {},
   "outputs": [],
   "source": [
    "## Fit KNN ###\n",
    "knn.fit(X_train_red, y_train)\n",
    "knn_predict = knn.predict(X_test_red)"
   ]
  },
  {
   "cell_type": "code",
   "execution_count": 188,
   "id": "4ee0f9fb",
   "metadata": {},
   "outputs": [
    {
     "name": "stdout",
     "output_type": "stream",
     "text": [
      " Accuracy for k-nn is 0.5810986879020064\n"
     ]
    }
   ],
   "source": [
    "print (f\" Accuracy for k-nn is {accuracy_score(y_test, knn_predict)}\")"
   ]
  },
  {
   "cell_type": "code",
   "execution_count": 189,
   "id": "b79f1797",
   "metadata": {},
   "outputs": [
    {
     "data": {
      "text/plain": [
       "<sklearn.metrics._plot.confusion_matrix.ConfusionMatrixDisplay at 0x7fabf4b198b0>"
      ]
     },
     "execution_count": 189,
     "metadata": {},
     "output_type": "execute_result"
    },
    {
     "data": {
      "image/png": "[encoded data removed]",
      "text/plain": [
       "<Figure size 432x288 with 2 Axes>"
      ]
     },
     "metadata": {},
     "output_type": "display_data"
    }
   ],
   "source": [
    "from sklearn.metrics import plot_confusion_matrix\n",
    "plot_confusion_matrix(knn, X_test_red, y_test)"
   ]
  },
  {
   "cell_type": "code",
   "execution_count": 190,
   "id": "9549513d",
   "metadata": {},
   "outputs": [],
   "source": [
    "## Trying with differnt k values ##\n",
    "knn3 = KNeighborsClassifier(n_neighbors=3)\n",
    "knn7 = KNeighborsClassifier(n_neighbors=7)\n",
    "knn9 = KNeighborsClassifier(n_neighbors=5)\n",
    "knn3.fit(X_train_red, y_train)\n",
    "knn7.fit(X_train_red, y_train)\n",
    "knn9.fit(X_train_red, y_train)\n",
    "\n",
    "knn_predict3 = knn3.predict(X_test_red)\n",
    "knn_predict7 = knn7.predict(X_test_red)\n",
    "knn_predict9 = knn9.predict(X_test_red)"
   ]
  },
  {
   "cell_type": "code",
   "execution_count": 191,
   "id": "f6ccef79",
   "metadata": {},
   "outputs": [
    {
     "name": "stdout",
     "output_type": "stream",
     "text": [
      " Accuracy for k-nn with k = 3 is 0.5442306046302254\n",
      " Accuracy for k-nn with k = 7 is 0.5726187117410422\n",
      " Accuracy for k-nn with k = 9 is 0.5575259392167989\n"
     ]
    }
   ],
   "source": [
    "print (f\" Accuracy for k-nn with k = 3 is {accuracy_score(y_test, knn_predict3)}\")\n",
    "print (f\" Accuracy for k-nn with k = 7 is {accuracy_score(y_test, knn_predict7)}\")\n",
    "print (f\" Accuracy for k-nn with k = 9 is {accuracy_score(y_test, knn_predict9)}\")"
   ]
  },
  {
   "cell_type": "code",
   "execution_count": 192,
   "id": "b07b6aac",
   "metadata": {},
   "outputs": [],
   "source": [
    "knn1 = KNeighborsClassifier(n_neighbors=1)\n",
    "knn11 = KNeighborsClassifier(n_neighbors=11)\n",
    "knn1.fit(X_train_red, y_train)\n",
    "knn11.fit(X_train_red, y_train)\n",
    "\n",
    "knn_predict1 = knn1.predict(X_test_red)\n",
    "knn_predict11 = knn11.predict(X_test_red)"
   ]
  },
  {
   "cell_type": "code",
   "execution_count": 193,
   "id": "18d6ce01",
   "metadata": {},
   "outputs": [
    {
     "name": "stdout",
     "output_type": "stream",
     "text": [
      " Accuracy for k-nn with k = 1 is 0.5307165342099673\n",
      " Accuracy for k-nn with k = 11 is 0.5870140656651313\n"
     ]
    }
   ],
   "source": [
    "print (f\" Accuracy for k-nn with k = 1 is {accuracy_score(y_test, knn_predict1)}\")\n",
    "print (f\" Accuracy for k-nn with k = 11 is {accuracy_score(y_test, knn_predict11)}\")"
   ]
  },
  {
   "cell_type": "code",
   "execution_count": 194,
   "id": "57321ecd",
   "metadata": {},
   "outputs": [],
   "source": [
    "knn17 = KNeighborsClassifier(n_neighbors=17)\n",
    "knn21 = KNeighborsClassifier(n_neighbors=21)\n",
    "knn17.fit(X_train_red, y_train)\n",
    "knn21.fit(X_train_red, y_train)\n",
    "\n",
    "knn_predict17 = knn1.predict(X_test_red)\n",
    "knn_predict21 = knn11.predict(X_test_red)"
   ]
  },
  {
   "cell_type": "code",
   "execution_count": 195,
   "id": "3437458f",
   "metadata": {},
   "outputs": [
    {
     "name": "stdout",
     "output_type": "stream",
     "text": [
      " Accuracy for k-nn with k = 17 is 0.5307165342099673\n",
      " Accuracy for k-nn with k = 21 is 0.5870140656651313\n"
     ]
    }
   ],
   "source": [
    "print (f\" Accuracy for k-nn with k = 17 is {accuracy_score(y_test, knn_predict17)}\")\n",
    "print (f\" Accuracy for k-nn with k = 21 is {accuracy_score(y_test, knn_predict21)}\")"
   ]
  },
  {
   "cell_type": "code",
   "execution_count": 196,
   "id": "168a6432",
   "metadata": {},
   "outputs": [
    {
     "data": {
      "text/plain": [
       "<sklearn.metrics._plot.confusion_matrix.ConfusionMatrixDisplay at 0x7fa93ec92c10>"
      ]
     },
     "execution_count": 196,
     "metadata": {},
     "output_type": "execute_result"
    },
    {
     "data": {
      "image/png": "[encoded data removed]",
      "text/plain": [
       "<Figure size 432x288 with 2 Axes>"
      ]
     },
     "metadata": {},
     "output_type": "display_data"
    },
    {
     "data": {
      "image/png": "[encoded data removed]",
      "text/plain": [
       "<Figure size 432x288 with 2 Axes>"
      ]
     },
     "metadata": {},
     "output_type": "display_data"
    },
    {
     "data": {
      "image/png": "[encoded data removed]",
      "text/plain": [
       "<Figure size 432x288 with 2 Axes>"
      ]
     },
     "metadata": {},
     "output_type": "display_data"
    },
    {
     "data": {
      "image/png": "[encoded data removed]",
      "text/plain": [
       "<Figure size 432x288 with 2 Axes>"
      ]
     },
     "metadata": {},
     "output_type": "display_data"
    },
    {
     "data": {
      "image/png": "[encoded data removed]",
      "text/plain": [
       "<Figure size 432x288 with 2 Axes>"
      ]
     },
     "metadata": {},
     "output_type": "display_data"
    },
    {
     "data": {
      "image/png": "[encoded data removed]",
      "text/plain": [
       "<Figure size 432x288 with 2 Axes>"
      ]
     },
     "metadata": {},
     "output_type": "display_data"
    }
   ],
   "source": [
    "plot_confusion_matrix(knn3, X_test_red, y_test) \n",
    "plot_confusion_matrix(knn7, X_test_red, y_test) \n",
    "plot_confusion_matrix(knn9, X_test_red, y_test) \n",
    "plot_confusion_matrix(knn11, X_test_red, y_test) \n",
    "plot_confusion_matrix(knn17, X_test_red, y_test) \n",
    "plot_confusion_matrix(knn21, X_test_red, y_test) "
   ]
  },
  {
   "cell_type": "code",
   "execution_count": 201,
   "id": "53e1e8c0",
   "metadata": {},
   "outputs": [
    {
     "data": {
      "text/plain": [
       "<sklearn.metrics._plot.confusion_matrix.ConfusionMatrixDisplay at 0x7fade7100040>"
      ]
     },
     "execution_count": 201,
     "metadata": {},
     "output_type": "execute_result"
    },
    {
     "data": {
      "image/png": "[encoded data removed]",
      "text/plain": [
       "<Figure size 432x288 with 2 Axes>"
      ]
     },
     "metadata": {},
     "output_type": "display_data"
    }
   ],
   "source": [
    "plot_confusion_matrix(knn1, X_test_red, y_test)"
   ]
  },
  {
   "cell_type": "code",
   "execution_count": null,
   "id": "d543b953",
   "metadata": {},
   "outputs": [],
   "source": [
    "######## END ##########"
   ]
  },
  {
   "cell_type": "code",
   "execution_count": null,
   "id": "4cd38405",
   "metadata": {},
   "outputs": [],
   "source": []
  }
 ],
 "metadata": {
  "kernelspec": {
   "display_name": "Python 3",
   "language": "python",
   "name": "python3"
  },
  "language_info": {
   "codemirror_mode": {
    "name": "ipython",
    "version": 3
   },
   "file_extension": ".py",
   "mimetype": "text/x-python",
   "name": "python",
   "nbconvert_exporter": "python",
   "pygments_lexer": "ipython3",
   "version": "3.8.8"
  }
 },
 "nbformat": 4,
 "nbformat_minor": 5
}
